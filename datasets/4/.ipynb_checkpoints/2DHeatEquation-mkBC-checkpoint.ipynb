{
 "cells": [
  {
   "cell_type": "code",
   "execution_count": 2,
   "metadata": {
    "collapsed": false
   },
   "outputs": [
    {
     "data": {
      "text/plain": [
       "7920"
      ]
     },
     "execution_count": 2,
     "metadata": {},
     "output_type": "execute_result"
    }
   ],
   "source": [
    "from itertools import permutations\n",
    "#temp_ls=list(combinations([0,5,10,15,20,25,30,35,40,45,50,55, 60,65, 70,75, 80,85, 90,95, 100], 4))\n",
    "#temp_ls=list(combinations([0,20,40,60,80,100], 4))\n",
    "temp_ls=list(permutations([0,10,20,30,40,50,60,70,80,90,100], 4))\n",
    "import os\n",
    "len(temp_ls)\n"
   ]
  },
  {
   "cell_type": "code",
   "execution_count": null,
   "metadata": {
    "collapsed": false
   },
   "outputs": [
    {
     "name": "stdout",
     "output_type": "stream",
     "text": [
      "Iteration finished\n",
      "Iteration finished\n",
      "Iteration finished\n",
      "Iteration finished\n",
      "Iteration finished\n",
      "Iteration finished\n",
      "Iteration finished\n",
      "Iteration finished\n",
      "Iteration finished\n",
      "Iteration finished\n",
      "Iteration finished\n",
      "Iteration finished\n",
      "Iteration finished\n",
      "Iteration finished\n",
      "Iteration finished\n",
      "Iteration finished\n",
      "Iteration finished\n",
      "Iteration finished\n",
      "Iteration finished\n",
      "Iteration finished\n",
      "Iteration finished\n",
      "Iteration finished\n",
      "Iteration finished\n",
      "Iteration finished\n",
      "Iteration finished\n",
      "Iteration finished\n",
      "Iteration finished\n",
      "Iteration finished\n",
      "Iteration finished\n",
      "Iteration finished\n",
      "Iteration finished\n",
      "Iteration finished\n",
      "Iteration finished\n",
      "Iteration finished\n",
      "Iteration finished\n",
      "Iteration finished\n",
      "Iteration finished\n",
      "Iteration finished\n",
      "Iteration finished\n",
      "Iteration finished\n",
      "Iteration finished\n",
      "Iteration finished\n",
      "Iteration finished\n",
      "Iteration finished\n",
      "Iteration finished\n",
      "Iteration finished\n",
      "Iteration finished\n",
      "Iteration finished\n",
      "Iteration finished\n",
      "Iteration finished\n",
      "Iteration finished\n",
      "Iteration finished\n",
      "Iteration finished\n",
      "Iteration finished\n",
      "Iteration finished\n",
      "Iteration finished\n"
     ]
    }
   ],
   "source": [
    "# Simple Numerical Laplace Equation Solution using Finite Difference Method\n",
    "\n",
    "import numpy as np\n",
    "import matplotlib.pyplot as plt\n",
    "\n",
    "# Set maximum iteration\n",
    "maxIter = 1500\n",
    "Boundary=-1.0\n",
    "# Set Dimension and delta\n",
    "lenX = lenY = 4#we set it rectangular\n",
    "delta = 1\n",
    "os.mkdir(\"BC\")\n",
    "os.mkdir('field')\n",
    "# Initial guess of interior grid\n",
    "Tguess = 0\n",
    "\n",
    "# Set colour interpolation and colour map\n",
    "colorinterpolation = 50\n",
    "colourMap = plt.cm.jet #you can try: colourMap = plt.cm.coolwarm\n",
    "\n",
    "# Set meshgrid\n",
    "X, Y = np.meshgrid(np.arange(0, lenX), np.arange(0, lenY))\n",
    "\n",
    "# Set array size and set the interior value with Tguess\n",
    "T = np.empty((lenX, lenY))\n",
    "T.fill(Tguess)\n",
    "# Boundary condition\n",
    "#Ttop = 100\n",
    "#Tbottom = 0\n",
    "#Tleft = 0\n",
    "#Tright = 0\n",
    "#setting BC\n",
    "\n",
    "for x in temp_ls:\n",
    "    T.fill(Tguess)\n",
    "    Ttop,Tbottom, Tleft,Tright=x# Set Boundary condition\n",
    "    T[(lenY-1):, :] = Ttop\n",
    "    T[:1, :] = Tbottom\n",
    "    T[:, (lenX-1):] = Tright\n",
    "    T[:, :1] = Tleft\n",
    "    #T[(lenY-1):, :] = Boundary\n",
    "    #T[:1, :] = Boundary\n",
    "    #T[:, (lenX-1):] = Boundary\n",
    "    #T[:, :1] = Boundary\n",
    "    np.savetxt(\"BC/%s-%s-%s-%s.csv\"%(Ttop, Tbottom, Tleft, Tright), T, delimiter=\",\")\n",
    "\n",
    "# Iteration (We assume that the iteration is convergence in maxIter = 500)\n",
    "#print(\"Please wait for a moment\")\n",
    "    for iteration in range(0, maxIter):\n",
    "        for i in range(1, lenX-1, delta):\n",
    "            for j in range(1, lenY-1, delta):\n",
    "                T[i, j] = 0.25 * (T[i+1][j] + T[i-1][j] + T[i][j+1] + T[i][j-1])\n",
    "    np.savetxt(\"field/%s-%s-%s-%s.csv\"%(Ttop, Tbottom, Tleft, Tright), T, delimiter=\",\")\n",
    "    print(\"Iteration finished\")\n",
    "\n",
    "# Configure the contour\n",
    "    plt.title(\"Contour of Temperature\")\n",
    "    plt.contourf(X, Y, T, colorinterpolation, cmap=colourMap)\n",
    "    #Set Colorbar\n",
    "    plt.colorbar()\n",
    "    plt.savefig(\"%s-%s-%s-%s.png\"%(Ttop, Tbottom, Tleft, Tright))\n",
    "    plt.close()\n",
    "# Show the result in the plot window\n",
    "#plt.show()\n",
    "\n",
    "#print(\"\")"
   ]
  },
  {
   "cell_type": "code",
   "execution_count": null,
   "metadata": {
    "collapsed": true
   },
   "outputs": [],
   "source": []
  }
 ],
 "metadata": {
  "kernelspec": {
   "display_name": "Python 3",
   "language": "python",
   "name": "python3"
  },
  "language_info": {
   "codemirror_mode": {
    "name": "ipython",
    "version": 3
   },
   "file_extension": ".py",
   "mimetype": "text/x-python",
   "name": "python",
   "nbconvert_exporter": "python",
   "pygments_lexer": "ipython3",
   "version": "3.6.1"
  }
 },
 "nbformat": 4,
 "nbformat_minor": 2
}
