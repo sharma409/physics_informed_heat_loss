{
 "cells": [
  {
   "cell_type": "code",
   "execution_count": 1,
   "metadata": {},
   "outputs": [],
   "source": [
    "import torch\n",
    "import torch.nn as nn\n",
    "from torch.autograd import Variable\n",
    "import torchvision.datasets as dset\n",
    "import torchvision.transforms as transforms\n",
    "import torch.nn.functional as F\n",
    "import torch.optim as optim\n",
    "from torchvision.utils import save_image\n",
    "\n",
    "import numpy as np\n",
    "import matplotlib.pyplot as plt\n",
    "import functools\n",
    "\n",
    "from networks import UnetGenerator\n",
    "from datasets import loadHeat"
   ]
  },
  {
   "cell_type": "code",
   "execution_count": 2,
   "metadata": {},
   "outputs": [],
   "source": [
    "# Define training parameters\n",
    "batch_size=64\n",
    "learning_rate = 1e-3\n",
    "num_epochs = 200"
   ]
  },
  {
   "cell_type": "code",
   "execution_count": 7,
   "metadata": {},
   "outputs": [],
   "source": [
    "# Input image handling\n",
    "data_size = 16\n",
    "dataset = loadHeat(data_size)\n",
    "dataloader = torch.utils.data.DataLoader(dataset, batch_size=batch_size, shuffle=True)"
   ]
  },
  {
   "cell_type": "code",
   "execution_count": 24,
   "metadata": {},
   "outputs": [
    {
     "name": "stdout",
     "output_type": "stream",
     "text": [
      "Codec (\n",
      "  (conv1): Conv2d(1, 16, kernel_size=(3, 3), stride=(1, 1), padding=(1, 1))\n",
      "  (conv2): Conv2d(16, 32, kernel_size=(3, 3), stride=(1, 1), padding=(1, 1))\n",
      "  (pad): ZeroPad2d (0, 1, 0, 1)\n",
      "  (conv3): Conv2d(32, 4, kernel_size=(3, 3), stride=(1, 1), padding=(1, 1))\n",
      "  (deconv1): ConvTranspose2d(32, 16, kernel_size=(3, 3), stride=(2, 2), padding=(1, 1))\n",
      "  (deconv2): ConvTranspose2d(16, 16, kernel_size=(3, 3), stride=(2, 2), padding=(1, 1))\n",
      "  (deconv3): ConvTranspose2d(16, 16, kernel_size=(4, 4), stride=(1, 1))\n",
      "  (decode_conv): Conv2d(16, 1, kernel_size=(3, 3), stride=(1, 1), padding=(1, 1))\n",
      ")\n"
     ]
    }
   ],
   "source": [
    "# Initialize U-Net (or ResNet) convolutional architecture\n",
    "# net = UnetGenerator(1, 1, 3, 64, norm_layer=functools.partial(nn.BatchNorm2d, affine=True), use_dropout=False, gpu_ids=[]).cuda()\n",
    "\n",
    "class Codec(nn.Module):\n",
    "    # Autoencoder for MNIST images\n",
    "    def __init__(self):\n",
    "        super(Codec, self).__init__()\n",
    "        self.conv1 = nn.Conv2d(1, 16, kernel_size=3, padding=1)\n",
    "        self.conv2 = nn.Conv2d(16, 32, kernel_size=3, padding=1)\n",
    "        self.pad = nn.ZeroPad2d((0,1,0,1))\n",
    "        self.conv3 = nn.Conv2d(32, 4, kernel_size=3, padding=1)\n",
    "        \n",
    "        self.encoded = None # 4x4x4\n",
    "        \n",
    "        self.deconv1 = nn.ConvTranspose2d(32, 16, kernel_size=3, padding=1, stride=2)\n",
    "        self.deconv2 = nn.ConvTranspose2d(16, 16, kernel_size=3, padding=1, stride=2)\n",
    "        self.deconv3 = nn.ConvTranspose2d(16, 16, kernel_size=4)\n",
    "        \n",
    "        self.decode_conv = nn.Conv2d(16, 1, kernel_size=3, padding=1)\n",
    "        \n",
    "    def forward(self, x):\n",
    "        # encoder\n",
    "        x = F.max_pool2d(F.relu(self.conv1(x)), 2)\n",
    "        x = F.max_pool2d(F.relu(self.conv2(x)), 2)\n",
    "        self.encoded = F.max_pool2d(self.pad(F.relu(self.conv3(x))), 2)\n",
    "\n",
    "        # encoded representation is 8x4x4 = 128-dimensional encoding space\n",
    "\n",
    "        # decoder\n",
    "        x = F.relu(self.deconv1(x))\n",
    "        x = F.relu(self.deconv2(x))\n",
    "        x = F.relu(self.deconv3(x))\n",
    "        decoded = F.sigmoid(self.decode_conv(x))\n",
    "        return decoded\n",
    "\n",
    "net = Codec().cuda()\n",
    "print(net)"
   ]
  },
  {
   "cell_type": "code",
   "execution_count": 20,
   "metadata": {},
   "outputs": [
    {
     "data": {
      "text/plain": [
       "torch.Size([1, 1, 16, 16])"
      ]
     },
     "execution_count": 20,
     "metadata": {},
     "output_type": "execute_result"
    }
   ],
   "source": [
    "a = Variable(torch.rand(1,1,data_size,data_size))\n",
    "net(a).data.shape"
   ]
  },
  {
   "cell_type": "code",
   "execution_count": 25,
   "metadata": {},
   "outputs": [],
   "source": [
    "# Define physics loss\n",
    "kernel = Variable(torch.Tensor(np.array([[[[0, 1/4, 0], [1/4, -1, 1/4], [0, 1/4, 0]]]]))).cuda()\n",
    "\n",
    "def physical_loss(img):\n",
    "    return F.conv2d(img, kernel).norm()\n",
    "\n",
    "criterion = physical_loss\n",
    "optimizer = optim.Adam(net.parameters(), lr=learning_rate)"
   ]
  },
  {
   "cell_type": "code",
   "execution_count": 26,
   "metadata": {},
   "outputs": [],
   "source": [
    "# Create output masks\n",
    "center_mask = torch.zeros(dataset[0].shape).unsqueeze(0)\n",
    "center_mask[:,:,:,0] = 1\n",
    "center_mask[:,:,0,:] = 1\n",
    "center_mask[:,:,:,-1] = 1\n",
    "center_mask[:,:,-1,:] = 1\n",
    "\n",
    "boundary_mask = torch.ones(dataset[0].shape).unsqueeze(0)\n",
    "boundary_mask[:,:,:,0] = 0\n",
    "boundary_mask[:,:,0,:] = 0\n",
    "boundary_mask[:,:,:,-1] = 0\n",
    "boundary_mask[:,:,-1,:] = 0\n",
    "\n",
    "center_mask = Variable(center_mask).cuda()\n",
    "boundary_mask = Variable(boundary_mask).cuda()"
   ]
  },
  {
   "cell_type": "code",
   "execution_count": 29,
   "metadata": {},
   "outputs": [
    {
     "data": {
      "application/javascript": [
       "IPython.notebook.set_autosave_interval(100000)"
      ]
     },
     "metadata": {},
     "output_type": "display_data"
    },
    {
     "name": "stdout",
     "output_type": "stream",
     "text": [
      "Autosaving every 100 seconds\n"
     ]
    }
   ],
   "source": [
    "%autosave 100"
   ]
  },
  {
   "cell_type": "code",
   "execution_count": 30,
   "metadata": {},
   "outputs": [
    {
     "name": "stdout",
     "output_type": "stream",
     "text": [
      "epoch [1/200], loss:752.3678\n",
      "epoch [2/200], loss:829.3467\n",
      "epoch [3/200], loss:771.6237\n",
      "epoch [4/200], loss:809.2115\n",
      "epoch [5/200], loss:782.2800\n",
      "epoch [6/200], loss:796.9957\n",
      "epoch [7/200], loss:831.0916\n",
      "epoch [8/200], loss:801.9062\n",
      "epoch [9/200], loss:806.8330\n",
      "epoch [10/200], loss:771.3583\n",
      "epoch [11/200], loss:786.6263\n",
      "epoch [12/200], loss:774.1788\n",
      "epoch [13/200], loss:736.3974\n",
      "epoch [14/200], loss:778.3044\n",
      "epoch [15/200], loss:768.4051\n",
      "epoch [16/200], loss:835.1226\n",
      "epoch [17/200], loss:806.0500\n",
      "epoch [18/200], loss:734.4946\n",
      "epoch [19/200], loss:740.5313\n",
      "epoch [20/200], loss:816.2125\n",
      "epoch [21/200], loss:800.6907\n",
      "epoch [22/200], loss:754.6627\n",
      "epoch [23/200], loss:793.7491\n",
      "epoch [24/200], loss:771.8560\n",
      "epoch [25/200], loss:810.6707\n",
      "epoch [26/200], loss:772.9658\n",
      "epoch [27/200], loss:768.5406\n",
      "epoch [28/200], loss:789.8983\n",
      "epoch [29/200], loss:749.4062\n",
      "epoch [30/200], loss:798.4147\n",
      "epoch [31/200], loss:814.1380\n",
      "epoch [32/200], loss:771.4526\n",
      "epoch [33/200], loss:750.6043\n",
      "epoch [34/200], loss:804.7725\n",
      "epoch [35/200], loss:778.4375\n",
      "epoch [36/200], loss:786.1351\n",
      "epoch [37/200], loss:815.4807\n",
      "epoch [38/200], loss:777.5033\n",
      "epoch [39/200], loss:796.8613\n",
      "epoch [40/200], loss:801.7000\n",
      "epoch [41/200], loss:833.1207\n",
      "epoch [42/200], loss:773.7575\n",
      "epoch [43/200], loss:794.6247\n",
      "epoch [44/200], loss:764.2964\n",
      "epoch [45/200], loss:789.9777\n",
      "epoch [46/200], loss:807.6102\n",
      "epoch [47/200], loss:792.3383\n",
      "epoch [48/200], loss:781.5491\n",
      "epoch [49/200], loss:773.4032\n",
      "epoch [50/200], loss:769.8468\n",
      "epoch [51/200], loss:780.9620\n",
      "epoch [52/200], loss:814.4234\n",
      "epoch [53/200], loss:792.9656\n",
      "epoch [54/200], loss:787.4449\n",
      "epoch [55/200], loss:827.7015\n",
      "epoch [56/200], loss:811.0647\n",
      "epoch [57/200], loss:774.8588\n",
      "epoch [58/200], loss:786.7503\n",
      "epoch [59/200], loss:797.3150\n",
      "epoch [60/200], loss:715.9981\n",
      "epoch [61/200], loss:777.0669\n",
      "epoch [62/200], loss:775.9316\n",
      "epoch [63/200], loss:760.4274\n",
      "epoch [64/200], loss:809.7706\n",
      "epoch [65/200], loss:793.9761\n",
      "epoch [66/200], loss:777.5770\n",
      "epoch [67/200], loss:811.3268\n",
      "epoch [68/200], loss:781.0624\n",
      "epoch [69/200], loss:830.0623\n",
      "epoch [70/200], loss:811.5627\n",
      "epoch [71/200], loss:774.3773\n",
      "epoch [72/200], loss:804.0522\n",
      "epoch [73/200], loss:779.3591\n",
      "epoch [74/200], loss:731.9465\n",
      "epoch [75/200], loss:787.8904\n",
      "epoch [76/200], loss:810.3849\n",
      "epoch [77/200], loss:809.9248\n",
      "epoch [78/200], loss:802.9005\n",
      "epoch [79/200], loss:740.8781\n",
      "epoch [80/200], loss:754.0067\n",
      "epoch [81/200], loss:788.7584\n",
      "epoch [82/200], loss:800.2250\n",
      "epoch [83/200], loss:792.5284\n",
      "epoch [84/200], loss:796.6172\n",
      "epoch [85/200], loss:755.4246\n",
      "epoch [86/200], loss:773.5006\n",
      "epoch [87/200], loss:831.0084\n",
      "epoch [88/200], loss:802.8652\n",
      "epoch [89/200], loss:783.4706\n",
      "epoch [90/200], loss:826.1834\n",
      "epoch [91/200], loss:792.4481\n",
      "epoch [92/200], loss:771.0201\n",
      "epoch [93/200], loss:800.8091\n",
      "epoch [94/200], loss:770.0881\n",
      "epoch [95/200], loss:778.6866\n",
      "epoch [96/200], loss:791.1209\n",
      "epoch [97/200], loss:765.1193\n",
      "epoch [98/200], loss:786.2961\n",
      "epoch [99/200], loss:773.2682\n",
      "epoch [100/200], loss:757.2827\n",
      "epoch [101/200], loss:752.1140\n",
      "epoch [102/200], loss:777.4826\n",
      "epoch [103/200], loss:741.8682\n",
      "epoch [104/200], loss:795.8127\n",
      "epoch [105/200], loss:768.9587\n",
      "epoch [106/200], loss:810.1155\n",
      "epoch [107/200], loss:787.6032\n",
      "epoch [108/200], loss:793.7545\n",
      "epoch [109/200], loss:801.1307\n",
      "epoch [110/200], loss:768.3809\n",
      "epoch [111/200], loss:780.4083\n",
      "epoch [112/200], loss:823.7058\n",
      "epoch [113/200], loss:776.1370\n",
      "epoch [114/200], loss:764.3374\n",
      "epoch [115/200], loss:778.7943\n",
      "epoch [116/200], loss:777.8489\n",
      "epoch [117/200], loss:810.2498\n",
      "epoch [118/200], loss:760.9151\n",
      "epoch [119/200], loss:734.3182\n",
      "epoch [120/200], loss:783.2161\n",
      "epoch [121/200], loss:754.2340\n",
      "epoch [122/200], loss:780.4489\n",
      "epoch [123/200], loss:800.0585\n",
      "epoch [124/200], loss:776.4023\n",
      "epoch [125/200], loss:738.7092\n",
      "epoch [126/200], loss:772.0549\n",
      "epoch [127/200], loss:791.0792\n",
      "epoch [128/200], loss:776.7148\n",
      "epoch [129/200], loss:817.7902\n",
      "epoch [130/200], loss:780.3366\n",
      "epoch [131/200], loss:781.4033\n",
      "epoch [132/200], loss:756.4678\n",
      "epoch [133/200], loss:795.4420\n",
      "epoch [134/200], loss:808.9244\n",
      "epoch [135/200], loss:766.7073\n",
      "epoch [136/200], loss:771.9035\n",
      "epoch [137/200], loss:849.5646\n",
      "epoch [138/200], loss:787.4265\n",
      "epoch [139/200], loss:804.6462\n",
      "epoch [140/200], loss:775.1683\n",
      "epoch [141/200], loss:770.8216\n",
      "epoch [142/200], loss:795.0905\n",
      "epoch [143/200], loss:738.8704\n",
      "epoch [144/200], loss:784.2162\n",
      "epoch [145/200], loss:808.5179\n",
      "epoch [146/200], loss:765.8606\n",
      "epoch [147/200], loss:824.5809\n",
      "epoch [148/200], loss:787.4857\n",
      "epoch [149/200], loss:797.1983\n",
      "epoch [150/200], loss:750.8809\n",
      "epoch [151/200], loss:769.9414\n",
      "epoch [152/200], loss:802.0806\n",
      "epoch [153/200], loss:763.0169\n",
      "epoch [154/200], loss:794.8526\n",
      "epoch [155/200], loss:765.0220\n",
      "epoch [156/200], loss:758.2945\n",
      "epoch [157/200], loss:822.7504\n",
      "epoch [158/200], loss:733.2622\n",
      "epoch [159/200], loss:800.8193\n",
      "epoch [160/200], loss:749.2613\n",
      "epoch [161/200], loss:798.4859\n",
      "epoch [162/200], loss:797.9170\n",
      "epoch [163/200], loss:751.2809\n",
      "epoch [164/200], loss:778.7318\n",
      "epoch [165/200], loss:817.2500\n",
      "epoch [166/200], loss:759.0923\n",
      "epoch [167/200], loss:779.3046\n",
      "epoch [168/200], loss:816.8327\n",
      "epoch [169/200], loss:801.1605\n",
      "epoch [170/200], loss:815.4957\n",
      "epoch [171/200], loss:753.9769\n",
      "epoch [172/200], loss:763.4776\n",
      "epoch [173/200], loss:786.6198\n",
      "epoch [174/200], loss:774.1978\n",
      "epoch [175/200], loss:784.4510\n",
      "epoch [176/200], loss:765.3600\n",
      "epoch [177/200], loss:810.4843\n",
      "epoch [178/200], loss:788.6292\n",
      "epoch [179/200], loss:789.8856\n",
      "epoch [180/200], loss:758.6851\n",
      "epoch [181/200], loss:799.6014\n",
      "epoch [182/200], loss:741.9710\n",
      "epoch [183/200], loss:748.0517\n",
      "epoch [184/200], loss:768.8027\n",
      "epoch [185/200], loss:786.9340\n",
      "epoch [186/200], loss:739.5983\n",
      "epoch [187/200], loss:781.0841\n",
      "epoch [188/200], loss:803.4474\n",
      "epoch [189/200], loss:789.2841\n",
      "epoch [190/200], loss:817.4266\n",
      "epoch [191/200], loss:764.1967\n",
      "epoch [192/200], loss:772.0169\n",
      "epoch [193/200], loss:822.3034\n",
      "epoch [194/200], loss:775.0638\n",
      "epoch [195/200], loss:762.6829\n",
      "epoch [196/200], loss:792.0687\n",
      "epoch [197/200], loss:829.9984\n",
      "epoch [198/200], loss:732.8804\n",
      "epoch [199/200], loss:786.8167\n",
      "epoch [200/200], loss:797.0634\n"
     ]
    }
   ],
   "source": [
    "# Outer training loop\n",
    "## Training loop\n",
    "for epoch in range(num_epochs):\n",
    "    for data in dataloader:\n",
    "        img = Variable(data).cuda()\n",
    "        output = net(img)\n",
    "        output = output*boundary_mask + img*center_mask\n",
    "        loss = criterion(output)\n",
    "        optimizer.zero_grad()\n",
    "        loss.backward()\n",
    "        optimizer.step()\n",
    "    print('epoch [{}/{}], loss:{:.4f}'\n",
    "          .format(epoch+1, num_epochs, loss.data[0]))\n",
    "#     if epoch % 10 == 0:\n",
    "#         train_pic = to_img(img.cpu().data)\n",
    "#         gen_pic = to_img(output.cpu().data)\n",
    "#         save_image(train_pic, './decoded_mnist/image_{}_train.png'.format(epoch))\n",
    "#         save_image(gen_pic, './decoded_mnist/image_{}_gen.png'.format(epoch))"
   ]
  },
  {
   "cell_type": "code",
   "execution_count": null,
   "metadata": {},
   "outputs": [],
   "source": [
    "## Save model"
   ]
  },
  {
   "cell_type": "code",
   "execution_count": 32,
   "metadata": {},
   "outputs": [],
   "source": [
    "# Output image handling\n",
    "# heat = Variable(torch.Tensor(np.loadtxt('datasets/small_data/BC/0-10-20-90.csv', delimiter=','))).cuda()\n",
    "heat = Variable(torch.Tensor(np.loadtxt('datasets/%d/BC/0-10-20-90.csv' % data_size, delimiter=','))).cuda()\n"
   ]
  },
  {
   "cell_type": "code",
   "execution_count": 33,
   "metadata": {},
   "outputs": [],
   "source": [
    "output = net(heat.unsqueeze(0).unsqueeze(0))"
   ]
  },
  {
   "cell_type": "code",
   "execution_count": 34,
   "metadata": {},
   "outputs": [
    {
     "data": {
      "text/plain": [
       "Variable containing:\n",
       "(0 ,0 ,.,.) = \n",
       "\n",
       "Columns 0 to 8 \n",
       "   0.5972  0.9557  0.0603  0.1081  0.1837  0.1049  0.0473  0.0198  0.0216\n",
       "  0.7915  1.0000  0.6571  1.0000  1.0000  1.0000  1.0000  1.0000  1.0000\n",
       "  0.1132  1.0000  0.0000  0.0000  0.0000  0.0000  0.0000  0.0000  0.0000\n",
       "  0.0427  1.0000  0.0000  0.0000  0.0000  0.0000  0.0000  0.0000  0.0000\n",
       "  0.0062  1.0000  0.0000  0.0000  0.0000  0.0000  0.0000  0.0000  0.0000\n",
       "  0.0169  1.0000  0.0000  0.0000  0.0000  0.0000  0.0000  0.0000  0.0000\n",
       "  0.0011  1.0000  0.0000  0.0000  0.0000  0.0000  0.0000  0.0000  0.0000\n",
       "  0.0004  1.0000  0.0000  0.0000  0.0000  0.0000  0.0000  0.0000  0.0000\n",
       "  0.0004  1.0000  0.0000  0.0000  0.0000  0.0000  0.0000  0.0000  0.0000\n",
       "  0.0007  1.0000  0.0000  0.0000  0.0000  0.0000  0.0000  0.0000  0.0000\n",
       "  0.0009  1.0000  0.0000  0.0000  0.0000  0.0000  0.0000  0.0000  0.0000\n",
       "  0.0001  1.0000  0.0000  0.0000  0.0000  0.0000  0.0000  0.0000  0.0000\n",
       "  0.0086  1.0000  0.0000  0.0000  0.0000  0.0000  0.0000  0.0000  0.0000\n",
       "  0.0016  1.0000  0.0000  0.0000  0.0000  0.0000  0.0000  0.0000  0.0000\n",
       "  0.1900  1.0000  0.0000  0.0000  0.0000  0.0000  0.0000  0.0000  0.0000\n",
       "  0.2773  0.9998  0.0000  0.0000  0.0000  0.0000  0.0000  0.0000  0.0000\n",
       "\n",
       "Columns 9 to 15 \n",
       "   0.0862  0.9868  1.0000  0.9993  0.0000  1.0000  0.4147\n",
       "  1.0000  1.0000  1.0000  1.0000  0.0000  1.0000  0.0094\n",
       "  0.0000  0.0000  0.0000  0.0000  0.0000  1.0000  0.1003\n",
       "  0.0000  0.0000  0.0000  0.0000  0.0000  1.0000  0.0020\n",
       "  0.0000  0.0000  0.0000  0.0000  0.0000  1.0000  0.0063\n",
       "  0.0000  0.0000  0.0000  0.0000  0.0000  1.0000  0.0179\n",
       "  0.0000  0.0000  0.0000  0.0000  0.0000  1.0000  0.2805\n",
       "  0.0000  0.0000  0.0000  0.0000  0.0000  1.0000  0.0054\n",
       "  0.0000  0.0000  0.0000  0.0000  0.0000  1.0000  0.0100\n",
       "  0.0000  0.0000  0.0000  0.0000  0.0000  1.0000  0.0228\n",
       "  0.0000  0.0000  0.0000  0.0000  0.0000  1.0000  0.2967\n",
       "  0.0000  0.0000  0.0000  0.0000  0.0000  1.0000  0.0080\n",
       "  0.0000  0.0000  0.0000  0.0000  0.0000  1.0000  0.0051\n",
       "  0.0000  0.0000  0.0000  0.0000  0.0000  1.0000  0.8680\n",
       "  0.0000  0.0000  0.0000  0.0000  0.0000  1.0000  0.9975\n",
       "  0.0000  0.0131  0.9996  0.9999  0.0000  1.0000  0.9351\n",
       "[torch.cuda.FloatTensor of size 1x1x16x16 (GPU 0)]"
      ]
     },
     "execution_count": 34,
     "metadata": {},
     "output_type": "execute_result"
    }
   ],
   "source": [
    "output"
   ]
  },
  {
   "cell_type": "code",
   "execution_count": 35,
   "metadata": {},
   "outputs": [
    {
     "data": {
      "image/png": "[encoded data removed]",
      "text/plain": [
       "<matplotlib.figure.Figure at 0x7f987e861518>"
      ]
     },
     "metadata": {},
     "output_type": "display_data"
    }
   ],
   "source": [
    "plt.figure(figsize=(10,10))\n",
    "XX, YY = np.meshgrid(np.arange(0, dataset[0].shape[-1]), np.arange(0, dataset[0].shape[-1]))\n",
    "plt.contourf(XX, YY, output.cpu().data.numpy()[0,0,:,:], colorinterpolation=50, cmap=plt.cm.jet)\n",
    "# plt.imshow(output.cpu().data.numpy()[0,0,:,:])\n",
    "plt.show()"
   ]
  },
  {
   "cell_type": "markdown",
   "metadata": {},
   "source": [
    "---\n",
    "\n",
    "---\n",
    "\n",
    "---\n",
    "\n",
    "---\n",
    "\n",
    "---\n",
    "\n",
    "---\n",
    "# Miscellaneous Tests"
   ]
  },
  {
   "cell_type": "code",
   "execution_count": 2,
   "metadata": {},
   "outputs": [],
   "source": [
    "kernel_ = np.array([[0, 1/4, 0], [1/4, -1, 1/4], [0, 1/4, 0]])\n",
    "kernel = Variable(torch.Tensor(kernel_))\n",
    "img = Variable(torch.rand(10,10))\n",
    "\n",
    "def physical_loss(img):\n",
    "#     return F.conv2d((img.unsqueeze(0)).unsqueeze(0), kernel.unsqueeze(0).unsqueeze(0)).norm()\n",
    "    return F.conv2d((img.unsqueeze(0)).unsqueeze(0), kernel.unsqueeze(0).unsqueeze(0))"
   ]
  },
  {
   "cell_type": "code",
   "execution_count": 4,
   "metadata": {},
   "outputs": [
    {
     "data": {
      "text/plain": [
       "Variable containing:\n",
       "(0 ,0 ,.,.) = \n",
       "  0.0292  0.3121 -0.2342 -0.1250 -0.2445 -0.3733 -0.2806 -0.1527\n",
       " -0.1400  0.0060  0.4090 -0.1374  0.3424  0.0427  0.4813 -0.0692\n",
       " -0.4020  0.5477 -0.7780  0.2630  0.0718  0.2802  0.2284 -0.6202\n",
       "  0.1652 -0.6265  0.2452  0.3149 -0.2875 -0.3081 -0.1356  0.6590\n",
       " -0.3522  0.6148 -0.2975  0.1686 -0.2690 -0.1233  0.1784 -0.2472\n",
       " -0.0768 -0.2584  0.2547  0.2669 -0.1479  0.3965  0.1607  0.1083\n",
       " -0.4120  0.3863  0.2018 -0.5286  0.2726 -0.0041 -0.4462  0.2418\n",
       "  0.5019  0.2671 -0.2837 -0.2454 -0.3699 -0.2484  0.1922  0.3512\n",
       "[torch.FloatTensor of size 1x1x8x8]"
      ]
     },
     "execution_count": 4,
     "metadata": {},
     "output_type": "execute_result"
    }
   ],
   "source": [
    "physical_loss(img)"
   ]
  },
  {
   "cell_type": "code",
   "execution_count": 5,
   "metadata": {},
   "outputs": [
    {
     "data": {
      "text/plain": [
       "Variable containing:\n",
       " 20.0000  10.0000  10.0000  ...   10.0000  10.0000  90.0000\n",
       " 20.0000  15.0134  13.0503  ...   34.1378  49.9750  90.0000\n",
       " 20.0000  17.0032  15.0536  ...   49.8999  65.7621  90.0000\n",
       "           ...               ⋱              ...            \n",
       " 20.0000  13.9912  10.0765  ...   44.9228  62.7501  90.0000\n",
       " 20.0000  10.0191   6.0853  ...   27.1727  44.9807  90.0000\n",
       " 20.0000   0.0000   0.0000  ...    0.0000   0.0000  90.0000\n",
       "[torch.FloatTensor of size 64x64]"
      ]
     },
     "execution_count": 5,
     "metadata": {},
     "output_type": "execute_result"
    }
   ],
   "source": [
    "# Heat is true ground truth solution\n",
    "heat_ = np.loadtxt('datasets/32_small/field/0-10-20-90.csv', delimiter=',')\n",
    "heat = Variable(torch.Tensor(heat_))\n",
    "heat"
   ]
  },
  {
   "cell_type": "code",
   "execution_count": 6,
   "metadata": {},
   "outputs": [
    {
     "data": {
      "image/png": "[encoded data removed]",
      "text/plain": [
       "<matplotlib.figure.Figure at 0x7f5a86febba8>"
      ]
     },
     "metadata": {},
     "output_type": "display_data"
    }
   ],
   "source": [
    "XX, YY = np.meshgrid(np.arange(0, 64), np.arange(0, 64))\n",
    "plt.contourf(XX, YY, heat.data.numpy(), colorinterpolation=50, cmap=plt.cm.jet, vmin=0, vmax=100)\n",
    "plt.show()"
   ]
  },
  {
   "cell_type": "code",
   "execution_count": 7,
   "metadata": {},
   "outputs": [
    {
     "data": {
      "text/plain": [
       "Variable containing:\n",
       "(0 ,0 ,.,.) = \n",
       "1.00000e-03 *\n",
       "  0.0072  0.0136  0.0191  ...   0.0143  0.0095  0.0038\n",
       "  0.0143  0.0234  0.0329  ...   0.0257  0.0124  0.0038\n",
       "  0.0191  0.0334  0.0458  ...   0.0334  0.0191  0.0076\n",
       "           ...             ⋱             ...          \n",
       "  0.0148  0.0229  0.0327  ...   0.0210  0.0095  0.0057\n",
       "  0.0088  0.0143  0.0199  ...   0.0114  0.0081 -0.0010\n",
       "  0.0038  0.0052  0.0072  ...   0.0043  0.0010 -0.0019\n",
       "[torch.FloatTensor of size 1x1x62x62]"
      ]
     },
     "execution_count": 7,
     "metadata": {},
     "output_type": "execute_result"
    }
   ],
   "source": [
    "physical_loss(heat)"
   ]
  },
  {
   "cell_type": "code",
   "execution_count": 8,
   "metadata": {},
   "outputs": [
    {
     "data": {
      "image/png": "[encoded data removed]",
      "text/plain": [
       "<matplotlib.figure.Figure at 0x7f5a84f2fcc0>"
      ]
     },
     "metadata": {},
     "output_type": "display_data"
    }
   ],
   "source": [
    "# Ground truth satisfies small value when kernel is applied\n",
    "plt.imshow(physical_loss(heat).data.numpy()[0,0,:,:])\n",
    "plt.colorbar()\n",
    "plt.show()"
   ]
  },
  {
   "cell_type": "code",
   "execution_count": null,
   "metadata": {},
   "outputs": [],
   "source": []
  }
 ],
 "metadata": {
  "kernelspec": {
   "display_name": "Python 3",
   "language": "python",
   "name": "python3"
  },
  "language_info": {
   "codemirror_mode": {
    "name": "ipython",
    "version": 3
   },
   "file_extension": ".py",
   "mimetype": "text/x-python",
   "name": "python",
   "nbconvert_exporter": "python",
   "pygments_lexer": "ipython3",
   "version": "3.5.2"
  }
 },
 "nbformat": 4,
 "nbformat_minor": 2
}
