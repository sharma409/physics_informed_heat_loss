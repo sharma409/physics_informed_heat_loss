{
 "cells": [
  {
   "cell_type": "code",
   "execution_count": 11,
   "metadata": {},
   "outputs": [
    {
     "data": {
      "application/javascript": [
       "IPython.notebook.set_autosave_interval(100000)"
      ]
     },
     "metadata": {},
     "output_type": "display_data"
    },
    {
     "name": "stdout",
     "output_type": "stream",
     "text": [
      "Autosaving every 100 seconds\n"
     ]
    }
   ],
   "source": [
    "import torch\n",
    "import torch.nn as nn\n",
    "from torch.autograd import Variable\n",
    "import torchvision.datasets as dset\n",
    "import torchvision.transforms as transforms\n",
    "import torch.nn.functional as F\n",
    "import torch.optim as optim\n",
    "from torchvision.utils import save_image\n",
    "\n",
    "import numpy as np\n",
    "import matplotlib.pyplot as plt\n",
    "import functools\n",
    "\n",
    "from networks import UnetGenerator\n",
    "from datasets import loadHeat\n",
    "\n",
    "%autosave 100\n",
    "\n",
    "def to_img(x, data_size):\n",
    "#     x = x.clamp(0, 1)\n",
    "    x = x.view(x.size(0), 1, data_size, data_size)\n",
    "    return x"
   ]
  },
  {
   "cell_type": "code",
   "execution_count": 14,
   "metadata": {},
   "outputs": [],
   "source": [
    "# Define training parameters\n",
    "batch_size=64\n",
    "learning_rate = 1e-3\n",
    "num_epochs = 2000"
   ]
  },
  {
   "cell_type": "code",
   "execution_count": 6,
   "metadata": {},
   "outputs": [],
   "source": [
    "# Input image handling\n",
    "data_size = 32\n",
    "dataset = loadHeat(data_size, ground_truth=False)\n",
    "dataloader = torch.utils.data.DataLoader(dataset, batch_size=batch_size, shuffle=True)"
   ]
  },
  {
   "cell_type": "code",
   "execution_count": 8,
   "metadata": {},
   "outputs": [
    {
     "name": "stdout",
     "output_type": "stream",
     "text": [
      "UNet(\n",
      "  (conv1): Conv2d (1, 64, kernel_size=(4, 4), stride=(2, 2), padding=(1, 1))\n",
      "  (conv2): Conv2d (64, 128, kernel_size=(4, 4), stride=(2, 2), padding=(1, 1))\n",
      "  (conv3): Conv2d (128, 256, kernel_size=(4, 4), stride=(2, 2), padding=(1, 1))\n",
      "  (conv4): Conv2d (256, 512, kernel_size=(4, 4), stride=(2, 2), padding=(1, 1))\n",
      "  (conv5): Conv2d (512, 512, kernel_size=(4, 4), stride=(2, 2), padding=(1, 1))\n",
      "  (ebn1): BatchNorm2d(64, eps=1e-05, momentum=0.1, affine=True)\n",
      "  (ebn2): BatchNorm2d(128, eps=1e-05, momentum=0.1, affine=True)\n",
      "  (ebn3): BatchNorm2d(256, eps=1e-05, momentum=0.1, affine=True)\n",
      "  (ebn4): BatchNorm2d(512, eps=1e-05, momentum=0.1, affine=True)\n",
      "  (ebn5): BatchNorm2d(512, eps=1e-05, momentum=0.1, affine=True)\n",
      "  (deconv1): ConvTranspose2d (512, 512, kernel_size=(4, 4), stride=(2, 2), padding=(1, 1))\n",
      "  (deconv2): ConvTranspose2d (1024, 256, kernel_size=(4, 4), stride=(2, 2), padding=(1, 1))\n",
      "  (deconv3): ConvTranspose2d (512, 128, kernel_size=(4, 4), stride=(2, 2), padding=(1, 1))\n",
      "  (deconv4): ConvTranspose2d (256, 64, kernel_size=(4, 4), stride=(2, 2), padding=(1, 1))\n",
      "  (deconv5): ConvTranspose2d (128, 1, kernel_size=(4, 4), stride=(2, 2), padding=(1, 1))\n",
      "  (dbn1): BatchNorm2d(512, eps=1e-05, momentum=0.1, affine=True)\n",
      "  (dbn2): BatchNorm2d(256, eps=1e-05, momentum=0.1, affine=True)\n",
      "  (dbn3): BatchNorm2d(128, eps=1e-05, momentum=0.1, affine=True)\n",
      "  (dbn4): BatchNorm2d(64, eps=1e-05, momentum=0.1, affine=True)\n",
      ")\n"
     ]
    }
   ],
   "source": [
    "center_mask = torch.zeros(1,32,32).unsqueeze(0)\n",
    "center_mask[:,:,:,0] = 1\n",
    "center_mask[:,:,0,:] = 1\n",
    "center_mask[:,:,:,-1] = 1\n",
    "center_mask[:,:,-1,:] = 1\n",
    "\n",
    "boundary_mask = 1 - center_mask\n",
    "\n",
    "class UNet(nn.Module):\n",
    "    # UNet for Heat Transport\n",
    "    def __init__(self, image_size=32, max_temp=100, num_filters=64):\n",
    "        super(UNet, self).__init__()\n",
    "\n",
    "        self.max_temp = max_temp\n",
    "\n",
    "        self.conv1 = nn.Conv2d(1, num_filters, kernel_size=4, stride=2,padding=1)\n",
    "        self.conv2 = nn.Conv2d(num_filters, num_filters*2, kernel_size=4, stride=2, padding=1)\n",
    "        self.conv3 = nn.Conv2d(num_filters*2, num_filters*4, kernel_size=4, stride=2, padding=1)\n",
    "        self.conv4 = nn.Conv2d(num_filters*4, num_filters*8, kernel_size=4, stride=2, padding=1)\n",
    "        self.conv5 = nn.Conv2d(num_filters*8, num_filters*8, kernel_size=4, stride=2, padding=1)\n",
    "\n",
    "        self.ebn1 = nn.BatchNorm2d(num_filters)\n",
    "        self.ebn2 = nn.BatchNorm2d(num_filters*2)\n",
    "        self.ebn3 = nn.BatchNorm2d(num_filters*4)\n",
    "        self.ebn4 = nn.BatchNorm2d(num_filters*8)\n",
    "        self.ebn5 = nn.BatchNorm2d(num_filters*8)\n",
    "\n",
    "        self.encoded = None # 4x4x4\n",
    "        \n",
    "        self.deconv1 = nn.ConvTranspose2d(num_filters*8, num_filters*8, kernel_size=4, stride=2, padding=1)\n",
    "        self.deconv2 = nn.ConvTranspose2d(num_filters*8*2, num_filters*4, kernel_size=4, stride=2, padding=1)\n",
    "        self.deconv3 = nn.ConvTranspose2d(num_filters*4*2, num_filters*2, kernel_size=4, stride=2, padding=1)\n",
    "        self.deconv4 = nn.ConvTranspose2d(num_filters*2*2, num_filters, kernel_size=4, stride=2, padding=1)\n",
    "        self.deconv5 = nn.ConvTranspose2d(num_filters*2, 1, kernel_size=4, stride=2, padding=1)\n",
    "\n",
    "        self.dbn1 = nn.BatchNorm2d(num_filters*8)\n",
    "        self.dbn2 = nn.BatchNorm2d(num_filters*4)\n",
    "        self.dbn3 = nn.BatchNorm2d(num_filters*2)\n",
    "        self.dbn4 = nn.BatchNorm2d(num_filters)\n",
    "\n",
    "\n",
    "    def forward(self, x):\n",
    "        # encoder\n",
    "        en_1 = F.leaky_relu(self.conv1(x), 0.2)\n",
    "        en_2 = F.leaky_relu(self.ebn2(self.conv2(en_1)), 0.2)\n",
    "        en_3 = F.leaky_relu(self.ebn3(self.conv3(en_2)), 0.2)\n",
    "        en_4 = F.leaky_relu(self.ebn4(self.conv4(en_3)), 0.2)\n",
    "\n",
    "        # encoded representation is (batch_size, num_filters*8, 1, 1)-dimensional encoding space\n",
    "        self.encoded = self.ebn5(self.conv5(en_4))\n",
    "        \n",
    "        # decoder\n",
    "        de_1 = self.dbn1(self.deconv1(F.relu(self.encoded)))\n",
    "        de_2 = self.dbn2(self.deconv2(F.relu(torch.cat((de_1, en_4), dim=1))))\n",
    "        de_3 = self.dbn3(self.deconv3(F.relu(torch.cat((de_2, en_3), dim=1))))\n",
    "        de_4 = self.dbn4(self.deconv4(F.relu(torch.cat((de_3, en_2), dim=1))))\n",
    "        decoded = F.tanh(self.deconv5(F.relu(torch.cat((de_4, en_1), dim=1))))\n",
    "        output = (decoded + 1)*self.max_temp / 2\n",
    "        output = output*Variable(boundary_mask).cuda() + x*Variable(center_mask).cuda()\n",
    "        return output\n",
    "\n",
    "net = UNet().cuda()\n",
    "print(net)"
   ]
  },
  {
   "cell_type": "code",
   "execution_count": 9,
   "metadata": {},
   "outputs": [],
   "source": [
    "# Define physics loss\n",
    "kernel = Variable(torch.Tensor(np.array([[[[0, 1/4, 0], [1/4, -1, 1/4], [0, 1/4, 0]]]]))).cuda()\n",
    "\n",
    "def physical_loss(img):\n",
    "    return F.conv2d(img, kernel).norm()\n",
    "\n",
    "criterion = physical_loss\n",
    "optimizer = optim.Adam(net.parameters(), lr=learning_rate)"
   ]
  },
  {
   "cell_type": "code",
   "execution_count": null,
   "metadata": {
    "scrolled": true
   },
   "outputs": [
    {
     "name": "stdout",
     "output_type": "stream",
     "text": [
      "epoch [1/2000], loss:11047.8359\n",
      "epoch [2/2000], loss:10975.4600\n",
      "epoch [3/2000], loss:10902.1406\n",
      "epoch [4/2000], loss:10827.8291\n",
      "epoch [5/2000], loss:10752.4678\n",
      "epoch [6/2000], loss:10676.0977\n",
      "epoch [7/2000], loss:10598.7139\n",
      "epoch [8/2000], loss:10520.2734\n",
      "epoch [9/2000], loss:10440.7441\n",
      "epoch [10/2000], loss:10360.1299\n",
      "epoch [11/2000], loss:10278.5068\n",
      "epoch [12/2000], loss:10196.0186\n",
      "epoch [13/2000], loss:10112.7812\n",
      "epoch [14/2000], loss:10028.9512\n",
      "epoch [15/2000], loss:9944.6182\n",
      "epoch [16/2000], loss:9859.9375\n",
      "epoch [17/2000], loss:9775.0410\n",
      "epoch [18/2000], loss:9690.0840\n",
      "epoch [19/2000], loss:9605.2490\n",
      "epoch [20/2000], loss:9520.6934\n",
      "epoch [21/2000], loss:9436.5479\n"
     ]
    }
   ],
   "source": [
    "# Outer training loop\n",
    "## Training loop\n",
    "for epoch in range(num_epochs):\n",
    "    for data in dataloader:\n",
    "        img = Variable(data).cuda()\n",
    "        output = net(img)\n",
    "#         output = (output+1)*50\n",
    "#         output = output*boundary_mask + img*center_mask\n",
    "        loss = criterion(output)\n",
    "        optimizer.zero_grad()\n",
    "        loss.backward()\n",
    "        optimizer.step()\n",
    "    print('epoch [{}/{}], loss:{:.4f}'\n",
    "          .format(epoch+1, num_epochs, loss.data[0]))\n",
    "#     if epoch % 10 == 0:\n",
    "#         train_pic = to_img(img.cpu().data)\n",
    "#         gen_pic = to_img(output.cpu().data, data_size)\n",
    "#         save_image(train_pic, './decoded_mnist/image_{}_train.png'.format(epoch))\n",
    "#         save_image(gen_pic, './generated_heat_fields/image_{}_gen.png'.format(epoch), scale_each=True, range=(0,100))"
   ]
  },
  {
   "cell_type": "code",
   "execution_count": null,
   "metadata": {},
   "outputs": [],
   "source": [
    "## Save model"
   ]
  },
  {
   "cell_type": "code",
   "execution_count": null,
   "metadata": {},
   "outputs": [],
   "source": [
    "# Output image handling"
   ]
  },
  {
   "cell_type": "code",
   "execution_count": 25,
   "metadata": {},
   "outputs": [
    {
     "ename": "FileNotFoundError",
     "evalue": "[Errno 2] No such file or directory: 'datasets/32_small/BC/10-40-20-40.csv'",
     "output_type": "error",
     "traceback": [
      "\u001b[0;31m---------------------------------------------------------------------------\u001b[0m",
      "\u001b[0;31mFileNotFoundError\u001b[0m                         Traceback (most recent call last)",
      "\u001b[0;32m<ipython-input-25-ba1ddda78fc6>\u001b[0m in \u001b[0;36m<module>\u001b[0;34m()\u001b[0m\n\u001b[1;32m      1\u001b[0m \u001b[0;31m# heat = Variable(torch.Tensor(np.loadtxt('datasets/small_data/BC/0-10-20-90.csv', delimiter=','))).cuda()\u001b[0m\u001b[0;34m\u001b[0m\u001b[0;34m\u001b[0m\u001b[0m\n\u001b[0;32m----> 2\u001b[0;31m \u001b[0mheat\u001b[0m \u001b[0;34m=\u001b[0m \u001b[0mVariable\u001b[0m\u001b[0;34m(\u001b[0m\u001b[0mtorch\u001b[0m\u001b[0;34m.\u001b[0m\u001b[0mTensor\u001b[0m\u001b[0;34m(\u001b[0m\u001b[0mnp\u001b[0m\u001b[0;34m.\u001b[0m\u001b[0mloadtxt\u001b[0m\u001b[0;34m(\u001b[0m\u001b[0;34m'datasets/%d_small/BC/10-40-20-40.csv'\u001b[0m \u001b[0;34m%\u001b[0m \u001b[0mdata_size\u001b[0m\u001b[0;34m,\u001b[0m \u001b[0mdelimiter\u001b[0m\u001b[0;34m=\u001b[0m\u001b[0;34m','\u001b[0m\u001b[0;34m)\u001b[0m\u001b[0;34m)\u001b[0m\u001b[0;34m)\u001b[0m\u001b[0;34m.\u001b[0m\u001b[0mcuda\u001b[0m\u001b[0;34m(\u001b[0m\u001b[0;34m)\u001b[0m\u001b[0;34m\u001b[0m\u001b[0m\n\u001b[0m\u001b[1;32m      3\u001b[0m \u001b[0mtruth\u001b[0m \u001b[0;34m=\u001b[0m \u001b[0mVariable\u001b[0m\u001b[0;34m(\u001b[0m\u001b[0mtorch\u001b[0m\u001b[0;34m.\u001b[0m\u001b[0mTensor\u001b[0m\u001b[0;34m(\u001b[0m\u001b[0mnp\u001b[0m\u001b[0;34m.\u001b[0m\u001b[0mloadtxt\u001b[0m\u001b[0;34m(\u001b[0m\u001b[0;34m'datasets/%d_small/field/10-40-20-40.csv'\u001b[0m \u001b[0;34m%\u001b[0m \u001b[0mdata_size\u001b[0m\u001b[0;34m,\u001b[0m \u001b[0mdelimiter\u001b[0m\u001b[0;34m=\u001b[0m\u001b[0;34m','\u001b[0m\u001b[0;34m)\u001b[0m\u001b[0;34m)\u001b[0m\u001b[0;34m)\u001b[0m\u001b[0;34m.\u001b[0m\u001b[0mcuda\u001b[0m\u001b[0;34m(\u001b[0m\u001b[0;34m)\u001b[0m\u001b[0;34m\u001b[0m\u001b[0m\n",
      "\u001b[0;32m~/DeepPhysics/deepphys/lib/python3.5/site-packages/numpy/lib/npyio.py\u001b[0m in \u001b[0;36mloadtxt\u001b[0;34m(fname, dtype, comments, delimiter, converters, skiprows, usecols, unpack, ndmin)\u001b[0m\n\u001b[1;32m    896\u001b[0m                 \u001b[0mfh\u001b[0m \u001b[0;34m=\u001b[0m \u001b[0miter\u001b[0m\u001b[0;34m(\u001b[0m\u001b[0mopen\u001b[0m\u001b[0;34m(\u001b[0m\u001b[0mfname\u001b[0m\u001b[0;34m,\u001b[0m \u001b[0;34m'U'\u001b[0m\u001b[0;34m)\u001b[0m\u001b[0;34m)\u001b[0m\u001b[0;34m\u001b[0m\u001b[0m\n\u001b[1;32m    897\u001b[0m             \u001b[0;32melse\u001b[0m\u001b[0;34m:\u001b[0m\u001b[0;34m\u001b[0m\u001b[0m\n\u001b[0;32m--> 898\u001b[0;31m                 \u001b[0mfh\u001b[0m \u001b[0;34m=\u001b[0m \u001b[0miter\u001b[0m\u001b[0;34m(\u001b[0m\u001b[0mopen\u001b[0m\u001b[0;34m(\u001b[0m\u001b[0mfname\u001b[0m\u001b[0;34m)\u001b[0m\u001b[0;34m)\u001b[0m\u001b[0;34m\u001b[0m\u001b[0m\n\u001b[0m\u001b[1;32m    899\u001b[0m         \u001b[0;32melse\u001b[0m\u001b[0;34m:\u001b[0m\u001b[0;34m\u001b[0m\u001b[0m\n\u001b[1;32m    900\u001b[0m             \u001b[0mfh\u001b[0m \u001b[0;34m=\u001b[0m \u001b[0miter\u001b[0m\u001b[0;34m(\u001b[0m\u001b[0mfname\u001b[0m\u001b[0;34m)\u001b[0m\u001b[0;34m\u001b[0m\u001b[0m\n",
      "\u001b[0;31mFileNotFoundError\u001b[0m: [Errno 2] No such file or directory: 'datasets/32_small/BC/10-40-20-40.csv'"
     ]
    }
   ],
   "source": [
    "# heat = Variable(torch.Tensor(np.loadtxt('datasets/small_data/BC/0-10-20-90.csv', delimiter=','))).cuda()\n",
    "heat = Variable(torch.Tensor(np.loadtxt('datasets/%d_small/BC/0-100-20-40.csv' % data_size, delimiter=','))).cuda()\n",
    "truth = Variable(torch.Tensor(np.loadtxt('datasets/%d_small/field/0-100-20-40.csv' % data_size, delimiter=','))).cuda()"
   ]
  },
  {
   "cell_type": "code",
   "execution_count": 20,
   "metadata": {},
   "outputs": [],
   "source": [
    "output = net(heat.unsqueeze(0).unsqueeze(0))"
   ]
  },
  {
   "cell_type": "code",
   "execution_count": 21,
   "metadata": {},
   "outputs": [
    {
     "data": {
      "text/plain": [
       "Variable containing:\n",
       "(0 ,0 ,.,.) = \n",
       "   20.0000  100.0000  100.0000  ...   100.0000  100.0000   40.0000\n",
       "   20.0000   69.0517   79.2315  ...    83.5608   87.2206   40.0000\n",
       "   20.0000   60.1825   59.7278  ...    76.0469   55.6072   40.0000\n",
       "              ...                ⋱                ...             \n",
       "   20.0000   25.7861   17.9515  ...    27.4305   53.7851   40.0000\n",
       "   20.0000   17.9691   20.1331  ...    14.8059   36.0414   40.0000\n",
       "   20.0000    0.0000    0.0000  ...     0.0000    0.0000   40.0000\n",
       "[torch.cuda.FloatTensor of size 1x1x32x32 (GPU 0)]"
      ]
     },
     "execution_count": 21,
     "metadata": {},
     "output_type": "execute_result"
    }
   ],
   "source": [
    "output"
   ]
  },
  {
   "cell_type": "code",
   "execution_count": 23,
   "metadata": {
    "scrolled": false
   },
   "outputs": [
    {
     "data": {
      "image/png": "[encoded data removed]",
      "text/plain": [
       "<matplotlib.figure.Figure at 0x7fe3c07b02e8>"
      ]
     },
     "metadata": {},
     "output_type": "display_data"
    },
    {
     "data": {
      "image/png": "[encoded data removed]",
      "text/plain": [
       "<matplotlib.figure.Figure at 0x7fe3c0b454a8>"
      ]
     },
     "metadata": {},
     "output_type": "display_data"
    }
   ],
   "source": [
    "plt.figure(figsize=(10,10))\n",
    "XX, YY = np.meshgrid(np.arange(0, data_size), np.arange(0, data_size))\n",
    "plt.contourf(XX, YY, output.cpu().data.numpy()[0,0,:,:], colorinterpolation=50, cmap=plt.cm.jet)\n",
    "# plt.imshow(output.cpu().data.numpy()[0,0,:,:])\n",
    "# plt.colorbar()\n",
    "plt.show()\n",
    "\n",
    "plt.figure(figsize=(10,10))\n",
    "XX, YY = np.meshgrid(np.arange(0, data_size), np.arange(0, data_size))\n",
    "plt.contourf(XX, YY, truth.cpu().data.numpy(), colorinterpolation=50, cmap=plt.cm.jet)\n",
    "# plt.imshow(truth.cpu().data.numpy())\n",
    "# plt.colorbar()\n",
    "plt.show()"
   ]
  },
  {
   "cell_type": "markdown",
   "metadata": {},
   "source": [
    "---\n",
    "\n",
    "---\n",
    "\n",
    "---\n",
    "\n",
    "---\n",
    "\n",
    "---\n",
    "\n",
    "---\n",
    "# Miscellaneous Tests"
   ]
  },
  {
   "cell_type": "code",
   "execution_count": 4,
   "metadata": {},
   "outputs": [
    {
     "name": "stdout",
     "output_type": "stream",
     "text": [
      "UnetGenerator (\n",
      "  (model): UnetSkipConnectionBlock (\n",
      "    (model): Sequential (\n",
      "      (0): Conv2d(1, 64, kernel_size=(4, 4), stride=(2, 2), padding=(1, 1), bias=False)\n",
      "      (1): UnetSkipConnectionBlock (\n",
      "        (model): Sequential (\n",
      "          (0): LeakyReLU (0.2, inplace)\n",
      "          (1): Conv2d(64, 128, kernel_size=(4, 4), stride=(2, 2), padding=(1, 1), bias=False)\n",
      "          (2): BatchNorm2d(128, eps=1e-05, momentum=0.1, affine=True)\n",
      "          (3): UnetSkipConnectionBlock (\n",
      "            (model): Sequential (\n",
      "              (0): LeakyReLU (0.2, inplace)\n",
      "              (1): Conv2d(128, 256, kernel_size=(4, 4), stride=(2, 2), padding=(1, 1), bias=False)\n",
      "              (2): BatchNorm2d(256, eps=1e-05, momentum=0.1, affine=True)\n",
      "              (3): UnetSkipConnectionBlock (\n",
      "                (model): Sequential (\n",
      "                  (0): LeakyReLU (0.2, inplace)\n",
      "                  (1): Conv2d(256, 512, kernel_size=(4, 4), stride=(2, 2), padding=(1, 1), bias=False)\n",
      "                  (2): BatchNorm2d(512, eps=1e-05, momentum=0.1, affine=True)\n",
      "                  (3): UnetSkipConnectionBlock (\n",
      "                    (model): Sequential (\n",
      "                      (0): LeakyReLU (0.2, inplace)\n",
      "                      (1): Conv2d(512, 512, kernel_size=(4, 4), stride=(2, 2), padding=(1, 1), bias=False)\n",
      "                      (2): ReLU (inplace)\n",
      "                      (3): ConvTranspose2d(512, 512, kernel_size=(4, 4), stride=(2, 2), padding=(1, 1), bias=False)\n",
      "                      (4): BatchNorm2d(512, eps=1e-05, momentum=0.1, affine=True)\n",
      "                    )\n",
      "                  )\n",
      "                  (4): ReLU (inplace)\n",
      "                  (5): ConvTranspose2d(1024, 256, kernel_size=(4, 4), stride=(2, 2), padding=(1, 1), bias=False)\n",
      "                  (6): BatchNorm2d(256, eps=1e-05, momentum=0.1, affine=True)\n",
      "                )\n",
      "              )\n",
      "              (4): ReLU (inplace)\n",
      "              (5): ConvTranspose2d(512, 128, kernel_size=(4, 4), stride=(2, 2), padding=(1, 1), bias=False)\n",
      "              (6): BatchNorm2d(128, eps=1e-05, momentum=0.1, affine=True)\n",
      "            )\n",
      "          )\n",
      "          (4): ReLU (inplace)\n",
      "          (5): ConvTranspose2d(256, 64, kernel_size=(4, 4), stride=(2, 2), padding=(1, 1), bias=False)\n",
      "          (6): BatchNorm2d(64, eps=1e-05, momentum=0.1, affine=True)\n",
      "        )\n",
      "      )\n",
      "      (2): ReLU (inplace)\n",
      "      (3): ConvTranspose2d(128, 1, kernel_size=(4, 4), stride=(2, 2), padding=(1, 1))\n",
      "      (4): Tanh ()\n",
      "    )\n",
      "  )\n",
      ")\n"
     ]
    }
   ],
   "source": [
    "# Initialize U-Net (or ResNet) convolutional architecture\n",
    "net = UnetGenerator(1, 1, 4, ngf=64, norm_layer=functools.partial(nn.BatchNorm2d, affine=True), use_dropout=False, gpu_ids=[]).cuda()\n",
    "\n",
    "class Codec(nn.Module):\n",
    "    # Autoencoder for MNIST images\n",
    "    def __init__(self):\n",
    "        super(Codec, self).__init__()\n",
    "        self.conv1 = nn.Conv2d(1, 16, kernel_size=3, padding=1)\n",
    "        self.conv2 = nn.Conv2d(16, 32, kernel_size=3, padding=1)\n",
    "        self.pad = nn.ZeroPad2d((0,1,0,1))\n",
    "        self.conv3 = nn.Conv2d(32, 4, kernel_size=3, padding=1)\n",
    "        \n",
    "        self.encoded = None # 4x4x4\n",
    "        \n",
    "        self.deconv1 = nn.ConvTranspose2d(32, 16, kernel_size=3, padding=1, stride=2)\n",
    "        self.deconv2 = nn.ConvTranspose2d(16, 16, kernel_size=3, padding=1, stride=2)\n",
    "        self.deconv3 = nn.ConvTranspose2d(16, 16, kernel_size=4)\n",
    "        \n",
    "        self.decode_conv = nn.Conv2d(16, 1, kernel_size=3, padding=1)\n",
    "        \n",
    "    def forward(self, x):\n",
    "        # encoder\n",
    "        x = F.max_pool2d(F.relu(self.conv1(x)), 2)\n",
    "        x = F.max_pool2d(F.relu(self.conv2(x)), 2)\n",
    "        self.encoded = F.max_pool2d(self.pad(F.relu(self.conv3(x))), 2)\n",
    "\n",
    "        # encoded representation is 8x4x4 = 128-dimensional encoding space\n",
    "\n",
    "        # decoder\n",
    "        x = F.relu(self.deconv1(x))\n",
    "        x = F.relu(self.deconv2(x))\n",
    "        x = F.relu(self.deconv3(x))\n",
    "        decoded = F.sigmoid(self.decode_conv(x))*100\n",
    "        return decoded\n",
    "\n",
    "# net = Codec().cuda()\n",
    "\n",
    "print(net)"
   ]
  },
  {
   "cell_type": "code",
   "execution_count": 2,
   "metadata": {},
   "outputs": [],
   "source": [
    "kernel_ = np.array([[0, 1/4, 0], [1/4, -1, 1/4], [0, 1/4, 0]])\n",
    "kernel = Variable(torch.Tensor(kernel_))\n",
    "img = Variable(torch.rand(10,10))\n",
    "\n",
    "def physical_loss(img):\n",
    "#     return F.conv2d((img.unsqueeze(0)).unsqueeze(0), kernel.unsqueeze(0).unsqueeze(0)).norm()\n",
    "    return F.conv2d((img.unsqueeze(0)).unsqueeze(0), kernel.unsqueeze(0).unsqueeze(0))"
   ]
  },
  {
   "cell_type": "code",
   "execution_count": 4,
   "metadata": {},
   "outputs": [
    {
     "data": {
      "text/plain": [
       "Variable containing:\n",
       "(0 ,0 ,.,.) = \n",
       "  0.0292  0.3121 -0.2342 -0.1250 -0.2445 -0.3733 -0.2806 -0.1527\n",
       " -0.1400  0.0060  0.4090 -0.1374  0.3424  0.0427  0.4813 -0.0692\n",
       " -0.4020  0.5477 -0.7780  0.2630  0.0718  0.2802  0.2284 -0.6202\n",
       "  0.1652 -0.6265  0.2452  0.3149 -0.2875 -0.3081 -0.1356  0.6590\n",
       " -0.3522  0.6148 -0.2975  0.1686 -0.2690 -0.1233  0.1784 -0.2472\n",
       " -0.0768 -0.2584  0.2547  0.2669 -0.1479  0.3965  0.1607  0.1083\n",
       " -0.4120  0.3863  0.2018 -0.5286  0.2726 -0.0041 -0.4462  0.2418\n",
       "  0.5019  0.2671 -0.2837 -0.2454 -0.3699 -0.2484  0.1922  0.3512\n",
       "[torch.FloatTensor of size 1x1x8x8]"
      ]
     },
     "execution_count": 4,
     "metadata": {},
     "output_type": "execute_result"
    }
   ],
   "source": [
    "physical_loss(img)"
   ]
  },
  {
   "cell_type": "code",
   "execution_count": 5,
   "metadata": {},
   "outputs": [
    {
     "data": {
      "text/plain": [
       "Variable containing:\n",
       " 20.0000  10.0000  10.0000  ...   10.0000  10.0000  90.0000\n",
       " 20.0000  15.0134  13.0503  ...   34.1378  49.9750  90.0000\n",
       " 20.0000  17.0032  15.0536  ...   49.8999  65.7621  90.0000\n",
       "           ...               ⋱              ...            \n",
       " 20.0000  13.9912  10.0765  ...   44.9228  62.7501  90.0000\n",
       " 20.0000  10.0191   6.0853  ...   27.1727  44.9807  90.0000\n",
       " 20.0000   0.0000   0.0000  ...    0.0000   0.0000  90.0000\n",
       "[torch.FloatTensor of size 64x64]"
      ]
     },
     "execution_count": 5,
     "metadata": {},
     "output_type": "execute_result"
    }
   ],
   "source": [
    "# Heat is true ground truth solution\n",
    "heat_ = np.loadtxt('datasets/32_small/field/0-10-20-90.csv', delimiter=',')\n",
    "heat = Variable(torch.Tensor(heat_))\n",
    "heat"
   ]
  },
  {
   "cell_type": "code",
   "execution_count": 6,
   "metadata": {},
   "outputs": [
    {
     "data": {
      "image/png": "[encoded data removed]",
      "text/plain": [
       "<matplotlib.figure.Figure at 0x7f5a86febba8>"
      ]
     },
     "metadata": {},
     "output_type": "display_data"
    }
   ],
   "source": [
    "XX, YY = np.meshgrid(np.arange(0, 64), np.arange(0, 64))\n",
    "plt.contourf(XX, YY, heat.data.numpy(), colorinterpolation=50, cmap=plt.cm.jet, vmin=0, vmax=100)\n",
    "plt.show()"
   ]
  },
  {
   "cell_type": "code",
   "execution_count": 7,
   "metadata": {},
   "outputs": [
    {
     "data": {
      "text/plain": [
       "Variable containing:\n",
       "(0 ,0 ,.,.) = \n",
       "1.00000e-03 *\n",
       "  0.0072  0.0136  0.0191  ...   0.0143  0.0095  0.0038\n",
       "  0.0143  0.0234  0.0329  ...   0.0257  0.0124  0.0038\n",
       "  0.0191  0.0334  0.0458  ...   0.0334  0.0191  0.0076\n",
       "           ...             ⋱             ...          \n",
       "  0.0148  0.0229  0.0327  ...   0.0210  0.0095  0.0057\n",
       "  0.0088  0.0143  0.0199  ...   0.0114  0.0081 -0.0010\n",
       "  0.0038  0.0052  0.0072  ...   0.0043  0.0010 -0.0019\n",
       "[torch.FloatTensor of size 1x1x62x62]"
      ]
     },
     "execution_count": 7,
     "metadata": {},
     "output_type": "execute_result"
    }
   ],
   "source": [
    "physical_loss(heat)"
   ]
  },
  {
   "cell_type": "code",
   "execution_count": 8,
   "metadata": {},
   "outputs": [
    {
     "data": {
      "image/png": "[encoded data removed]",
      "text/plain": [
       "<matplotlib.figure.Figure at 0x7f5a84f2fcc0>"
      ]
     },
     "metadata": {},
     "output_type": "display_data"
    }
   ],
   "source": [
    "# Ground truth satisfies small value when kernel is applied\n",
    "plt.imshow(physical_loss(heat).data.numpy()[0,0,:,:])\n",
    "plt.colorbar()\n",
    "plt.show()"
   ]
  },
  {
   "cell_type": "code",
   "execution_count": null,
   "metadata": {},
   "outputs": [],
   "source": []
  }
 ],
 "metadata": {
  "kernelspec": {
   "display_name": "Python 3",
   "language": "python",
   "name": "python3"
  },
  "language_info": {
   "codemirror_mode": {
    "name": "ipython",
    "version": 3
   },
   "file_extension": ".py",
   "mimetype": "text/x-python",
   "name": "python",
   "nbconvert_exporter": "python",
   "pygments_lexer": "ipython3",
   "version": "3.5.2"
  }
 },
 "nbformat": 4,
 "nbformat_minor": 2
}
