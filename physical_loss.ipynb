{
 "cells": [
  {
   "cell_type": "code",
   "execution_count": 1,
   "metadata": {},
   "outputs": [],
   "source": [
    "import torch\n",
    "import torch.nn as nn\n",
    "from torch.autograd import Variable\n",
    "import torchvision.datasets as dset\n",
    "import torchvision.transforms as transforms\n",
    "import torch.nn.functional as F\n",
    "import torch.optim as optim\n",
    "from torchvision.utils import save_image\n",
    "\n",
    "import numpy as np\n",
    "import matplotlib.pyplot as plt\n",
    "import functools\n",
    "\n",
    "from networks import UnetGenerator\n",
    "from datasets import loadHeat"
   ]
  },
  {
   "cell_type": "code",
   "execution_count": 33,
   "metadata": {},
   "outputs": [],
   "source": [
    "# Define training parameters\n",
    "batch_size=64\n",
    "learning_rate = 1e-3\n",
    "num_epochs = 200"
   ]
  },
  {
   "cell_type": "code",
   "execution_count": 3,
   "metadata": {},
   "outputs": [],
   "source": [
    "# Input image handling\n",
    "dataset = loadHeat(32)\n",
    "dataloader = torch.utils.data.DataLoader(dataset, batch_size=batch_size, shuffle=True)"
   ]
  },
  {
   "cell_type": "code",
   "execution_count": 4,
   "metadata": {},
   "outputs": [],
   "source": [
    "# Initialize U-Net (or ResNet) convolutional architecture\n",
    "net = UnetGenerator(1, 1, 3, 64, norm_layer=functools.partial(nn.BatchNorm2d, affine=True), use_dropout=False, gpu_ids=[]).cuda()"
   ]
  },
  {
   "cell_type": "code",
   "execution_count": 5,
   "metadata": {},
   "outputs": [],
   "source": [
    "# Define physics loss\n",
    "kernel = Variable(torch.Tensor(np.array([[[[0, 1/4, 0], [1/4, -1, 1/4], [0, 1/4, 0]]]]))).cuda()\n",
    "\n",
    "def physical_loss(img):\n",
    "    return F.conv2d(img, kernel).norm()\n",
    "\n",
    "criterion = physical_loss\n",
    "optimizer = optim.Adam(net.parameters(), lr=learning_rate)"
   ]
  },
  {
   "cell_type": "code",
   "execution_count": 6,
   "metadata": {},
   "outputs": [],
   "source": [
    "# Create output masks\n",
    "center_mask = torch.zeros(dataset[0].shape).unsqueeze(0)\n",
    "center_mask[:,:,:,0] = 1\n",
    "center_mask[:,:,0,:] = 1\n",
    "center_mask[:,:,:,-1] = 1\n",
    "center_mask[:,:,-1,:] = 1\n",
    "\n",
    "boundary_mask = torch.ones(dataset[0].shape).unsqueeze(0)\n",
    "boundary_mask[:,:,:,0] = 0\n",
    "boundary_mask[:,:,0,:] = 0\n",
    "boundary_mask[:,:,:,-1] = 0\n",
    "boundary_mask[:,:,-1,:] = 0\n",
    "\n",
    "center_mask = Variable(center_mask).cuda()\n",
    "boundary_mask = Variable(boundary_mask).cuda()"
   ]
  },
  {
   "cell_type": "code",
   "execution_count": null,
   "metadata": {},
   "outputs": [
    {
     "name": "stdout",
     "output_type": "stream",
     "text": [
      "epoch [1/200], loss:762.2281\n",
      "epoch [2/200], loss:792.0709\n",
      "epoch [3/200], loss:766.0944\n",
      "epoch [4/200], loss:767.9222\n",
      "epoch [5/200], loss:787.4492\n",
      "epoch [6/200], loss:803.7881\n",
      "epoch [7/200], loss:763.2432\n",
      "epoch [8/200], loss:749.2528\n",
      "epoch [9/200], loss:756.6626\n",
      "epoch [10/200], loss:764.7425\n",
      "epoch [11/200], loss:795.4534\n",
      "epoch [12/200], loss:795.6841\n",
      "epoch [13/200], loss:760.7844\n",
      "epoch [14/200], loss:798.0470\n",
      "epoch [15/200], loss:754.3182\n",
      "epoch [16/200], loss:778.0048\n",
      "epoch [17/200], loss:786.9000\n",
      "epoch [18/200], loss:793.2208\n",
      "epoch [19/200], loss:761.3450\n",
      "epoch [20/200], loss:773.1436\n",
      "epoch [21/200], loss:751.9680\n",
      "epoch [22/200], loss:772.7051\n",
      "epoch [23/200], loss:772.9944\n",
      "epoch [24/200], loss:794.0979\n",
      "epoch [25/200], loss:748.4763\n",
      "epoch [26/200], loss:754.1100\n",
      "epoch [27/200], loss:751.4987\n",
      "epoch [28/200], loss:785.0717\n",
      "epoch [29/200], loss:786.3965\n",
      "epoch [30/200], loss:739.5111\n",
      "epoch [31/200], loss:792.7220\n",
      "epoch [32/200], loss:777.5800\n",
      "epoch [33/200], loss:754.5837\n",
      "epoch [34/200], loss:765.9275\n",
      "epoch [35/200], loss:808.8160\n",
      "epoch [36/200], loss:791.2227\n",
      "epoch [37/200], loss:812.3079\n",
      "epoch [38/200], loss:769.5548\n",
      "epoch [39/200], loss:792.6815\n",
      "epoch [40/200], loss:755.0302\n",
      "epoch [41/200], loss:781.0377\n",
      "epoch [42/200], loss:790.9575\n",
      "epoch [43/200], loss:755.9935\n",
      "epoch [44/200], loss:744.7303\n",
      "epoch [45/200], loss:796.5074\n",
      "epoch [46/200], loss:784.8174\n",
      "epoch [47/200], loss:740.3816\n",
      "epoch [48/200], loss:771.6829\n",
      "epoch [49/200], loss:781.6570\n",
      "epoch [50/200], loss:783.1666\n",
      "epoch [51/200], loss:747.8940\n",
      "epoch [52/200], loss:788.1475\n",
      "epoch [53/200], loss:805.1138\n",
      "epoch [54/200], loss:794.1991\n",
      "epoch [55/200], loss:767.2943\n",
      "epoch [56/200], loss:758.0898\n",
      "epoch [57/200], loss:789.4278\n",
      "epoch [58/200], loss:777.7443\n",
      "epoch [59/200], loss:756.2388\n",
      "epoch [60/200], loss:763.0441\n",
      "epoch [61/200], loss:789.1453\n",
      "epoch [62/200], loss:794.9374\n",
      "epoch [63/200], loss:733.9537\n",
      "epoch [64/200], loss:766.3595\n",
      "epoch [65/200], loss:770.6178\n",
      "epoch [66/200], loss:815.0412\n",
      "epoch [67/200], loss:752.8083\n",
      "epoch [68/200], loss:764.1517\n",
      "epoch [69/200], loss:750.1914\n",
      "epoch [70/200], loss:764.6537\n",
      "epoch [71/200], loss:825.4716\n",
      "epoch [72/200], loss:758.5097\n",
      "epoch [73/200], loss:770.2695\n",
      "epoch [74/200], loss:786.5732\n",
      "epoch [75/200], loss:769.3069\n",
      "epoch [76/200], loss:798.6028\n",
      "epoch [77/200], loss:793.7362\n",
      "epoch [78/200], loss:807.1152\n",
      "epoch [79/200], loss:766.8684\n",
      "epoch [80/200], loss:780.9721\n",
      "epoch [81/200], loss:794.4174\n",
      "epoch [82/200], loss:785.6964\n",
      "epoch [83/200], loss:785.8154\n",
      "epoch [84/200], loss:779.3380\n",
      "epoch [85/200], loss:786.0782\n",
      "epoch [86/200], loss:767.3865\n",
      "epoch [87/200], loss:770.2979\n",
      "epoch [88/200], loss:805.6308\n",
      "epoch [89/200], loss:750.0365\n",
      "epoch [90/200], loss:755.4691\n",
      "epoch [91/200], loss:758.8008\n",
      "epoch [92/200], loss:803.1435\n",
      "epoch [93/200], loss:805.0449\n",
      "epoch [94/200], loss:755.4454\n",
      "epoch [95/200], loss:759.9022\n",
      "epoch [96/200], loss:762.3271\n",
      "epoch [97/200], loss:796.8024\n",
      "epoch [98/200], loss:792.9247\n",
      "epoch [99/200], loss:757.2180\n",
      "epoch [100/200], loss:796.9465\n",
      "epoch [101/200], loss:719.1425\n",
      "epoch [102/200], loss:788.4881\n",
      "epoch [103/200], loss:777.4359\n",
      "epoch [104/200], loss:797.2775\n",
      "epoch [105/200], loss:757.3166\n",
      "epoch [106/200], loss:776.9853\n",
      "epoch [107/200], loss:795.3546\n",
      "epoch [108/200], loss:735.7829\n",
      "epoch [109/200], loss:749.0084\n",
      "epoch [110/200], loss:793.3071\n"
     ]
    }
   ],
   "source": [
    "# Outer training loop\n",
    "## Training loop\n",
    "for epoch in range(num_epochs):\n",
    "    for data in dataloader:\n",
    "        img = Variable(data).cuda()\n",
    "        output = net(img)\n",
    "        output = output*boundary_mask + img*center_mask\n",
    "        loss = criterion(output)\n",
    "        optimizer.zero_grad()\n",
    "        loss.backward()\n",
    "        optimizer.step()\n",
    "    print('epoch [{}/{}], loss:{:.4f}'\n",
    "          .format(epoch+1, num_epochs, loss.data[0]))\n",
    "#     if epoch % 10 == 0:\n",
    "#         train_pic = to_img(img.cpu().data)\n",
    "#         gen_pic = to_img(output.cpu().data)\n",
    "#         save_image(train_pic, './decoded_mnist/image_{}_train.png'.format(epoch))\n",
    "#         save_image(gen_pic, './decoded_mnist/image_{}_gen.png'.format(epoch))"
   ]
  },
  {
   "cell_type": "code",
   "execution_count": null,
   "metadata": {},
   "outputs": [],
   "source": [
    "## Save model"
   ]
  },
  {
   "cell_type": "code",
   "execution_count": 25,
   "metadata": {},
   "outputs": [],
   "source": [
    "# Output image handling\n",
    "# heat = Variable(torch.Tensor(np.loadtxt('datasets/small_data/BC/0-10-20-90.csv', delimiter=','))).cuda()\n",
    "heat = Variable(torch.Tensor(np.loadtxt('datasets/4-16/16/BC/0-10-20-90.csv', delimiter=','))).cuda()\n"
   ]
  },
  {
   "cell_type": "code",
   "execution_count": 26,
   "metadata": {},
   "outputs": [],
   "source": [
    "output = net(heat.unsqueeze(0).unsqueeze(0))"
   ]
  },
  {
   "cell_type": "code",
   "execution_count": 27,
   "metadata": {},
   "outputs": [
    {
     "data": {
      "text/plain": [
       "Variable containing:\n",
       "(0 ,0 ,.,.) = \n",
       "\n",
       "Columns 0 to 8 \n",
       "   0.9997  0.9998  0.9864  0.9417  0.9977  0.9812  0.9985  0.9739  0.9981\n",
       "  1.0000  1.0000  0.3491  0.9723  0.9996  0.9998  0.9998  0.9996  0.9997\n",
       "  1.0000  0.9999 -1.0000 -1.0000 -0.9993 -0.9978 -0.9986 -0.9995 -0.9994\n",
       "  1.0000  1.0000 -1.0000 -1.0000 -1.0000 -0.9999 -0.9999 -0.9999 -0.9999\n",
       "  1.0000  1.0000 -1.0000 -1.0000 -0.9996 -0.9986 -0.9990 -0.9993 -0.9992\n",
       "  1.0000  1.0000 -1.0000 -0.9999 -0.9971 -0.9932 -0.9928 -0.9968 -0.9941\n",
       "  1.0000  1.0000 -1.0000 -0.9999 -0.9963 -0.9892 -0.9892 -0.9939 -0.9906\n",
       "  1.0000  1.0000 -1.0000 -1.0000 -0.9974 -0.9912 -0.9906 -0.9940 -0.9905\n",
       "  1.0000  1.0000 -1.0000 -0.9999 -0.9981 -0.9917 -0.9915 -0.9945 -0.9928\n",
       "  1.0000  1.0000 -1.0000 -0.9999 -0.9937 -0.9873 -0.9836 -0.9909 -0.9785\n",
       "  1.0000  1.0000 -1.0000 -0.9999 -0.9979 -0.9953 -0.9958 -0.9975 -0.9971\n",
       "  1.0000  1.0000 -1.0000 -1.0000 -0.9989 -0.9990 -0.9991 -0.9995 -0.9996\n",
       "  1.0000  1.0000 -1.0000 -1.0000 -0.9999 -0.9998 -0.9999 -0.9999 -0.9999\n",
       "  1.0000  1.0000 -1.0000 -0.9985 -0.9289 -0.8891 -0.8791 -0.9314 -0.8954\n",
       "  1.0000  1.0000 -0.9724 -0.8459 -0.6027 -0.3989 -0.3978 -0.5439 -0.5109\n",
       "  1.0000  0.9996 -0.7455 -0.2363 -0.2069 -0.1484 -0.0577  0.0254 -0.1440\n",
       "\n",
       "Columns 9 to 15 \n",
       "   0.9805  0.9985  0.9738  0.9963 -1.0000  1.0000  1.0000\n",
       "  0.9996  0.9997  0.9993  0.9380 -1.0000  1.0000  1.0000\n",
       " -0.9993 -0.9990 -0.9994 -1.0000 -1.0000  1.0000  1.0000\n",
       " -0.9999 -1.0000 -0.9999 -1.0000 -1.0000  1.0000  1.0000\n",
       " -0.9990 -0.9994 -0.9995 -1.0000 -1.0000  1.0000  1.0000\n",
       " -0.9953 -0.9954 -0.9968 -0.9999 -1.0000  1.0000  1.0000\n",
       " -0.9903 -0.9899 -0.9961 -0.9999 -1.0000  1.0000  1.0000\n",
       " -0.9900 -0.9914 -0.9975 -1.0000 -1.0000  1.0000  1.0000\n",
       " -0.9926 -0.9956 -0.9984 -1.0000 -1.0000  1.0000  1.0000\n",
       " -0.9843 -0.9866 -0.9917 -0.9999 -1.0000  1.0000  1.0000\n",
       " -0.9955 -0.9958 -0.9969 -0.9999 -1.0000  1.0000  1.0000\n",
       " -0.9993 -0.9993 -0.9991 -1.0000 -1.0000  1.0000  1.0000\n",
       " -0.9998 -0.9999 -0.9998 -1.0000 -1.0000  1.0000  1.0000\n",
       " -0.8858 -0.8873 -0.9569 -0.9993 -1.0000  1.0000  1.0000\n",
       " -0.4131 -0.4161 -0.6613 -0.8952 -1.0000  1.0000  1.0000\n",
       "  0.0894 -0.0904  0.0306 -0.4301 -1.0000  1.0000  1.0000\n",
       "[torch.cuda.FloatTensor of size 1x1x16x16 (GPU 0)]"
      ]
     },
     "execution_count": 27,
     "metadata": {},
     "output_type": "execute_result"
    }
   ],
   "source": [
    "output"
   ]
  },
  {
   "cell_type": "code",
   "execution_count": 32,
   "metadata": {},
   "outputs": [
    {
     "data": {
      "image/png": "[encoded data removed]",
      "text/plain": [
       "<matplotlib.figure.Figure at 0x7ff4b0d3b048>"
      ]
     },
     "metadata": {},
     "output_type": "display_data"
    }
   ],
   "source": [
    "plt.figure(figsize=(10,10))\n",
    "XX, YY = np.meshgrid(np.arange(0, dataset[0].shape[-1]), np.arange(0, dataset[0].shape[-1]))\n",
    "plt.contourf(XX, YY, output.cpu().data.numpy()[0,0,:,:], colorinterpolation=50, cmap=plt.cm.jet)\n",
    "# plt.imshow(output.cpu().data.numpy()[0,0,:,:])\n",
    "plt.show()"
   ]
  },
  {
   "cell_type": "markdown",
   "metadata": {},
   "source": [
    "## Miscellaneous Tests"
   ]
  },
  {
   "cell_type": "code",
   "execution_count": 2,
   "metadata": {},
   "outputs": [],
   "source": [
    "kernel_ = np.array([[0, 1/4, 0], [1/4, -1, 1/4], [0, 1/4, 0]])\n",
    "kernel = Variable(torch.Tensor(kernel_))\n",
    "img = Variable(torch.rand(10,10))\n",
    "\n",
    "def physical_loss(img):\n",
    "#     return F.conv2d((img.unsqueeze(0)).unsqueeze(0), kernel.unsqueeze(0).unsqueeze(0)).norm()\n",
    "    return F.conv2d((img.unsqueeze(0)).unsqueeze(0), kernel.unsqueeze(0).unsqueeze(0))"
   ]
  },
  {
   "cell_type": "code",
   "execution_count": 4,
   "metadata": {},
   "outputs": [
    {
     "data": {
      "text/plain": [
       "Variable containing:\n",
       "(0 ,0 ,.,.) = \n",
       "  0.0292  0.3121 -0.2342 -0.1250 -0.2445 -0.3733 -0.2806 -0.1527\n",
       " -0.1400  0.0060  0.4090 -0.1374  0.3424  0.0427  0.4813 -0.0692\n",
       " -0.4020  0.5477 -0.7780  0.2630  0.0718  0.2802  0.2284 -0.6202\n",
       "  0.1652 -0.6265  0.2452  0.3149 -0.2875 -0.3081 -0.1356  0.6590\n",
       " -0.3522  0.6148 -0.2975  0.1686 -0.2690 -0.1233  0.1784 -0.2472\n",
       " -0.0768 -0.2584  0.2547  0.2669 -0.1479  0.3965  0.1607  0.1083\n",
       " -0.4120  0.3863  0.2018 -0.5286  0.2726 -0.0041 -0.4462  0.2418\n",
       "  0.5019  0.2671 -0.2837 -0.2454 -0.3699 -0.2484  0.1922  0.3512\n",
       "[torch.FloatTensor of size 1x1x8x8]"
      ]
     },
     "execution_count": 4,
     "metadata": {},
     "output_type": "execute_result"
    }
   ],
   "source": [
    "physical_loss(img)"
   ]
  },
  {
   "cell_type": "code",
   "execution_count": 5,
   "metadata": {},
   "outputs": [
    {
     "data": {
      "text/plain": [
       "Variable containing:\n",
       " 20.0000  10.0000  10.0000  ...   10.0000  10.0000  90.0000\n",
       " 20.0000  15.0134  13.0503  ...   34.1378  49.9750  90.0000\n",
       " 20.0000  17.0032  15.0536  ...   49.8999  65.7621  90.0000\n",
       "           ...               ⋱              ...            \n",
       " 20.0000  13.9912  10.0765  ...   44.9228  62.7501  90.0000\n",
       " 20.0000  10.0191   6.0853  ...   27.1727  44.9807  90.0000\n",
       " 20.0000   0.0000   0.0000  ...    0.0000   0.0000  90.0000\n",
       "[torch.FloatTensor of size 64x64]"
      ]
     },
     "execution_count": 5,
     "metadata": {},
     "output_type": "execute_result"
    }
   ],
   "source": [
    "# Heat is true ground truth solution\n",
    "heat_ = np.loadtxt('datasets/32_small/field/0-10-20-90.csv', delimiter=',')\n",
    "heat = Variable(torch.Tensor(heat_))\n",
    "heat"
   ]
  },
  {
   "cell_type": "code",
   "execution_count": 6,
   "metadata": {},
   "outputs": [
    {
     "data": {
      "image/png": "[encoded data removed]",
      "text/plain": [
       "<matplotlib.figure.Figure at 0x7f5a86febba8>"
      ]
     },
     "metadata": {},
     "output_type": "display_data"
    }
   ],
   "source": [
    "XX, YY = np.meshgrid(np.arange(0, 64), np.arange(0, 64))\n",
    "plt.contourf(XX, YY, heat.data.numpy(), colorinterpolation=50, cmap=plt.cm.jet, vmin=0, vmax=100)\n",
    "plt.show()"
   ]
  },
  {
   "cell_type": "code",
   "execution_count": 7,
   "metadata": {},
   "outputs": [
    {
     "data": {
      "text/plain": [
       "Variable containing:\n",
       "(0 ,0 ,.,.) = \n",
       "1.00000e-03 *\n",
       "  0.0072  0.0136  0.0191  ...   0.0143  0.0095  0.0038\n",
       "  0.0143  0.0234  0.0329  ...   0.0257  0.0124  0.0038\n",
       "  0.0191  0.0334  0.0458  ...   0.0334  0.0191  0.0076\n",
       "           ...             ⋱             ...          \n",
       "  0.0148  0.0229  0.0327  ...   0.0210  0.0095  0.0057\n",
       "  0.0088  0.0143  0.0199  ...   0.0114  0.0081 -0.0010\n",
       "  0.0038  0.0052  0.0072  ...   0.0043  0.0010 -0.0019\n",
       "[torch.FloatTensor of size 1x1x62x62]"
      ]
     },
     "execution_count": 7,
     "metadata": {},
     "output_type": "execute_result"
    }
   ],
   "source": [
    "physical_loss(heat)"
   ]
  },
  {
   "cell_type": "code",
   "execution_count": 8,
   "metadata": {},
   "outputs": [
    {
     "data": {
      "image/png": "[encoded data removed]",
      "text/plain": [
       "<matplotlib.figure.Figure at 0x7f5a84f2fcc0>"
      ]
     },
     "metadata": {},
     "output_type": "display_data"
    }
   ],
   "source": [
    "# Ground truth satisfies small value when kernel is applied\n",
    "plt.imshow(physical_loss(heat).data.numpy()[0,0,:,:])\n",
    "plt.colorbar()\n",
    "plt.show()"
   ]
  },
  {
   "cell_type": "code",
   "execution_count": null,
   "metadata": {},
   "outputs": [],
   "source": []
  }
 ],
 "metadata": {
  "kernelspec": {
   "display_name": "Python 3",
   "language": "python",
   "name": "python3"
  },
  "language_info": {
   "codemirror_mode": {
    "name": "ipython",
    "version": 3
   },
   "file_extension": ".py",
   "mimetype": "text/x-python",
   "name": "python",
   "nbconvert_exporter": "python",
   "pygments_lexer": "ipython3",
   "version": "3.5.2"
  }
 },
 "nbformat": 4,
 "nbformat_minor": 2
}
