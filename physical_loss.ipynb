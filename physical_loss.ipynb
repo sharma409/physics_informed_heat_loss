{
 "cells": [
  {
   "cell_type": "code",
   "execution_count": 1,
   "metadata": {},
   "outputs": [],
   "source": [
    "import torch\n",
    "import torch.nn as nn\n",
    "from torch.autograd import Variable\n",
    "import torchvision.datasets as dset\n",
    "import torch.nn.functional as F\n",
    "import torch.optim as optim\n",
    "from torchvision.utils import save_image\n",
    "\n",
    "import os\n",
    "\n",
    "import numpy as np\n",
    "import matplotlib.pyplot as plt\n",
    "\n",
    "from networks import UNet, GrowingUNet\n",
    "from solve import solve"
   ]
  },
  {
   "cell_type": "code",
   "execution_count": 2,
   "metadata": {},
   "outputs": [
    {
     "name": "stdout",
     "output_type": "stream",
     "text": [
      "GrowingUNet(\n",
      "  (encoding_layers): ModuleList(\n",
      "    (0): Conv2d (1, 64, kernel_size=(4, 4), stride=(2, 2), padding=(1, 1))\n",
      "    (1): Conv2d (64, 128, kernel_size=(4, 4), stride=(2, 2), padding=(1, 1))\n",
      "    (2): Conv2d (128, 256, kernel_size=(4, 4), stride=(2, 2), padding=(1, 1))\n",
      "    (3): Conv2d (256, 512, kernel_size=(4, 4), stride=(2, 2), padding=(1, 1))\n",
      "  )\n",
      "  (encoding_bns): ModuleList(\n",
      "    (0): BatchNorm2d(64, eps=1e-05, momentum=0.1, affine=True)\n",
      "    (1): BatchNorm2d(128, eps=1e-05, momentum=0.1, affine=True)\n",
      "    (2): BatchNorm2d(256, eps=1e-05, momentum=0.1, affine=True)\n",
      "    (3): BatchNorm2d(512, eps=1e-05, momentum=0.1, affine=True)\n",
      "  )\n",
      "  (decoding_layers): ModuleList(\n",
      "    (0): ConvTranspose2d (512, 256, kernel_size=(4, 4), stride=(2, 2), padding=(1, 1))\n",
      "    (1): ConvTranspose2d (512, 128, kernel_size=(4, 4), stride=(2, 2), padding=(1, 1))\n",
      "    (2): ConvTranspose2d (256, 64, kernel_size=(4, 4), stride=(2, 2), padding=(1, 1))\n",
      "    (3): ConvTranspose2d (128, 1, kernel_size=(4, 4), stride=(2, 2), padding=(1, 1))\n",
      "  )\n",
      "  (decoding_bns): ModuleList(\n",
      "    (0): BatchNorm2d(256, eps=1e-05, momentum=0.1, affine=True)\n",
      "    (1): BatchNorm2d(128, eps=1e-05, momentum=0.1, affine=True)\n",
      "    (2): BatchNorm2d(64, eps=1e-05, momentum=0.1, affine=True)\n",
      "    (3): BatchNorm2d(64, eps=1e-05, momentum=0.1, affine=True)\n",
      "  )\n",
      ")\n"
     ]
    },
    {
     "ename": "TypeError",
     "evalue": "unorderable types: int() <= slice()",
     "output_type": "error",
     "traceback": [
      "\u001b[0;31m---------------------------------------------------------------------------\u001b[0m",
      "\u001b[0;31mTypeError\u001b[0m                                 Traceback (most recent call last)",
      "\u001b[0;32m<ipython-input-2-c0e2852bfb49>\u001b[0m in \u001b[0;36m<module>\u001b[0;34m()\u001b[0m\n\u001b[1;32m     56\u001b[0m         \u001b[0mdata\u001b[0m\u001b[0;34m[\u001b[0m\u001b[0;34m:\u001b[0m\u001b[0;34m,\u001b[0m\u001b[0;34m:\u001b[0m\u001b[0;34m,\u001b[0m\u001b[0;34m-\u001b[0m\u001b[0;36m1\u001b[0m\u001b[0;34m,\u001b[0m\u001b[0;34m:\u001b[0m\u001b[0;34m]\u001b[0m \u001b[0;34m=\u001b[0m \u001b[0mnp\u001b[0m\u001b[0;34m.\u001b[0m\u001b[0mrandom\u001b[0m\u001b[0;34m.\u001b[0m\u001b[0muniform\u001b[0m\u001b[0;34m(\u001b[0m\u001b[0;36m100\u001b[0m\u001b[0;34m)\u001b[0m\u001b[0;34m\u001b[0m\u001b[0m\n\u001b[1;32m     57\u001b[0m         \u001b[0mimg\u001b[0m \u001b[0;34m=\u001b[0m \u001b[0mVariable\u001b[0m\u001b[0;34m(\u001b[0m\u001b[0mdata\u001b[0m\u001b[0;34m)\u001b[0m\u001b[0;34m.\u001b[0m\u001b[0mtype\u001b[0m\u001b[0;34m(\u001b[0m\u001b[0mdtype\u001b[0m\u001b[0;34m)\u001b[0m\u001b[0;34m\u001b[0m\u001b[0m\n\u001b[0;32m---> 58\u001b[0;31m         \u001b[0moutput\u001b[0m \u001b[0;34m=\u001b[0m \u001b[0mnet\u001b[0m\u001b[0;34m(\u001b[0m\u001b[0mimg\u001b[0m\u001b[0;34m)\u001b[0m\u001b[0;34m\u001b[0m\u001b[0m\n\u001b[0m\u001b[1;32m     59\u001b[0m         \u001b[0mloss\u001b[0m \u001b[0;34m=\u001b[0m \u001b[0mphysical_loss\u001b[0m\u001b[0;34m(\u001b[0m\u001b[0moutput\u001b[0m\u001b[0;34m)\u001b[0m\u001b[0;34m\u001b[0m\u001b[0m\n\u001b[1;32m     60\u001b[0m         \u001b[0moptimizer\u001b[0m\u001b[0;34m.\u001b[0m\u001b[0mzero_grad\u001b[0m\u001b[0;34m(\u001b[0m\u001b[0;34m)\u001b[0m\u001b[0;34m\u001b[0m\u001b[0m\n",
      "\u001b[0;32m~/DeepPhysics/deepphys/lib/python3.5/site-packages/torch/nn/modules/module.py\u001b[0m in \u001b[0;36m__call__\u001b[0;34m(self, *input, **kwargs)\u001b[0m\n\u001b[1;32m    323\u001b[0m         \u001b[0;32mfor\u001b[0m \u001b[0mhook\u001b[0m \u001b[0;32min\u001b[0m \u001b[0mself\u001b[0m\u001b[0;34m.\u001b[0m\u001b[0m_forward_pre_hooks\u001b[0m\u001b[0;34m.\u001b[0m\u001b[0mvalues\u001b[0m\u001b[0;34m(\u001b[0m\u001b[0;34m)\u001b[0m\u001b[0;34m:\u001b[0m\u001b[0;34m\u001b[0m\u001b[0m\n\u001b[1;32m    324\u001b[0m             \u001b[0mhook\u001b[0m\u001b[0;34m(\u001b[0m\u001b[0mself\u001b[0m\u001b[0;34m,\u001b[0m \u001b[0minput\u001b[0m\u001b[0;34m)\u001b[0m\u001b[0;34m\u001b[0m\u001b[0m\n\u001b[0;32m--> 325\u001b[0;31m         \u001b[0mresult\u001b[0m \u001b[0;34m=\u001b[0m \u001b[0mself\u001b[0m\u001b[0;34m.\u001b[0m\u001b[0mforward\u001b[0m\u001b[0;34m(\u001b[0m\u001b[0;34m*\u001b[0m\u001b[0minput\u001b[0m\u001b[0;34m,\u001b[0m \u001b[0;34m**\u001b[0m\u001b[0mkwargs\u001b[0m\u001b[0;34m)\u001b[0m\u001b[0;34m\u001b[0m\u001b[0m\n\u001b[0m\u001b[1;32m    326\u001b[0m         \u001b[0;32mfor\u001b[0m \u001b[0mhook\u001b[0m \u001b[0;32min\u001b[0m \u001b[0mself\u001b[0m\u001b[0;34m.\u001b[0m\u001b[0m_forward_hooks\u001b[0m\u001b[0;34m.\u001b[0m\u001b[0mvalues\u001b[0m\u001b[0;34m(\u001b[0m\u001b[0;34m)\u001b[0m\u001b[0;34m:\u001b[0m\u001b[0;34m\u001b[0m\u001b[0m\n\u001b[1;32m    327\u001b[0m             \u001b[0mhook_result\u001b[0m \u001b[0;34m=\u001b[0m \u001b[0mhook\u001b[0m\u001b[0;34m(\u001b[0m\u001b[0mself\u001b[0m\u001b[0;34m,\u001b[0m \u001b[0minput\u001b[0m\u001b[0;34m,\u001b[0m \u001b[0mresult\u001b[0m\u001b[0;34m)\u001b[0m\u001b[0;34m\u001b[0m\u001b[0m\n",
      "\u001b[0;32m~/DeepPhysics/physics_informed_heat_loss/networks.py\u001b[0m in \u001b[0;36mforward\u001b[0;34m(self, x)\u001b[0m\n\u001b[1;32m     99\u001b[0m             \u001b[0mconstant\u001b[0m \u001b[0;34m=\u001b[0m \u001b[0mVariable\u001b[0m\u001b[0;34m(\u001b[0m\u001b[0mtorch\u001b[0m\u001b[0;34m.\u001b[0m\u001b[0mones\u001b[0m\u001b[0;34m(\u001b[0m\u001b[0mnum_channels\u001b[0m\u001b[0;34m,\u001b[0m\u001b[0;36m1\u001b[0m\u001b[0;34m,\u001b[0m\u001b[0;36m1\u001b[0m\u001b[0;34m,\u001b[0m\u001b[0;36m1\u001b[0m\u001b[0;34m)\u001b[0m\u001b[0;34m)\u001b[0m\u001b[0;34m.\u001b[0m\u001b[0mtype\u001b[0m\u001b[0;34m(\u001b[0m\u001b[0mself\u001b[0m\u001b[0;34m.\u001b[0m\u001b[0mdtype\u001b[0m\u001b[0;34m)\u001b[0m\u001b[0;34m\u001b[0m\u001b[0m\n\u001b[1;32m    100\u001b[0m             \u001b[0minput\u001b[0m \u001b[0;34m=\u001b[0m \u001b[0mx\u001b[0m \u001b[0;34m=\u001b[0m \u001b[0mF\u001b[0m\u001b[0;34m.\u001b[0m\u001b[0mconv2d\u001b[0m\u001b[0;34m(\u001b[0m\u001b[0mx\u001b[0m\u001b[0;34m,\u001b[0m \u001b[0mconstant\u001b[0m\u001b[0;34m)\u001b[0m\u001b[0;34m\u001b[0m\u001b[0m\n\u001b[0;32m--> 101\u001b[0;31m             \u001b[0mencoding_layers\u001b[0m \u001b[0;34m=\u001b[0m \u001b[0mself\u001b[0m\u001b[0;34m.\u001b[0m\u001b[0mencoding_layers\u001b[0m\u001b[0;34m[\u001b[0m\u001b[0;34m-\u001b[0m\u001b[0;36m1\u001b[0m\u001b[0;34m*\u001b[0m\u001b[0mnum_layers\u001b[0m\u001b[0;34m:\u001b[0m\u001b[0;34m]\u001b[0m\u001b[0;34m\u001b[0m\u001b[0m\n\u001b[0m\u001b[1;32m    102\u001b[0m             \u001b[0mencoding_bns\u001b[0m \u001b[0;34m=\u001b[0m \u001b[0mself\u001b[0m\u001b[0;34m.\u001b[0m\u001b[0mencoding_bns\u001b[0m\u001b[0;34m[\u001b[0m\u001b[0;34m-\u001b[0m\u001b[0;36m1\u001b[0m\u001b[0;34m*\u001b[0m\u001b[0mnum_layers\u001b[0m\u001b[0;34m:\u001b[0m\u001b[0;34m]\u001b[0m\u001b[0;34m\u001b[0m\u001b[0m\n\u001b[1;32m    103\u001b[0m             \u001b[0mxs\u001b[0m \u001b[0;34m=\u001b[0m \u001b[0;34m[\u001b[0m\u001b[0;34m]\u001b[0m\u001b[0;34m\u001b[0m\u001b[0m\n",
      "\u001b[0;32m~/DeepPhysics/deepphys/lib/python3.5/site-packages/torch/nn/modules/container.py\u001b[0m in \u001b[0;36m__getitem__\u001b[0;34m(self, idx)\u001b[0m\n\u001b[1;32m     98\u001b[0m \u001b[0;34m\u001b[0m\u001b[0m\n\u001b[1;32m     99\u001b[0m     \u001b[0;32mdef\u001b[0m \u001b[0m__getitem__\u001b[0m\u001b[0;34m(\u001b[0m\u001b[0mself\u001b[0m\u001b[0;34m,\u001b[0m \u001b[0midx\u001b[0m\u001b[0;34m)\u001b[0m\u001b[0;34m:\u001b[0m\u001b[0;34m\u001b[0m\u001b[0m\n\u001b[0;32m--> 100\u001b[0;31m         \u001b[0;32mif\u001b[0m \u001b[0;32mnot\u001b[0m \u001b[0;34m(\u001b[0m\u001b[0;34m-\u001b[0m\u001b[0mlen\u001b[0m\u001b[0;34m(\u001b[0m\u001b[0mself\u001b[0m\u001b[0;34m)\u001b[0m \u001b[0;34m<=\u001b[0m \u001b[0midx\u001b[0m \u001b[0;34m<\u001b[0m \u001b[0mlen\u001b[0m\u001b[0;34m(\u001b[0m\u001b[0mself\u001b[0m\u001b[0;34m)\u001b[0m\u001b[0;34m)\u001b[0m\u001b[0;34m:\u001b[0m\u001b[0;34m\u001b[0m\u001b[0m\n\u001b[0m\u001b[1;32m    101\u001b[0m             \u001b[0;32mraise\u001b[0m \u001b[0mIndexError\u001b[0m\u001b[0;34m(\u001b[0m\u001b[0;34m'index {} is out of range'\u001b[0m\u001b[0;34m.\u001b[0m\u001b[0mformat\u001b[0m\u001b[0;34m(\u001b[0m\u001b[0midx\u001b[0m\u001b[0;34m)\u001b[0m\u001b[0;34m)\u001b[0m\u001b[0;34m\u001b[0m\u001b[0m\n\u001b[1;32m    102\u001b[0m         \u001b[0;32mif\u001b[0m \u001b[0midx\u001b[0m \u001b[0;34m<\u001b[0m \u001b[0;36m0\u001b[0m\u001b[0;34m:\u001b[0m\u001b[0;34m\u001b[0m\u001b[0m\n",
      "\u001b[0;31mTypeError\u001b[0m: unorderable types: int() <= slice()"
     ]
    }
   ],
   "source": [
    "learning_rate = 2e-4\n",
    "image_size = 16\n",
    "batch_size = 1\n",
    "epochs = 10\n",
    "epoch_size = 300\n",
    "experiment = 'notebook'\n",
    "\n",
    "os.makedirs(experiment, exist_ok=True)\n",
    "\n",
    "# Set up CUDA\n",
    "dtype = torch.cuda.FloatTensor\n",
    "\n",
    "# Define physics loss\n",
    "def PhysicalLoss():\n",
    "    kernel = Variable(torch.Tensor(np.array([[[[0, 1/4, 0], [1/4, -1, 1/4], [0, 1/4, 0]]]]))).type(dtype)\n",
    "    def loss(img):\n",
    "        return F.conv2d(img, kernel).abs().mean()\n",
    "    return loss\n",
    "\n",
    "net = GrowingUNet(dtype, image_size).type(dtype)\n",
    "print(net)\n",
    "\n",
    "physical_loss = PhysicalLoss()\n",
    "optimizer = optim.Adam(net.parameters(), lr=learning_rate)\n",
    "\n",
    "fixed_sample_0 = torch.zeros(1,1,image_size,image_size)\n",
    "fixed_sample_0[:,:,:,0] = 100\n",
    "fixed_sample_0[:,:,0,:] = 0\n",
    "fixed_sample_0[:,:,:,-1] = 100\n",
    "fixed_sample_0[:,:,-1,:] = 0\n",
    "fixed_sample_0 = Variable(fixed_sample_0).cuda()\n",
    "\n",
    "fixed_sample_1 = torch.zeros(1,1,image_size,image_size)\n",
    "fixed_sample_1[:,:,:,0] = 100\n",
    "fixed_sample_1[:,:,0,:] = 100\n",
    "fixed_sample_1[:,:,:,-1] = 100\n",
    "fixed_sample_1[:,:,-1,:] = 100\n",
    "fixed_sample_1 = Variable(fixed_sample_1).cuda()\n",
    "\n",
    "boundary = np.zeros((image_size, image_size), dtype=np.bool)\n",
    "boundary[0,:] = True\n",
    "boundary[-1,:] = True\n",
    "boundary[:,0] = True\n",
    "boundary[:,-1] = True\n",
    "\n",
    "fixed_solution_0 = solve(fixed_sample_0.cpu().data.numpy()[0,0,:,:], boundary)\n",
    "fixed_solution_1 = solve(fixed_sample_1.cpu().data.numpy()[0,0,:,:], boundary)\n",
    "\n",
    "## Training loop\n",
    "data = torch.zeros(batch_size,1,image_size,image_size)\n",
    "for epoch in range(epochs):\n",
    "    for sample in range(epoch_size):\n",
    "        data[:,:,:,0] = np.random.uniform(100)\n",
    "        data[:,:,0,:] = np.random.uniform(100)\n",
    "        data[:,:,:,-1] = np.random.uniform(100)\n",
    "        data[:,:,-1,:] = np.random.uniform(100)\n",
    "        img = Variable(data).type(dtype)\n",
    "        output = net(img)\n",
    "        loss = physical_loss(output)\n",
    "        optimizer.zero_grad()\n",
    "        loss.backward()\n",
    "        optimizer.step()\n",
    "    print('epoch [{}/{}], loss:{:.4f}'\n",
    "          .format(epoch+1, epochs, loss.data[0]))\n",
    "\n",
    "    # Plot real samples\n",
    "#     plt.figure(figsize=(20, 15))\n",
    "#     f_0 = net(fixed_sample_0)\n",
    "#     f_1 = net(fixed_sample_1)\n",
    "#     XX, YY = np.meshgrid(np.arange(0, image_size), np.arange(0, image_size))\n",
    "#     plt.subplot(2,2,1)\n",
    "#     plt.contourf(XX, YY, f_0.cpu().data.numpy()[0,0,:,:], colorinterpolation=50, cmap=plt.cm.jet)\n",
    "#     plt.axis('equal')\n",
    "#     plt.subplot(2,2,2)\n",
    "#     plt.contourf(XX, YY, f_1.cpu().data.numpy()[0,0,:,:], colorinterpolation=50, cmap=plt.cm.jet)\n",
    "#     plt.axis('equal')\n",
    "#     plt.subplot(2,2,3)\n",
    "#     plt.contourf(XX, YY, fixed_solution_0, colorinterpolation=50, cmap=plt.cm.jet)\n",
    "#     plt.axis('equal')\n",
    "#     plt.subplot(2,2,4)\n",
    "#     plt.contourf(XX, YY, fixed_solution_1, colorinterpolation=50, cmap=plt.cm.jet)\n",
    "#     plt.axis('equal')\n",
    "#     plt.savefig('%s/f_1_epoch%d.png' % (experiment, epoch))\n",
    "#     plt.close()\n",
    "\n",
    "    # checkpoint networks\n",
    "#     if epoch % 5 == 0:\n",
    "#         torch.save(net.state_dict(), '%s/net_epoch_%d.pth' % (experiment, epoch))"
   ]
  },
  {
   "cell_type": "markdown",
   "metadata": {},
   "source": [
    "---\n",
    "\n",
    "---\n",
    "\n",
    "---"
   ]
  },
  {
   "cell_type": "code",
   "execution_count": 11,
   "metadata": {},
   "outputs": [
    {
     "name": "stdout",
     "output_type": "stream",
     "text": [
      "ens.0.weight\n",
      "ens.0.bias\n",
      "ens.1.weight\n",
      "ens.1.bias\n",
      "ens.2.weight\n",
      "ens.2.bias\n",
      "ens.3.weight\n",
      "ens.3.bias\n",
      "dns.0.weight\n",
      "dns.0.bias\n",
      "dns.1.weight\n",
      "dns.1.bias\n",
      "dns.2.weight\n",
      "dns.2.bias\n",
      "dns.3.weight\n",
      "dns.3.bias\n",
      "ebns.0.weight\n",
      "ebns.0.bias\n",
      "ebns.0.running_mean\n",
      "ebns.0.running_var\n",
      "ebns.1.weight\n",
      "ebns.1.bias\n",
      "ebns.1.running_mean\n",
      "ebns.1.running_var\n",
      "ebns.2.weight\n",
      "ebns.2.bias\n",
      "ebns.2.running_mean\n",
      "ebns.2.running_var\n",
      "ebns.3.weight\n",
      "ebns.3.bias\n",
      "ebns.3.running_mean\n",
      "ebns.3.running_var\n",
      "dbns.0.weight\n",
      "dbns.0.bias\n",
      "dbns.0.running_mean\n",
      "dbns.0.running_var\n",
      "dbns.1.weight\n",
      "dbns.1.bias\n",
      "dbns.1.running_mean\n",
      "dbns.1.running_var\n",
      "dbns.2.weight\n",
      "dbns.2.bias\n",
      "dbns.2.running_mean\n",
      "dbns.2.running_var\n",
      "dbns.3.weight\n",
      "dbns.3.bias\n",
      "dbns.3.running_mean\n",
      "dbns.3.running_var\n"
     ]
    }
   ],
   "source": [
    "for i in net.state_dict():\n",
    "    print(i)"
   ]
  },
  {
   "cell_type": "code",
   "execution_count": 51,
   "metadata": {},
   "outputs": [],
   "source": [
    "net1 = UNet(dtype, image_size=32).type(dtype)"
   ]
  },
  {
   "cell_type": "code",
   "execution_count": 58,
   "metadata": {},
   "outputs": [
    {
     "name": "stdout",
     "output_type": "stream",
     "text": [
      "Net1:\n",
      "Conv2d (1, 64, kernel_size=(4, 4), stride=(2, 2), padding=(1, 1))\n",
      "Conv2d (64, 128, kernel_size=(4, 4), stride=(2, 2), padding=(1, 1))\n",
      "Conv2d (128, 256, kernel_size=(4, 4), stride=(2, 2), padding=(1, 1))\n",
      "Conv2d (256, 512, kernel_size=(4, 4), stride=(2, 2), padding=(1, 1))\n",
      "Conv2d (512, 512, kernel_size=(4, 4), stride=(2, 2), padding=(1, 1))\n",
      "Net:\n",
      "Conv2d (1, 64, kernel_size=(4, 4), stride=(2, 2), padding=(1, 1))\n",
      "Conv2d (64, 128, kernel_size=(4, 4), stride=(2, 2), padding=(1, 1))\n",
      "Conv2d (128, 256, kernel_size=(4, 4), stride=(2, 2), padding=(1, 1))\n",
      "Conv2d (256, 512, kernel_size=(4, 4), stride=(2, 2), padding=(1, 1))\n"
     ]
    }
   ],
   "source": [
    "print(\"Net1:\")\n",
    "for i in net1.ens:\n",
    "    print(i)\n",
    "print(\"Net:\")\n",
    "for i in net.ens:\n",
    "    print(i)"
   ]
  },
  {
   "cell_type": "code",
   "execution_count": 55,
   "metadata": {},
   "outputs": [
    {
     "name": "stdout",
     "output_type": "stream",
     "text": [
      "weight\n",
      "bias\n"
     ]
    }
   ],
   "source": [
    "for i in net1.dns[0].state_dict():\n",
    "    print(i)"
   ]
  },
  {
   "cell_type": "code",
   "execution_count": 45,
   "metadata": {},
   "outputs": [
    {
     "name": "stdout",
     "output_type": "stream",
     "text": [
      "module:  ens.0.weight\n",
      "exists in smaller network\n",
      "torch.Size([64, 1, 4, 4])\n",
      "torch.Size([64, 1, 4, 4])\n",
      "module:  ens.0.bias\n",
      "exists in smaller network\n",
      "torch.Size([64])\n",
      "torch.Size([64])\n",
      "module:  ens.1.weight\n",
      "exists in smaller network\n",
      "torch.Size([128, 64, 4, 4])\n",
      "torch.Size([128, 64, 4, 4])\n",
      "module:  ens.1.bias\n",
      "exists in smaller network\n",
      "torch.Size([128])\n",
      "torch.Size([128])\n",
      "module:  ens.2.weight\n",
      "exists in smaller network\n",
      "torch.Size([256, 128, 4, 4])\n",
      "torch.Size([256, 128, 4, 4])\n",
      "module:  ens.2.bias\n",
      "exists in smaller network\n",
      "torch.Size([256])\n",
      "torch.Size([256])\n",
      "module:  ens.3.weight\n",
      "exists in smaller network\n",
      "torch.Size([512, 256, 4, 4])\n",
      "torch.Size([512, 256, 4, 4])\n",
      "module:  ens.3.bias\n",
      "exists in smaller network\n",
      "torch.Size([512])\n",
      "torch.Size([512])\n",
      "module:  ens.4.weight\n",
      "module:  ens.4.bias\n",
      "module:  dns.0.weight\n",
      "exists in smaller network\n",
      "torch.Size([512, 512, 4, 4])\n",
      "torch.Size([512, 256, 4, 4])\n",
      "module:  dns.0.bias\n",
      "exists in smaller network\n",
      "torch.Size([512])\n",
      "torch.Size([256])\n",
      "module:  dns.1.weight\n",
      "exists in smaller network\n",
      "torch.Size([1024, 256, 4, 4])\n",
      "torch.Size([512, 128, 4, 4])\n",
      "module:  dns.1.bias\n",
      "exists in smaller network\n",
      "torch.Size([256])\n",
      "torch.Size([128])\n",
      "module:  dns.2.weight\n",
      "exists in smaller network\n",
      "torch.Size([512, 128, 4, 4])\n",
      "torch.Size([256, 64, 4, 4])\n",
      "module:  dns.2.bias\n",
      "exists in smaller network\n",
      "torch.Size([128])\n",
      "torch.Size([64])\n",
      "module:  dns.3.weight\n",
      "exists in smaller network\n",
      "torch.Size([256, 64, 4, 4])\n",
      "torch.Size([128, 1, 4, 4])\n",
      "module:  dns.3.bias\n",
      "exists in smaller network\n",
      "torch.Size([64])\n",
      "torch.Size([1])\n",
      "module:  dns.4.weight\n",
      "module:  dns.4.bias\n",
      "module:  ebns.0.weight\n",
      "exists in smaller network\n",
      "torch.Size([64])\n",
      "torch.Size([64])\n",
      "module:  ebns.0.bias\n",
      "exists in smaller network\n",
      "torch.Size([64])\n",
      "torch.Size([64])\n",
      "equal in smaller network\n",
      "module:  ebns.0.running_mean\n",
      "exists in smaller network\n",
      "torch.Size([64])\n",
      "torch.Size([64])\n",
      "equal in smaller network\n",
      "module:  ebns.0.running_var\n",
      "exists in smaller network\n",
      "torch.Size([64])\n",
      "torch.Size([64])\n",
      "equal in smaller network\n",
      "module:  ebns.1.weight\n",
      "exists in smaller network\n",
      "torch.Size([128])\n",
      "torch.Size([128])\n",
      "module:  ebns.1.bias\n",
      "exists in smaller network\n",
      "torch.Size([128])\n",
      "torch.Size([128])\n",
      "module:  ebns.1.running_mean\n",
      "exists in smaller network\n",
      "torch.Size([128])\n",
      "torch.Size([128])\n",
      "module:  ebns.1.running_var\n",
      "exists in smaller network\n",
      "torch.Size([128])\n",
      "torch.Size([128])\n",
      "module:  ebns.2.weight\n",
      "exists in smaller network\n",
      "torch.Size([256])\n",
      "torch.Size([256])\n",
      "module:  ebns.2.bias\n",
      "exists in smaller network\n",
      "torch.Size([256])\n",
      "torch.Size([256])\n",
      "module:  ebns.2.running_mean\n",
      "exists in smaller network\n",
      "torch.Size([256])\n",
      "torch.Size([256])\n",
      "module:  ebns.2.running_var\n",
      "exists in smaller network\n",
      "torch.Size([256])\n",
      "torch.Size([256])\n",
      "module:  ebns.3.weight\n",
      "exists in smaller network\n",
      "torch.Size([512])\n",
      "torch.Size([512])\n",
      "module:  ebns.3.bias\n",
      "exists in smaller network\n",
      "torch.Size([512])\n",
      "torch.Size([512])\n",
      "equal in smaller network\n",
      "module:  ebns.3.running_mean\n",
      "exists in smaller network\n",
      "torch.Size([512])\n",
      "torch.Size([512])\n",
      "equal in smaller network\n",
      "module:  ebns.3.running_var\n",
      "exists in smaller network\n",
      "torch.Size([512])\n",
      "torch.Size([512])\n",
      "equal in smaller network\n",
      "module:  ebns.4.weight\n",
      "module:  ebns.4.bias\n",
      "module:  ebns.4.running_mean\n",
      "module:  ebns.4.running_var\n",
      "module:  dbns.0.weight\n",
      "exists in smaller network\n",
      "torch.Size([512])\n",
      "torch.Size([256])\n",
      "module:  dbns.0.bias\n",
      "exists in smaller network\n",
      "torch.Size([512])\n",
      "torch.Size([256])\n",
      "module:  dbns.0.running_mean\n",
      "exists in smaller network\n",
      "torch.Size([512])\n",
      "torch.Size([256])\n",
      "module:  dbns.0.running_var\n",
      "exists in smaller network\n",
      "torch.Size([512])\n",
      "torch.Size([256])\n",
      "module:  dbns.1.weight\n",
      "exists in smaller network\n",
      "torch.Size([256])\n",
      "torch.Size([128])\n",
      "module:  dbns.1.bias\n",
      "exists in smaller network\n",
      "torch.Size([256])\n",
      "torch.Size([128])\n",
      "module:  dbns.1.running_mean\n",
      "exists in smaller network\n",
      "torch.Size([256])\n",
      "torch.Size([128])\n",
      "module:  dbns.1.running_var\n",
      "exists in smaller network\n",
      "torch.Size([256])\n",
      "torch.Size([128])\n",
      "module:  dbns.2.weight\n",
      "exists in smaller network\n",
      "torch.Size([128])\n",
      "torch.Size([64])\n",
      "module:  dbns.2.bias\n",
      "exists in smaller network\n",
      "torch.Size([128])\n",
      "torch.Size([64])\n",
      "module:  dbns.2.running_mean\n",
      "exists in smaller network\n",
      "torch.Size([128])\n",
      "torch.Size([64])\n",
      "module:  dbns.2.running_var\n",
      "exists in smaller network\n",
      "torch.Size([128])\n",
      "torch.Size([64])\n",
      "module:  dbns.3.weight\n",
      "exists in smaller network\n",
      "torch.Size([64])\n",
      "torch.Size([64])\n",
      "module:  dbns.3.bias\n",
      "exists in smaller network\n",
      "torch.Size([64])\n",
      "torch.Size([64])\n",
      "equal in smaller network\n",
      "module:  dbns.3.running_mean\n",
      "exists in smaller network\n",
      "torch.Size([64])\n",
      "torch.Size([64])\n",
      "equal in smaller network\n",
      "module:  dbns.3.running_var\n",
      "exists in smaller network\n",
      "torch.Size([64])\n",
      "torch.Size([64])\n",
      "equal in smaller network\n",
      "module:  dbns.4.weight\n",
      "module:  dbns.4.bias\n",
      "module:  dbns.4.running_mean\n",
      "module:  dbns.4.running_var\n"
     ]
    }
   ],
   "source": [
    "for i in net1.state_dict():\n",
    "    print (\"module: \", i)\n",
    "    if i in net.state_dict():\n",
    "        print (\"exists in smaller network\")\n",
    "        print(net1.state_dict()[i].size())\n",
    "        print(net.state_dict()[i].size())\n",
    "        if net1.state_dict()[i].equal(net.state_dict()[i]):\n",
    "            print (\"equal in smaller network\")\n",
    "#             print (net1.state_dict()[i])"
   ]
  },
  {
   "cell_type": "code",
   "execution_count": 33,
   "metadata": {},
   "outputs": [
    {
     "data": {
      "image/png": "[encoded data removed]",
      "text/plain": [
       "<matplotlib.figure.Figure at 0x7f73e034f5c0>"
      ]
     },
     "metadata": {},
     "output_type": "display_data"
    }
   ],
   "source": [
    "data = torch.zeros(batch_size,1,32,32)\n",
    "for sample in range(epoch_size):\n",
    "    data[:,:,:,0] = 100\n",
    "    data[:,:,0,:] = 0\n",
    "    data[:,:,:,-1] = 100\n",
    "    data[:,:,-1,:] = 0\n",
    "out = net1(Variable(data).type(dtype))\n",
    "\n",
    "plt.close()\n",
    "XX, YY = np.meshgrid(np.arange(0, 32), np.arange(0, 32))\n",
    "plt.contourf(XX, YY, out.cpu().data.numpy().squeeze(), colorinterpolation=50, vmin=0, vmax=100, cmap=plt.cm.jet)\n",
    "plt.show()"
   ]
  },
  {
   "cell_type": "markdown",
   "metadata": {},
   "source": [
    "---\n",
    "\n",
    "---\n",
    "\n",
    "---"
   ]
  },
  {
   "cell_type": "code",
   "execution_count": 51,
   "metadata": {},
   "outputs": [
    {
     "data": {
      "application/javascript": [
       "IPython.notebook.set_autosave_interval(100000)"
      ]
     },
     "metadata": {},
     "output_type": "display_data"
    },
    {
     "name": "stdout",
     "output_type": "stream",
     "text": [
      "Autosaving every 100 seconds\n"
     ]
    }
   ],
   "source": [
    "import torch\n",
    "import torch.nn as nn\n",
    "from torch.autograd import Variable\n",
    "import torchvision.datasets as dset\n",
    "import torchvision.transforms as transforms\n",
    "import torch.nn.functional as F\n",
    "import torch.optim as optim\n",
    "from torchvision.utils import save_image\n",
    "\n",
    "import numpy as np\n",
    "import matplotlib.pyplot as plt\n",
    "import functools\n",
    "\n",
    "from networks import UnetGenerator\n",
    "from datasets import loadHeat\n",
    "\n",
    "%autosave 100\n",
    "\n",
    "def to_img(x, data_size):\n",
    "#     x = x.clamp(0, 1)\n",
    "    x = x.view(x.size(0), 1, data_size, data_size)\n",
    "    return x"
   ]
  },
  {
   "cell_type": "code",
   "execution_count": 52,
   "metadata": {},
   "outputs": [],
   "source": [
    "# Define training parameters\n",
    "batch_size=1\n",
    "learning_rate = 2e-4\n",
    "num_epochs = 2000\n",
    "epoch_size = 360"
   ]
  },
  {
   "cell_type": "code",
   "execution_count": 53,
   "metadata": {},
   "outputs": [],
   "source": [
    "# Input image handling\n",
    "data_size = 32\n",
    "dataset = loadHeat(data_size, ground_truth=False)\n",
    "dataloader = torch.utils.data.DataLoader(dataset, batch_size=batch_size, shuffle=True)"
   ]
  },
  {
   "cell_type": "code",
   "execution_count": 54,
   "metadata": {},
   "outputs": [
    {
     "name": "stdout",
     "output_type": "stream",
     "text": [
      "UNet(\n",
      "  (conv1): Conv2d (1, 64, kernel_size=(4, 4), stride=(2, 2), padding=(1, 1))\n",
      "  (conv2): Conv2d (64, 128, kernel_size=(4, 4), stride=(2, 2), padding=(1, 1))\n",
      "  (conv3): Conv2d (128, 256, kernel_size=(4, 4), stride=(2, 2), padding=(1, 1))\n",
      "  (conv4): Conv2d (256, 512, kernel_size=(4, 4), stride=(2, 2), padding=(1, 1))\n",
      "  (conv5): Conv2d (512, 512, kernel_size=(4, 4), stride=(2, 2), padding=(1, 1))\n",
      "  (ebn1): BatchNorm2d(64, eps=1e-05, momentum=0.1, affine=True)\n",
      "  (ebn2): BatchNorm2d(128, eps=1e-05, momentum=0.1, affine=True)\n",
      "  (ebn3): BatchNorm2d(256, eps=1e-05, momentum=0.1, affine=True)\n",
      "  (ebn4): BatchNorm2d(512, eps=1e-05, momentum=0.1, affine=True)\n",
      "  (ebn5): BatchNorm2d(512, eps=1e-05, momentum=0.1, affine=True)\n",
      "  (deconv1): ConvTranspose2d (512, 512, kernel_size=(4, 4), stride=(2, 2), padding=(1, 1))\n",
      "  (deconv2): ConvTranspose2d (1024, 256, kernel_size=(4, 4), stride=(2, 2), padding=(1, 1))\n",
      "  (deconv3): ConvTranspose2d (512, 128, kernel_size=(4, 4), stride=(2, 2), padding=(1, 1))\n",
      "  (deconv4): ConvTranspose2d (256, 64, kernel_size=(4, 4), stride=(2, 2), padding=(1, 1))\n",
      "  (deconv5): ConvTranspose2d (128, 1, kernel_size=(4, 4), stride=(2, 2), padding=(1, 1))\n",
      "  (dbn1): BatchNorm2d(512, eps=1e-05, momentum=0.1, affine=True)\n",
      "  (dbn2): BatchNorm2d(256, eps=1e-05, momentum=0.1, affine=True)\n",
      "  (dbn3): BatchNorm2d(128, eps=1e-05, momentum=0.1, affine=True)\n",
      "  (dbn4): BatchNorm2d(64, eps=1e-05, momentum=0.1, affine=True)\n",
      ")\n"
     ]
    }
   ],
   "source": [
    "center_mask = torch.zeros(1,32,32).unsqueeze(0)\n",
    "center_mask[:,:,:,0] = 1\n",
    "center_mask[:,:,0,:] = 1\n",
    "center_mask[:,:,:,-1] = 1\n",
    "center_mask[:,:,-1,:] = 1\n",
    "\n",
    "boundary_mask = 1 - center_mask\n",
    "\n",
    "class UNet(nn.Module):\n",
    "    # UNet for Heat Transport\n",
    "    def __init__(self, image_size=32, max_temp=100, num_filters=64):\n",
    "        super(UNet, self).__init__()\n",
    "\n",
    "        self.max_temp = max_temp\n",
    "\n",
    "        self.conv1 = nn.Conv2d(1, num_filters, kernel_size=4, stride=2,padding=1)\n",
    "        self.conv2 = nn.Conv2d(num_filters, num_filters*2, kernel_size=4, stride=2, padding=1)\n",
    "        self.conv3 = nn.Conv2d(num_filters*2, num_filters*4, kernel_size=4, stride=2, padding=1)\n",
    "        self.conv4 = nn.Conv2d(num_filters*4, num_filters*8, kernel_size=4, stride=2, padding=1)\n",
    "        self.conv5 = nn.Conv2d(num_filters*8, num_filters*8, kernel_size=4, stride=2, padding=1)\n",
    "\n",
    "        self.ebn1 = nn.BatchNorm2d(num_filters)\n",
    "        self.ebn2 = nn.BatchNorm2d(num_filters*2)\n",
    "        self.ebn3 = nn.BatchNorm2d(num_filters*4)\n",
    "        self.ebn4 = nn.BatchNorm2d(num_filters*8)\n",
    "        self.ebn5 = nn.BatchNorm2d(num_filters*8)\n",
    "\n",
    "        self.encoded = None # 4x4x4\n",
    "        \n",
    "        self.deconv1 = nn.ConvTranspose2d(num_filters*8, num_filters*8, kernel_size=4, stride=2, padding=1)\n",
    "        self.deconv2 = nn.ConvTranspose2d(num_filters*8*2, num_filters*4, kernel_size=4, stride=2, padding=1)\n",
    "        self.deconv3 = nn.ConvTranspose2d(num_filters*4*2, num_filters*2, kernel_size=4, stride=2, padding=1)\n",
    "        self.deconv4 = nn.ConvTranspose2d(num_filters*2*2, num_filters, kernel_size=4, stride=2, padding=1)\n",
    "        self.deconv5 = nn.ConvTranspose2d(num_filters*2, 1, kernel_size=4, stride=2, padding=1)\n",
    "\n",
    "        self.dbn1 = nn.BatchNorm2d(num_filters*8)\n",
    "        self.dbn2 = nn.BatchNorm2d(num_filters*4)\n",
    "        self.dbn3 = nn.BatchNorm2d(num_filters*2)\n",
    "        self.dbn4 = nn.BatchNorm2d(num_filters)\n",
    "\n",
    "\n",
    "    def forward(self, x):\n",
    "        # encoder\n",
    "        en_1 = F.leaky_relu(self.conv1(x), 0.2)\n",
    "        en_2 = F.leaky_relu(self.ebn2(self.conv2(en_1)), 0.2)\n",
    "        en_3 = F.leaky_relu(self.ebn3(self.conv3(en_2)), 0.2)\n",
    "        en_4 = F.leaky_relu(self.ebn4(self.conv4(en_3)), 0.2)\n",
    "\n",
    "        # encoded representation is (batch_size, num_filters*8, 1, 1)-dimensional encoding space\n",
    "        self.encoded = self.conv5(en_4)\n",
    "        \n",
    "        # decoder\n",
    "        de_1 = self.dbn1(self.deconv1(F.relu(self.encoded)))\n",
    "        de_2 = self.dbn2(self.deconv2(F.relu(torch.cat((de_1, en_4), dim=1))))\n",
    "        de_3 = self.dbn3(self.deconv3(F.relu(torch.cat((de_2, en_3), dim=1))))\n",
    "        de_4 = self.dbn4(self.deconv4(F.relu(torch.cat((de_3, en_2), dim=1))))\n",
    "        decoded = F.tanh(self.deconv5(F.relu(torch.cat((de_4, en_1), dim=1))))\n",
    "        output = (decoded + 1)*self.max_temp / 2\n",
    "        output = output*Variable(boundary_mask).cuda() + x*Variable(center_mask).cuda()\n",
    "        return output\n",
    "\n",
    "net = UNet().cuda()\n",
    "print(net)"
   ]
  },
  {
   "cell_type": "code",
   "execution_count": 55,
   "metadata": {},
   "outputs": [],
   "source": [
    "# Define physics loss\n",
    "kernel = Variable(torch.Tensor(np.array([[[[0, 1/4, 0], [1/4, -1, 1/4], [0, 1/4, 0]]]]))).cuda()\n",
    "\n",
    "def physical_loss(img):\n",
    "    return F.conv2d(img, kernel).abs().mean()\n",
    "\n",
    "criterion = physical_loss\n",
    "optimizer = optim.Adam(net.parameters(), lr=learning_rate)"
   ]
  },
  {
   "cell_type": "code",
   "execution_count": 56,
   "metadata": {
    "scrolled": true
   },
   "outputs": [
    {
     "name": "stdout",
     "output_type": "stream",
     "text": [
      "epoch [1/2000], loss:1.1402\n",
      "epoch [2/2000], loss:0.7278\n",
      "epoch [3/2000], loss:0.4521\n",
      "epoch [4/2000], loss:0.6054\n",
      "epoch [5/2000], loss:0.4197\n",
      "epoch [6/2000], loss:0.5104\n",
      "epoch [7/2000], loss:0.7458\n",
      "epoch [8/2000], loss:0.6473\n",
      "epoch [9/2000], loss:0.6308\n",
      "epoch [10/2000], loss:0.8299\n",
      "epoch [11/2000], loss:0.5177\n",
      "epoch [12/2000], loss:0.4445\n",
      "epoch [13/2000], loss:0.3842\n",
      "epoch [14/2000], loss:0.6460\n",
      "epoch [15/2000], loss:0.3113\n",
      "epoch [16/2000], loss:0.4726\n",
      "epoch [17/2000], loss:1.0888\n",
      "epoch [18/2000], loss:0.4417\n",
      "epoch [19/2000], loss:0.2665\n",
      "epoch [20/2000], loss:0.4074\n",
      "epoch [21/2000], loss:0.7777\n",
      "epoch [22/2000], loss:0.2888\n",
      "epoch [23/2000], loss:0.2858\n",
      "epoch [24/2000], loss:0.3013\n"
     ]
    },
    {
     "ename": "KeyboardInterrupt",
     "evalue": "",
     "output_type": "error",
     "traceback": [
      "\u001b[0;31m---------------------------------------------------------------------------\u001b[0m",
      "\u001b[0;31mKeyboardInterrupt\u001b[0m                         Traceback (most recent call last)",
      "\u001b[0;32m<ipython-input-56-800bb52e1b7e>\u001b[0m in \u001b[0;36m<module>\u001b[0;34m()\u001b[0m\n\u001b[1;32m     14\u001b[0m         \u001b[0mloss\u001b[0m \u001b[0;34m=\u001b[0m \u001b[0mcriterion\u001b[0m\u001b[0;34m(\u001b[0m\u001b[0moutput\u001b[0m\u001b[0;34m)\u001b[0m\u001b[0;34m\u001b[0m\u001b[0m\n\u001b[1;32m     15\u001b[0m         \u001b[0moptimizer\u001b[0m\u001b[0;34m.\u001b[0m\u001b[0mzero_grad\u001b[0m\u001b[0;34m(\u001b[0m\u001b[0;34m)\u001b[0m\u001b[0;34m\u001b[0m\u001b[0m\n\u001b[0;32m---> 16\u001b[0;31m         \u001b[0mloss\u001b[0m\u001b[0;34m.\u001b[0m\u001b[0mbackward\u001b[0m\u001b[0;34m(\u001b[0m\u001b[0;34m)\u001b[0m\u001b[0;34m\u001b[0m\u001b[0m\n\u001b[0m\u001b[1;32m     17\u001b[0m         \u001b[0moptimizer\u001b[0m\u001b[0;34m.\u001b[0m\u001b[0mstep\u001b[0m\u001b[0;34m(\u001b[0m\u001b[0;34m)\u001b[0m\u001b[0;34m\u001b[0m\u001b[0m\n\u001b[1;32m     18\u001b[0m     print('epoch [{}/{}], loss:{:.4f}'\n",
      "\u001b[0;32m~/DeepPhysics/deepphys/lib/python3.5/site-packages/torch/autograd/variable.py\u001b[0m in \u001b[0;36mbackward\u001b[0;34m(self, gradient, retain_graph, create_graph, retain_variables)\u001b[0m\n\u001b[1;32m    165\u001b[0m                 \u001b[0mVariable\u001b[0m\u001b[0;34m.\u001b[0m\u001b[0;34m\u001b[0m\u001b[0m\n\u001b[1;32m    166\u001b[0m         \"\"\"\n\u001b[0;32m--> 167\u001b[0;31m         \u001b[0mtorch\u001b[0m\u001b[0;34m.\u001b[0m\u001b[0mautograd\u001b[0m\u001b[0;34m.\u001b[0m\u001b[0mbackward\u001b[0m\u001b[0;34m(\u001b[0m\u001b[0mself\u001b[0m\u001b[0;34m,\u001b[0m \u001b[0mgradient\u001b[0m\u001b[0;34m,\u001b[0m \u001b[0mretain_graph\u001b[0m\u001b[0;34m,\u001b[0m \u001b[0mcreate_graph\u001b[0m\u001b[0;34m,\u001b[0m \u001b[0mretain_variables\u001b[0m\u001b[0;34m)\u001b[0m\u001b[0;34m\u001b[0m\u001b[0m\n\u001b[0m\u001b[1;32m    168\u001b[0m \u001b[0;34m\u001b[0m\u001b[0m\n\u001b[1;32m    169\u001b[0m     \u001b[0;32mdef\u001b[0m \u001b[0mregister_hook\u001b[0m\u001b[0;34m(\u001b[0m\u001b[0mself\u001b[0m\u001b[0;34m,\u001b[0m \u001b[0mhook\u001b[0m\u001b[0;34m)\u001b[0m\u001b[0;34m:\u001b[0m\u001b[0;34m\u001b[0m\u001b[0m\n",
      "\u001b[0;32m~/DeepPhysics/deepphys/lib/python3.5/site-packages/torch/autograd/__init__.py\u001b[0m in \u001b[0;36mbackward\u001b[0;34m(variables, grad_variables, retain_graph, create_graph, retain_variables)\u001b[0m\n\u001b[1;32m     97\u001b[0m \u001b[0;34m\u001b[0m\u001b[0m\n\u001b[1;32m     98\u001b[0m     Variable._execution_engine.run_backward(\n\u001b[0;32m---> 99\u001b[0;31m         variables, grad_variables, retain_graph)\n\u001b[0m\u001b[1;32m    100\u001b[0m \u001b[0;34m\u001b[0m\u001b[0m\n\u001b[1;32m    101\u001b[0m \u001b[0;34m\u001b[0m\u001b[0m\n",
      "\u001b[0;31mKeyboardInterrupt\u001b[0m: "
     ]
    }
   ],
   "source": [
    "# Outer training loop\n",
    "## Training loop\n",
    "data = torch.zeros(1,1,32,32)\n",
    "for epoch in range(num_epochs):\n",
    "    for sample in range(epoch_size):\n",
    "        data[:,:,:,0] = np.random.uniform(100)\n",
    "        data[:,:,0,:] = np.random.uniform(100)\n",
    "        data[:,:,:,-1] = np.random.uniform(100)\n",
    "        data[:,:,-1,:] = np.random.uniform(100)\n",
    "        img = Variable(data).cuda()\n",
    "        output = net(img)\n",
    "#         output = (output+1)*50\n",
    "#         output = output*boundary_mask + img*center_mask\n",
    "        loss = criterion(output)\n",
    "        optimizer.zero_grad()\n",
    "        loss.backward()\n",
    "        optimizer.step()\n",
    "    print('epoch [{}/{}], loss:{:.4f}'\n",
    "          .format(epoch+1, num_epochs, loss.data[0]))\n",
    "#     if epoch % 10 == 0:\n",
    "#         train_pic = to_img(img.cpu().data)\n",
    "#         gen_pic = to_img(output.cpu().data, data_size)\n",
    "#         save_image(train_pic, './decoded_mnist/image_{}_train.png'.format(epoch))\n",
    "#         save_image(gen_pic, './generated_heat_fields/image_{}_gen.png'.format(epoch), scale_each=True, range=(0,100))"
   ]
  },
  {
   "cell_type": "code",
   "execution_count": null,
   "metadata": {},
   "outputs": [],
   "source": [
    "## Save model"
   ]
  },
  {
   "cell_type": "code",
   "execution_count": null,
   "metadata": {},
   "outputs": [],
   "source": [
    "# Output image handling"
   ]
  },
  {
   "cell_type": "code",
   "execution_count": 57,
   "metadata": {},
   "outputs": [],
   "source": [
    "# heat = Variable(torch.Tensor(np.loadtxt('datasets/small_data/BC/0-10-20-90.csv', delimiter=','))).cuda()\n",
    "heat = Variable(torch.Tensor(np.loadtxt('datasets/%d_small/BC/0-100-20-40.csv' % data_size, delimiter=','))).cuda()\n",
    "truth = Variable(torch.Tensor(np.loadtxt('datasets/%d_small/field/0-100-20-40.csv' % data_size, delimiter=','))).cuda()"
   ]
  },
  {
   "cell_type": "code",
   "execution_count": 58,
   "metadata": {},
   "outputs": [],
   "source": [
    "output = net(heat.unsqueeze(0).unsqueeze(0))"
   ]
  },
  {
   "cell_type": "code",
   "execution_count": 59,
   "metadata": {},
   "outputs": [
    {
     "data": {
      "text/plain": [
       "Variable containing:\n",
       "(0 ,0 ,.,.) = \n",
       "   20.0000  100.0000  100.0000  ...   100.0000  100.0000   40.0000\n",
       "   20.0000   64.1281   72.8604  ...    83.7566   77.3496   40.0000\n",
       "   20.0000   23.3165   12.2718  ...    73.6453   62.5778   40.0000\n",
       "              ...                ⋱                ...             \n",
       "   20.0000   18.2487   18.6812  ...    27.4844   33.4701   40.0000\n",
       "   20.0000   22.3977   15.6183  ...    23.8701   16.1801   40.0000\n",
       "   20.0000    0.0000    0.0000  ...     0.0000    0.0000   40.0000\n",
       "[torch.cuda.FloatTensor of size 1x1x32x32 (GPU 0)]"
      ]
     },
     "execution_count": 59,
     "metadata": {},
     "output_type": "execute_result"
    }
   ],
   "source": [
    "output"
   ]
  },
  {
   "cell_type": "code",
   "execution_count": 60,
   "metadata": {
    "scrolled": false
   },
   "outputs": [
    {
     "data": {
      "image/png": "[encoded data removed]",
      "text/plain": [
       "<matplotlib.figure.Figure at 0x7f5244404b00>"
      ]
     },
     "metadata": {},
     "output_type": "display_data"
    },
    {
     "data": {
      "image/png": "[encoded data removed]",
      "text/plain": [
       "<matplotlib.figure.Figure at 0x7f524448cdd8>"
      ]
     },
     "metadata": {},
     "output_type": "display_data"
    }
   ],
   "source": [
    "plt.figure(figsize=(10,10))\n",
    "XX, YY = np.meshgrid(np.arange(0, data_size), np.arange(0, data_size))\n",
    "plt.contourf(XX, YY, output.cpu().data.numpy()[0,0,:,:], colorinterpolation=50, cmap=plt.cm.jet)\n",
    "# plt.imshow(output.cpu().data.numpy()[0,0,:,:])\n",
    "# plt.colorbar()\n",
    "plt.show()\n",
    "\n",
    "plt.figure(figsize=(10,10))\n",
    "XX, YY = np.meshgrid(np.arange(0, data_size), np.arange(0, data_size))\n",
    "plt.contourf(XX, YY, truth.cpu().data.numpy(), colorinterpolation=50, cmap=plt.cm.jet)\n",
    "# plt.imshow(truth.cpu().data.numpy())\n",
    "# plt.colorbar()\n",
    "plt.show()"
   ]
  },
  {
   "cell_type": "code",
   "execution_count": 40,
   "metadata": {},
   "outputs": [
    {
     "data": {
      "image/png": "[encoded data removed]",
      "text/plain": [
       "<matplotlib.figure.Figure at 0x7f52446925f8>"
      ]
     },
     "metadata": {},
     "output_type": "display_data"
    }
   ],
   "source": [
    "plt.figure(figsize=(10,10))\n",
    "XX, YY = np.meshgrid(np.arange(0, data_size), np.arange(0, data_size))\n",
    "plt.contourf(XX, YY, heat.cpu().data.numpy(), colorinterpolation=50, cmap=plt.cm.jet)\n",
    "# plt.imshow(output.cpu().data.numpy()[0,0,:,:])\n",
    "# plt.colorbar()\n",
    "plt.show()"
   ]
  },
  {
   "cell_type": "markdown",
   "metadata": {},
   "source": [
    "---\n",
    "\n",
    "---\n",
    "\n",
    "---\n",
    "\n",
    "---\n",
    "\n",
    "---\n",
    "\n",
    "---\n",
    "# Miscellaneous Tests"
   ]
  },
  {
   "cell_type": "code",
   "execution_count": 4,
   "metadata": {},
   "outputs": [
    {
     "name": "stdout",
     "output_type": "stream",
     "text": [
      "UnetGenerator (\n",
      "  (model): UnetSkipConnectionBlock (\n",
      "    (model): Sequential (\n",
      "      (0): Conv2d(1, 64, kernel_size=(4, 4), stride=(2, 2), padding=(1, 1), bias=False)\n",
      "      (1): UnetSkipConnectionBlock (\n",
      "        (model): Sequential (\n",
      "          (0): LeakyReLU (0.2, inplace)\n",
      "          (1): Conv2d(64, 128, kernel_size=(4, 4), stride=(2, 2), padding=(1, 1), bias=False)\n",
      "          (2): BatchNorm2d(128, eps=1e-05, momentum=0.1, affine=True)\n",
      "          (3): UnetSkipConnectionBlock (\n",
      "            (model): Sequential (\n",
      "              (0): LeakyReLU (0.2, inplace)\n",
      "              (1): Conv2d(128, 256, kernel_size=(4, 4), stride=(2, 2), padding=(1, 1), bias=False)\n",
      "              (2): BatchNorm2d(256, eps=1e-05, momentum=0.1, affine=True)\n",
      "              (3): UnetSkipConnectionBlock (\n",
      "                (model): Sequential (\n",
      "                  (0): LeakyReLU (0.2, inplace)\n",
      "                  (1): Conv2d(256, 512, kernel_size=(4, 4), stride=(2, 2), padding=(1, 1), bias=False)\n",
      "                  (2): BatchNorm2d(512, eps=1e-05, momentum=0.1, affine=True)\n",
      "                  (3): UnetSkipConnectionBlock (\n",
      "                    (model): Sequential (\n",
      "                      (0): LeakyReLU (0.2, inplace)\n",
      "                      (1): Conv2d(512, 512, kernel_size=(4, 4), stride=(2, 2), padding=(1, 1), bias=False)\n",
      "                      (2): ReLU (inplace)\n",
      "                      (3): ConvTranspose2d(512, 512, kernel_size=(4, 4), stride=(2, 2), padding=(1, 1), bias=False)\n",
      "                      (4): BatchNorm2d(512, eps=1e-05, momentum=0.1, affine=True)\n",
      "                    )\n",
      "                  )\n",
      "                  (4): ReLU (inplace)\n",
      "                  (5): ConvTranspose2d(1024, 256, kernel_size=(4, 4), stride=(2, 2), padding=(1, 1), bias=False)\n",
      "                  (6): BatchNorm2d(256, eps=1e-05, momentum=0.1, affine=True)\n",
      "                )\n",
      "              )\n",
      "              (4): ReLU (inplace)\n",
      "              (5): ConvTranspose2d(512, 128, kernel_size=(4, 4), stride=(2, 2), padding=(1, 1), bias=False)\n",
      "              (6): BatchNorm2d(128, eps=1e-05, momentum=0.1, affine=True)\n",
      "            )\n",
      "          )\n",
      "          (4): ReLU (inplace)\n",
      "          (5): ConvTranspose2d(256, 64, kernel_size=(4, 4), stride=(2, 2), padding=(1, 1), bias=False)\n",
      "          (6): BatchNorm2d(64, eps=1e-05, momentum=0.1, affine=True)\n",
      "        )\n",
      "      )\n",
      "      (2): ReLU (inplace)\n",
      "      (3): ConvTranspose2d(128, 1, kernel_size=(4, 4), stride=(2, 2), padding=(1, 1))\n",
      "      (4): Tanh ()\n",
      "    )\n",
      "  )\n",
      ")\n"
     ]
    }
   ],
   "source": [
    "# Initialize U-Net (or ResNet) convolutional architecture\n",
    "net = UnetGenerator(1, 1, 4, ngf=64, norm_layer=functools.partial(nn.BatchNorm2d, affine=True), use_dropout=False, gpu_ids=[]).cuda()\n",
    "\n",
    "class Codec(nn.Module):\n",
    "    # Autoencoder for MNIST images\n",
    "    def __init__(self):\n",
    "        super(Codec, self).__init__()\n",
    "        self.conv1 = nn.Conv2d(1, 16, kernel_size=3, padding=1)\n",
    "        self.conv2 = nn.Conv2d(16, 32, kernel_size=3, padding=1)\n",
    "        self.pad = nn.ZeroPad2d((0,1,0,1))\n",
    "        self.conv3 = nn.Conv2d(32, 4, kernel_size=3, padding=1)\n",
    "        \n",
    "        self.encoded = None # 4x4x4\n",
    "        \n",
    "        self.deconv1 = nn.ConvTranspose2d(32, 16, kernel_size=3, padding=1, stride=2)\n",
    "        self.deconv2 = nn.ConvTranspose2d(16, 16, kernel_size=3, padding=1, stride=2)\n",
    "        self.deconv3 = nn.ConvTranspose2d(16, 16, kernel_size=4)\n",
    "        \n",
    "        self.decode_conv = nn.Conv2d(16, 1, kernel_size=3, padding=1)\n",
    "        \n",
    "    def forward(self, x):\n",
    "        # encoder\n",
    "        x = F.max_pool2d(F.relu(self.conv1(x)), 2)\n",
    "        x = F.max_pool2d(F.relu(self.conv2(x)), 2)\n",
    "        self.encoded = F.max_pool2d(self.pad(F.relu(self.conv3(x))), 2)\n",
    "\n",
    "        # encoded representation is 8x4x4 = 128-dimensional encoding space\n",
    "\n",
    "        # decoder\n",
    "        x = F.relu(self.deconv1(x))\n",
    "        x = F.relu(self.deconv2(x))\n",
    "        x = F.relu(self.deconv3(x))\n",
    "        decoded = F.sigmoid(self.decode_conv(x))*100\n",
    "        return decoded\n",
    "\n",
    "# net = Codec().cuda()\n",
    "\n",
    "print(net)"
   ]
  },
  {
   "cell_type": "code",
   "execution_count": 2,
   "metadata": {},
   "outputs": [],
   "source": [
    "kernel_ = np.array([[0, 1/4, 0], [1/4, -1, 1/4], [0, 1/4, 0]])\n",
    "kernel = Variable(torch.Tensor(kernel_))\n",
    "img = Variable(torch.rand(10,10))\n",
    "\n",
    "def physical_loss(img):\n",
    "#     return F.conv2d((img.unsqueeze(0)).unsqueeze(0), kernel.unsqueeze(0).unsqueeze(0)).norm()\n",
    "    return F.conv2d((img.unsqueeze(0)).unsqueeze(0), kernel.unsqueeze(0).unsqueeze(0))"
   ]
  },
  {
   "cell_type": "code",
   "execution_count": 4,
   "metadata": {},
   "outputs": [
    {
     "data": {
      "text/plain": [
       "Variable containing:\n",
       "(0 ,0 ,.,.) = \n",
       "  0.0292  0.3121 -0.2342 -0.1250 -0.2445 -0.3733 -0.2806 -0.1527\n",
       " -0.1400  0.0060  0.4090 -0.1374  0.3424  0.0427  0.4813 -0.0692\n",
       " -0.4020  0.5477 -0.7780  0.2630  0.0718  0.2802  0.2284 -0.6202\n",
       "  0.1652 -0.6265  0.2452  0.3149 -0.2875 -0.3081 -0.1356  0.6590\n",
       " -0.3522  0.6148 -0.2975  0.1686 -0.2690 -0.1233  0.1784 -0.2472\n",
       " -0.0768 -0.2584  0.2547  0.2669 -0.1479  0.3965  0.1607  0.1083\n",
       " -0.4120  0.3863  0.2018 -0.5286  0.2726 -0.0041 -0.4462  0.2418\n",
       "  0.5019  0.2671 -0.2837 -0.2454 -0.3699 -0.2484  0.1922  0.3512\n",
       "[torch.FloatTensor of size 1x1x8x8]"
      ]
     },
     "execution_count": 4,
     "metadata": {},
     "output_type": "execute_result"
    }
   ],
   "source": [
    "physical_loss(img)"
   ]
  },
  {
   "cell_type": "code",
   "execution_count": 5,
   "metadata": {},
   "outputs": [
    {
     "data": {
      "text/plain": [
       "Variable containing:\n",
       " 20.0000  10.0000  10.0000  ...   10.0000  10.0000  90.0000\n",
       " 20.0000  15.0134  13.0503  ...   34.1378  49.9750  90.0000\n",
       " 20.0000  17.0032  15.0536  ...   49.8999  65.7621  90.0000\n",
       "           ...               ⋱              ...            \n",
       " 20.0000  13.9912  10.0765  ...   44.9228  62.7501  90.0000\n",
       " 20.0000  10.0191   6.0853  ...   27.1727  44.9807  90.0000\n",
       " 20.0000   0.0000   0.0000  ...    0.0000   0.0000  90.0000\n",
       "[torch.FloatTensor of size 64x64]"
      ]
     },
     "execution_count": 5,
     "metadata": {},
     "output_type": "execute_result"
    }
   ],
   "source": [
    "# Heat is true ground truth solution\n",
    "heat_ = np.loadtxt('datasets/32_small/field/0-10-20-90.csv', delimiter=',')\n",
    "heat = Variable(torch.Tensor(heat_))\n",
    "heat"
   ]
  },
  {
   "cell_type": "code",
   "execution_count": 6,
   "metadata": {},
   "outputs": [
    {
     "data": {
      "image/png": "[encoded data removed]",
      "text/plain": [
       "<matplotlib.figure.Figure at 0x7f5a86febba8>"
      ]
     },
     "metadata": {},
     "output_type": "display_data"
    }
   ],
   "source": [
    "XX, YY = np.meshgrid(np.arange(0, 64), np.arange(0, 64))\n",
    "plt.contourf(XX, YY, heat.data.numpy(), colorinterpolation=50, cmap=plt.cm.jet, vmin=0, vmax=100)\n",
    "plt.show()"
   ]
  },
  {
   "cell_type": "code",
   "execution_count": 7,
   "metadata": {},
   "outputs": [
    {
     "data": {
      "text/plain": [
       "Variable containing:\n",
       "(0 ,0 ,.,.) = \n",
       "1.00000e-03 *\n",
       "  0.0072  0.0136  0.0191  ...   0.0143  0.0095  0.0038\n",
       "  0.0143  0.0234  0.0329  ...   0.0257  0.0124  0.0038\n",
       "  0.0191  0.0334  0.0458  ...   0.0334  0.0191  0.0076\n",
       "           ...             ⋱             ...          \n",
       "  0.0148  0.0229  0.0327  ...   0.0210  0.0095  0.0057\n",
       "  0.0088  0.0143  0.0199  ...   0.0114  0.0081 -0.0010\n",
       "  0.0038  0.0052  0.0072  ...   0.0043  0.0010 -0.0019\n",
       "[torch.FloatTensor of size 1x1x62x62]"
      ]
     },
     "execution_count": 7,
     "metadata": {},
     "output_type": "execute_result"
    }
   ],
   "source": [
    "physical_loss(heat)"
   ]
  },
  {
   "cell_type": "code",
   "execution_count": 8,
   "metadata": {},
   "outputs": [
    {
     "data": {
      "image/png": "[encoded data removed]",
      "text/plain": [
       "<matplotlib.figure.Figure at 0x7f5a84f2fcc0>"
      ]
     },
     "metadata": {},
     "output_type": "display_data"
    }
   ],
   "source": [
    "# Ground truth satisfies small value when kernel is applied\n",
    "plt.imshow(physical_loss(heat).data.numpy()[0,0,:,:])\n",
    "plt.colorbar()\n",
    "plt.show()"
   ]
  },
  {
   "cell_type": "code",
   "execution_count": 64,
   "metadata": {},
   "outputs": [
    {
     "data": {
      "image/png": "[encoded data removed]",
      "text/plain": [
       "<matplotlib.figure.Figure at 0x7f73e07520b8>"
      ]
     },
     "metadata": {},
     "output_type": "display_data"
    }
   ],
   "source": [
    "heat_ = np.loadtxt('datasets/16/field/0-10-20-90.csv', delimiter=',')\n",
    "heat = Variable(torch.Tensor(heat_)).cuda()\n",
    "plt.imshow(heat.cpu().data.numpy())\n",
    "plt.colorbar()\n",
    "plt.show()"
   ]
  },
  {
   "cell_type": "code",
   "execution_count": 72,
   "metadata": {},
   "outputs": [
    {
     "data": {
      "text/plain": [
       "torch.Size([1, 32, 16, 16])"
      ]
     },
     "execution_count": 72,
     "metadata": {},
     "output_type": "execute_result"
    }
   ],
   "source": [
    "ker = Variable(torch.ones(32,1,1,1)).cuda()\n",
    "out = F.conv2d(heat.unsqueeze(0).unsqueeze(0), ker)\n",
    "out.size()"
   ]
  },
  {
   "cell_type": "code",
   "execution_count": 74,
   "metadata": {},
   "outputs": [
    {
     "data": {
      "image/png": "[encoded data removed]",
      "text/plain": [
       "<matplotlib.figure.Figure at 0x7f7432aa7630>"
      ]
     },
     "metadata": {},
     "output_type": "display_data"
    }
   ],
   "source": [
    "plt.imshow(out.cpu().data.numpy()[0,2,:,])\n",
    "plt.show()"
   ]
  },
  {
   "cell_type": "code",
   "execution_count": 75,
   "metadata": {},
   "outputs": [
    {
     "data": {
      "text/plain": [
       "torch.Size([1, 32, 16, 16])"
      ]
     },
     "execution_count": 75,
     "metadata": {},
     "output_type": "execute_result"
    }
   ],
   "source": [
    "out.size()"
   ]
  },
  {
   "cell_type": "code",
   "execution_count": 78,
   "metadata": {},
   "outputs": [],
   "source": [
    "ker2 = Variable(torch.ones(1,32,1,1)).cuda()\n",
    "out2 = F.conv2d(out, ker2)"
   ]
  },
  {
   "cell_type": "code",
   "execution_count": 79,
   "metadata": {},
   "outputs": [
    {
     "data": {
      "text/plain": [
       "torch.Size([1, 1, 16, 16])"
      ]
     },
     "execution_count": 79,
     "metadata": {},
     "output_type": "execute_result"
    }
   ],
   "source": [
    "out2.size()"
   ]
  },
  {
   "cell_type": "code",
   "execution_count": null,
   "metadata": {},
   "outputs": [],
   "source": []
  }
 ],
 "metadata": {
  "kernelspec": {
   "display_name": "Python 3",
   "language": "python",
   "name": "python3"
  },
  "language_info": {
   "codemirror_mode": {
    "name": "ipython",
    "version": 3
   },
   "file_extension": ".py",
   "mimetype": "text/x-python",
   "name": "python",
   "nbconvert_exporter": "python",
   "pygments_lexer": "ipython3",
   "version": "3.5.2"
  }
 },
 "nbformat": 4,
 "nbformat_minor": 2
}
