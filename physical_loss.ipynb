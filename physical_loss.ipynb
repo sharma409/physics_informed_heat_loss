{
 "cells": [
  {
   "cell_type": "code",
   "execution_count": 1,
   "metadata": {},
   "outputs": [],
   "source": [
    "import torch\n",
    "import torch.nn as nn\n",
    "from torch.autograd import Variable\n",
    "import torchvision.datasets as dset\n",
    "import torchvision.transforms as transforms\n",
    "import torch.nn.functional as F\n",
    "import torch.optim as optim\n",
    "from torchvision.utils import save_image\n",
    "\n",
    "import numpy as np\n",
    "import matplotlib.pyplot as plt\n",
    "import functools\n",
    "\n",
    "from networks import UnetGenerator\n",
    "from datasets import loadHeat"
   ]
  },
  {
   "cell_type": "code",
   "execution_count": 2,
   "metadata": {},
   "outputs": [],
   "source": [
    "# Define training parameters\n",
    "batch_size=64\n",
    "learning_rate = 1e-3\n",
    "num_epochs = 200"
   ]
  },
  {
   "cell_type": "code",
   "execution_count": 3,
   "metadata": {},
   "outputs": [],
   "source": [
    "# Input image handling\n",
    "data_size = 32\n",
    "dataset = loadHeat(data_size, ground_truth=False)\n",
    "dataloader = torch.utils.data.DataLoader(dataset, batch_size=batch_size, shuffle=True)"
   ]
  },
  {
   "cell_type": "code",
   "execution_count": 4,
   "metadata": {},
   "outputs": [
    {
     "name": "stdout",
     "output_type": "stream",
     "text": [
      "UnetGenerator (\n",
      "  (model): UnetSkipConnectionBlock (\n",
      "    (model): Sequential (\n",
      "      (0): Conv2d(1, 64, kernel_size=(4, 4), stride=(2, 2), padding=(1, 1), bias=False)\n",
      "      (1): UnetSkipConnectionBlock (\n",
      "        (model): Sequential (\n",
      "          (0): LeakyReLU (0.2, inplace)\n",
      "          (1): Conv2d(64, 128, kernel_size=(4, 4), stride=(2, 2), padding=(1, 1), bias=False)\n",
      "          (2): BatchNorm2d(128, eps=1e-05, momentum=0.1, affine=True)\n",
      "          (3): UnetSkipConnectionBlock (\n",
      "            (model): Sequential (\n",
      "              (0): LeakyReLU (0.2, inplace)\n",
      "              (1): Conv2d(128, 256, kernel_size=(4, 4), stride=(2, 2), padding=(1, 1), bias=False)\n",
      "              (2): BatchNorm2d(256, eps=1e-05, momentum=0.1, affine=True)\n",
      "              (3): UnetSkipConnectionBlock (\n",
      "                (model): Sequential (\n",
      "                  (0): LeakyReLU (0.2, inplace)\n",
      "                  (1): Conv2d(256, 512, kernel_size=(4, 4), stride=(2, 2), padding=(1, 1), bias=False)\n",
      "                  (2): BatchNorm2d(512, eps=1e-05, momentum=0.1, affine=True)\n",
      "                  (3): UnetSkipConnectionBlock (\n",
      "                    (model): Sequential (\n",
      "                      (0): LeakyReLU (0.2, inplace)\n",
      "                      (1): Conv2d(512, 512, kernel_size=(4, 4), stride=(2, 2), padding=(1, 1), bias=False)\n",
      "                      (2): ReLU (inplace)\n",
      "                      (3): ConvTranspose2d(512, 512, kernel_size=(4, 4), stride=(2, 2), padding=(1, 1), bias=False)\n",
      "                      (4): BatchNorm2d(512, eps=1e-05, momentum=0.1, affine=True)\n",
      "                    )\n",
      "                  )\n",
      "                  (4): ReLU (inplace)\n",
      "                  (5): ConvTranspose2d(1024, 256, kernel_size=(4, 4), stride=(2, 2), padding=(1, 1), bias=False)\n",
      "                  (6): BatchNorm2d(256, eps=1e-05, momentum=0.1, affine=True)\n",
      "                )\n",
      "              )\n",
      "              (4): ReLU (inplace)\n",
      "              (5): ConvTranspose2d(512, 128, kernel_size=(4, 4), stride=(2, 2), padding=(1, 1), bias=False)\n",
      "              (6): BatchNorm2d(128, eps=1e-05, momentum=0.1, affine=True)\n",
      "            )\n",
      "          )\n",
      "          (4): ReLU (inplace)\n",
      "          (5): ConvTranspose2d(256, 64, kernel_size=(4, 4), stride=(2, 2), padding=(1, 1), bias=False)\n",
      "          (6): BatchNorm2d(64, eps=1e-05, momentum=0.1, affine=True)\n",
      "        )\n",
      "      )\n",
      "      (2): ReLU (inplace)\n",
      "      (3): ConvTranspose2d(128, 1, kernel_size=(4, 4), stride=(2, 2), padding=(1, 1))\n",
      "      (4): Tanh ()\n",
      "    )\n",
      "  )\n",
      ")\n"
     ]
    }
   ],
   "source": [
    "# Initialize U-Net (or ResNet) convolutional architecture\n",
    "net = UnetGenerator(1, 1, 4, ngf=64, norm_layer=functools.partial(nn.BatchNorm2d, affine=True), use_dropout=False, gpu_ids=[]).cuda()\n",
    "\n",
    "# class Codec(nn.Module):\n",
    "#     # Autoencoder for MNIST images\n",
    "#     def __init__(self):\n",
    "#         super(Codec, self).__init__()\n",
    "#         self.conv1 = nn.Conv2d(1, 16, kernel_size=3, padding=1)\n",
    "#         self.conv2 = nn.Conv2d(16, 32, kernel_size=3, padding=1)\n",
    "#         self.pad = nn.ZeroPad2d((0,1,0,1))\n",
    "#         self.conv3 = nn.Conv2d(32, 4, kernel_size=3, padding=1)\n",
    "        \n",
    "#         self.encoded = None # 4x4x4\n",
    "        \n",
    "#         self.deconv1 = nn.ConvTranspose2d(32, 16, kernel_size=3, padding=1, stride=2)\n",
    "#         self.deconv2 = nn.ConvTranspose2d(16, 16, kernel_size=3, padding=1, stride=2)\n",
    "#         self.deconv3 = nn.ConvTranspose2d(16, 16, kernel_size=4)\n",
    "        \n",
    "#         self.decode_conv = nn.Conv2d(16, 1, kernel_size=3, padding=1)\n",
    "        \n",
    "#     def forward(self, x):\n",
    "#         # encoder\n",
    "#         x = F.max_pool2d(F.relu(self.conv1(x)), 2)\n",
    "#         x = F.max_pool2d(F.relu(self.conv2(x)), 2)\n",
    "#         self.encoded = F.max_pool2d(self.pad(F.relu(self.conv3(x))), 2)\n",
    "\n",
    "#         # encoded representation is 8x4x4 = 128-dimensional encoding space\n",
    "\n",
    "#         # decoder\n",
    "#         x = F.relu(self.deconv1(x))\n",
    "#         x = F.relu(self.deconv2(x))\n",
    "#         x = F.relu(self.deconv3(x))\n",
    "#         decoded = F.sigmoid(self.decode_conv(x))*100\n",
    "#         return decoded\n",
    "\n",
    "# net = Codec().cuda()\n",
    "\n",
    "print(net)"
   ]
  },
  {
   "cell_type": "code",
   "execution_count": 5,
   "metadata": {},
   "outputs": [],
   "source": [
    "# Define physics loss\n",
    "kernel = Variable(torch.Tensor(np.array([[[[0, 1/4, 0], [1/4, -1, 1/4], [0, 1/4, 0]]]]))).cuda()\n",
    "\n",
    "def physical_loss(img):\n",
    "    return F.conv2d(img, kernel).norm()\n",
    "\n",
    "criterion = physical_loss\n",
    "optimizer = optim.Adam(net.parameters(), lr=learning_rate)"
   ]
  },
  {
   "cell_type": "code",
   "execution_count": 6,
   "metadata": {},
   "outputs": [],
   "source": [
    "# Create output masks\n",
    "center_mask = torch.zeros(dataset[0].shape).unsqueeze(0)\n",
    "center_mask[:,:,:,0] = 1\n",
    "center_mask[:,:,0,:] = 1\n",
    "center_mask[:,:,:,-1] = 1\n",
    "center_mask[:,:,-1,:] = 1\n",
    "\n",
    "boundary_mask = torch.ones(dataset[0].shape).unsqueeze(0)\n",
    "boundary_mask[:,:,:,0] = 0\n",
    "boundary_mask[:,:,0,:] = 0\n",
    "boundary_mask[:,:,:,-1] = 0\n",
    "boundary_mask[:,:,-1,:] = 0\n",
    "\n",
    "center_mask = Variable(center_mask).cuda()\n",
    "boundary_mask = Variable(boundary_mask).cuda()"
   ]
  },
  {
   "cell_type": "code",
   "execution_count": 7,
   "metadata": {},
   "outputs": [
    {
     "data": {
      "application/javascript": [
       "IPython.notebook.set_autosave_interval(100000)"
      ]
     },
     "metadata": {},
     "output_type": "display_data"
    },
    {
     "name": "stdout",
     "output_type": "stream",
     "text": [
      "Autosaving every 100 seconds\n"
     ]
    }
   ],
   "source": [
    "%autosave 100"
   ]
  },
  {
   "cell_type": "code",
   "execution_count": 8,
   "metadata": {
    "scrolled": true
   },
   "outputs": [
    {
     "name": "stdout",
     "output_type": "stream",
     "text": [
      "epoch [1/200], loss:1422.2587\n",
      "epoch [2/200], loss:1252.0831\n",
      "epoch [3/200], loss:1172.4675\n",
      "epoch [4/200], loss:1157.7747\n",
      "epoch [5/200], loss:1027.9507\n",
      "epoch [6/200], loss:1017.5681\n",
      "epoch [7/200], loss:1027.0084\n",
      "epoch [8/200], loss:1017.5156\n",
      "epoch [9/200], loss:987.0596\n",
      "epoch [10/200], loss:996.7706\n",
      "epoch [11/200], loss:912.5155\n",
      "epoch [12/200], loss:989.4744\n",
      "epoch [13/200], loss:948.5297\n",
      "epoch [14/200], loss:934.0040\n",
      "epoch [15/200], loss:911.2322\n",
      "epoch [16/200], loss:933.5278\n",
      "epoch [17/200], loss:932.1464\n",
      "epoch [18/200], loss:891.3721\n",
      "epoch [19/200], loss:1097.1761\n",
      "epoch [20/200], loss:948.0519\n",
      "epoch [21/200], loss:925.7566\n",
      "epoch [22/200], loss:859.3463\n",
      "epoch [23/200], loss:876.7938\n",
      "epoch [24/200], loss:779.1609\n",
      "epoch [25/200], loss:852.6798\n",
      "epoch [26/200], loss:848.2806\n",
      "epoch [27/200], loss:852.0553\n",
      "epoch [28/200], loss:840.7180\n",
      "epoch [29/200], loss:845.5121\n",
      "epoch [30/200], loss:776.6702\n",
      "epoch [31/200], loss:806.6755\n",
      "epoch [32/200], loss:847.9695\n",
      "epoch [33/200], loss:766.8447\n",
      "epoch [34/200], loss:773.3405\n",
      "epoch [35/200], loss:829.3082\n",
      "epoch [36/200], loss:922.2880\n",
      "epoch [37/200], loss:848.7372\n",
      "epoch [38/200], loss:894.3998\n",
      "epoch [39/200], loss:866.1398\n",
      "epoch [40/200], loss:812.2719\n",
      "epoch [41/200], loss:845.5169\n",
      "epoch [42/200], loss:869.3833\n",
      "epoch [43/200], loss:834.1953\n",
      "epoch [44/200], loss:852.1893\n",
      "epoch [45/200], loss:841.7542\n",
      "epoch [46/200], loss:841.2403\n",
      "epoch [47/200], loss:782.9362\n",
      "epoch [48/200], loss:854.6548\n",
      "epoch [49/200], loss:809.4371\n",
      "epoch [50/200], loss:811.5165\n",
      "epoch [51/200], loss:838.2072\n",
      "epoch [52/200], loss:820.3961\n",
      "epoch [53/200], loss:769.9524\n",
      "epoch [54/200], loss:838.8218\n",
      "epoch [55/200], loss:835.9866\n",
      "epoch [56/200], loss:811.8483\n",
      "epoch [57/200], loss:807.5697\n",
      "epoch [58/200], loss:786.5044\n",
      "epoch [59/200], loss:816.9095\n",
      "epoch [60/200], loss:826.9523\n",
      "epoch [61/200], loss:854.4093\n",
      "epoch [62/200], loss:840.2333\n",
      "epoch [63/200], loss:796.4178\n",
      "epoch [64/200], loss:813.1482\n",
      "epoch [65/200], loss:840.3478\n",
      "epoch [66/200], loss:811.1854\n",
      "epoch [67/200], loss:834.2460\n",
      "epoch [68/200], loss:777.5336\n",
      "epoch [69/200], loss:773.5149\n",
      "epoch [70/200], loss:828.2805\n",
      "epoch [71/200], loss:818.5295\n",
      "epoch [72/200], loss:791.9470\n",
      "epoch [73/200], loss:856.0866\n",
      "epoch [74/200], loss:800.6282\n",
      "epoch [75/200], loss:753.9257\n",
      "epoch [76/200], loss:812.3563\n",
      "epoch [77/200], loss:772.0257\n",
      "epoch [78/200], loss:852.3928\n",
      "epoch [79/200], loss:784.8666\n",
      "epoch [80/200], loss:825.1733\n",
      "epoch [81/200], loss:841.7599\n",
      "epoch [82/200], loss:785.7833\n",
      "epoch [83/200], loss:756.8845\n",
      "epoch [84/200], loss:769.3230\n",
      "epoch [85/200], loss:805.5308\n",
      "epoch [86/200], loss:752.9556\n",
      "epoch [87/200], loss:809.1549\n",
      "epoch [88/200], loss:808.9833\n",
      "epoch [89/200], loss:799.1458\n",
      "epoch [90/200], loss:855.9376\n",
      "epoch [91/200], loss:798.5002\n",
      "epoch [92/200], loss:809.3505\n",
      "epoch [93/200], loss:817.2545\n",
      "epoch [94/200], loss:817.5463\n",
      "epoch [95/200], loss:752.9277\n",
      "epoch [96/200], loss:796.5852\n",
      "epoch [97/200], loss:778.3389\n",
      "epoch [98/200], loss:769.7025\n",
      "epoch [99/200], loss:792.4882\n",
      "epoch [100/200], loss:748.4940\n",
      "epoch [101/200], loss:777.5076\n",
      "epoch [102/200], loss:806.0814\n",
      "epoch [103/200], loss:781.9496\n",
      "epoch [104/200], loss:755.6649\n",
      "epoch [105/200], loss:777.9388\n",
      "epoch [106/200], loss:770.7578\n",
      "epoch [107/200], loss:802.9280\n",
      "epoch [108/200], loss:740.6676\n",
      "epoch [109/200], loss:799.2002\n",
      "epoch [110/200], loss:827.0947\n",
      "epoch [111/200], loss:817.2288\n",
      "epoch [112/200], loss:778.1707\n",
      "epoch [113/200], loss:781.5712\n",
      "epoch [114/200], loss:842.0807\n",
      "epoch [115/200], loss:746.9546\n",
      "epoch [116/200], loss:795.3090\n",
      "epoch [117/200], loss:774.3145\n",
      "epoch [118/200], loss:776.7491\n",
      "epoch [119/200], loss:770.5739\n",
      "epoch [120/200], loss:766.3696\n",
      "epoch [121/200], loss:791.3480\n",
      "epoch [122/200], loss:780.0642\n",
      "epoch [123/200], loss:817.0501\n",
      "epoch [124/200], loss:728.2202\n",
      "epoch [125/200], loss:765.3593\n",
      "epoch [126/200], loss:722.3140\n",
      "epoch [127/200], loss:824.3348\n",
      "epoch [128/200], loss:765.8994\n",
      "epoch [129/200], loss:767.7073\n",
      "epoch [130/200], loss:754.5100\n",
      "epoch [131/200], loss:787.0645\n",
      "epoch [132/200], loss:763.0547\n",
      "epoch [133/200], loss:775.4741\n",
      "epoch [134/200], loss:735.5594\n",
      "epoch [135/200], loss:784.8398\n",
      "epoch [136/200], loss:770.2796\n",
      "epoch [137/200], loss:795.8851\n",
      "epoch [138/200], loss:787.3574\n",
      "epoch [139/200], loss:761.8324\n",
      "epoch [140/200], loss:813.1546\n",
      "epoch [141/200], loss:736.0499\n",
      "epoch [142/200], loss:744.7185\n",
      "epoch [143/200], loss:826.6581\n",
      "epoch [144/200], loss:722.5334\n",
      "epoch [145/200], loss:803.1496\n",
      "epoch [146/200], loss:761.2673\n",
      "epoch [147/200], loss:737.3483\n",
      "epoch [148/200], loss:763.7595\n",
      "epoch [149/200], loss:763.7537\n",
      "epoch [150/200], loss:784.4344\n",
      "epoch [151/200], loss:769.1331\n",
      "epoch [152/200], loss:814.1649\n",
      "epoch [153/200], loss:713.8489\n",
      "epoch [154/200], loss:764.1204\n",
      "epoch [155/200], loss:752.6589\n",
      "epoch [156/200], loss:747.8555\n",
      "epoch [157/200], loss:738.0124\n"
     ]
    },
    {
     "ename": "KeyboardInterrupt",
     "evalue": "",
     "output_type": "error",
     "traceback": [
      "\u001b[0;31m---------------------------------------------------------------------------\u001b[0m",
      "\u001b[0;31mKeyboardInterrupt\u001b[0m                         Traceback (most recent call last)",
      "\u001b[0;32m<ipython-input-8-963ab62e7508>\u001b[0m in \u001b[0;36m<module>\u001b[0;34m()\u001b[0m\n\u001b[1;32m      2\u001b[0m \u001b[0;31m## Training loop\u001b[0m\u001b[0;34m\u001b[0m\u001b[0;34m\u001b[0m\u001b[0m\n\u001b[1;32m      3\u001b[0m \u001b[0;32mfor\u001b[0m \u001b[0mepoch\u001b[0m \u001b[0;32min\u001b[0m \u001b[0mrange\u001b[0m\u001b[0;34m(\u001b[0m\u001b[0mnum_epochs\u001b[0m\u001b[0;34m)\u001b[0m\u001b[0;34m:\u001b[0m\u001b[0;34m\u001b[0m\u001b[0m\n\u001b[0;32m----> 4\u001b[0;31m     \u001b[0;32mfor\u001b[0m \u001b[0mdata\u001b[0m \u001b[0;32min\u001b[0m \u001b[0mdataloader\u001b[0m\u001b[0;34m:\u001b[0m\u001b[0;34m\u001b[0m\u001b[0m\n\u001b[0m\u001b[1;32m      5\u001b[0m         \u001b[0mimg\u001b[0m \u001b[0;34m=\u001b[0m \u001b[0mVariable\u001b[0m\u001b[0;34m(\u001b[0m\u001b[0mdata\u001b[0m\u001b[0;34m)\u001b[0m\u001b[0;34m.\u001b[0m\u001b[0mcuda\u001b[0m\u001b[0;34m(\u001b[0m\u001b[0;34m)\u001b[0m\u001b[0;34m\u001b[0m\u001b[0m\n\u001b[1;32m      6\u001b[0m         \u001b[0moutput\u001b[0m \u001b[0;34m=\u001b[0m \u001b[0mnet\u001b[0m\u001b[0;34m(\u001b[0m\u001b[0mimg\u001b[0m\u001b[0;34m)\u001b[0m\u001b[0;34m\u001b[0m\u001b[0m\n",
      "\u001b[0;32m~/DeepPhysics/deepphys/lib/python3.5/site-packages/torch/utils/data/dataloader.py\u001b[0m in \u001b[0;36m__next__\u001b[0;34m(self)\u001b[0m\n\u001b[1;32m    177\u001b[0m         \u001b[0;32mif\u001b[0m \u001b[0mself\u001b[0m\u001b[0;34m.\u001b[0m\u001b[0mnum_workers\u001b[0m \u001b[0;34m==\u001b[0m \u001b[0;36m0\u001b[0m\u001b[0;34m:\u001b[0m  \u001b[0;31m# same-process loading\u001b[0m\u001b[0;34m\u001b[0m\u001b[0m\n\u001b[1;32m    178\u001b[0m             \u001b[0mindices\u001b[0m \u001b[0;34m=\u001b[0m \u001b[0mnext\u001b[0m\u001b[0;34m(\u001b[0m\u001b[0mself\u001b[0m\u001b[0;34m.\u001b[0m\u001b[0msample_iter\u001b[0m\u001b[0;34m)\u001b[0m  \u001b[0;31m# may raise StopIteration\u001b[0m\u001b[0;34m\u001b[0m\u001b[0m\n\u001b[0;32m--> 179\u001b[0;31m             \u001b[0mbatch\u001b[0m \u001b[0;34m=\u001b[0m \u001b[0mself\u001b[0m\u001b[0;34m.\u001b[0m\u001b[0mcollate_fn\u001b[0m\u001b[0;34m(\u001b[0m\u001b[0;34m[\u001b[0m\u001b[0mself\u001b[0m\u001b[0;34m.\u001b[0m\u001b[0mdataset\u001b[0m\u001b[0;34m[\u001b[0m\u001b[0mi\u001b[0m\u001b[0;34m]\u001b[0m \u001b[0;32mfor\u001b[0m \u001b[0mi\u001b[0m \u001b[0;32min\u001b[0m \u001b[0mindices\u001b[0m\u001b[0;34m]\u001b[0m\u001b[0;34m)\u001b[0m\u001b[0;34m\u001b[0m\u001b[0m\n\u001b[0m\u001b[1;32m    180\u001b[0m             \u001b[0;32mif\u001b[0m \u001b[0mself\u001b[0m\u001b[0;34m.\u001b[0m\u001b[0mpin_memory\u001b[0m\u001b[0;34m:\u001b[0m\u001b[0;34m\u001b[0m\u001b[0m\n\u001b[1;32m    181\u001b[0m                 \u001b[0mbatch\u001b[0m \u001b[0;34m=\u001b[0m \u001b[0mpin_memory_batch\u001b[0m\u001b[0;34m(\u001b[0m\u001b[0mbatch\u001b[0m\u001b[0;34m)\u001b[0m\u001b[0;34m\u001b[0m\u001b[0m\n",
      "\u001b[0;32m~/DeepPhysics/deepphys/lib/python3.5/site-packages/torch/utils/data/dataloader.py\u001b[0m in \u001b[0;36m<listcomp>\u001b[0;34m(.0)\u001b[0m\n\u001b[1;32m    177\u001b[0m         \u001b[0;32mif\u001b[0m \u001b[0mself\u001b[0m\u001b[0;34m.\u001b[0m\u001b[0mnum_workers\u001b[0m \u001b[0;34m==\u001b[0m \u001b[0;36m0\u001b[0m\u001b[0;34m:\u001b[0m  \u001b[0;31m# same-process loading\u001b[0m\u001b[0;34m\u001b[0m\u001b[0m\n\u001b[1;32m    178\u001b[0m             \u001b[0mindices\u001b[0m \u001b[0;34m=\u001b[0m \u001b[0mnext\u001b[0m\u001b[0;34m(\u001b[0m\u001b[0mself\u001b[0m\u001b[0;34m.\u001b[0m\u001b[0msample_iter\u001b[0m\u001b[0;34m)\u001b[0m  \u001b[0;31m# may raise StopIteration\u001b[0m\u001b[0;34m\u001b[0m\u001b[0m\n\u001b[0;32m--> 179\u001b[0;31m             \u001b[0mbatch\u001b[0m \u001b[0;34m=\u001b[0m \u001b[0mself\u001b[0m\u001b[0;34m.\u001b[0m\u001b[0mcollate_fn\u001b[0m\u001b[0;34m(\u001b[0m\u001b[0;34m[\u001b[0m\u001b[0mself\u001b[0m\u001b[0;34m.\u001b[0m\u001b[0mdataset\u001b[0m\u001b[0;34m[\u001b[0m\u001b[0mi\u001b[0m\u001b[0;34m]\u001b[0m \u001b[0;32mfor\u001b[0m \u001b[0mi\u001b[0m \u001b[0;32min\u001b[0m \u001b[0mindices\u001b[0m\u001b[0;34m]\u001b[0m\u001b[0;34m)\u001b[0m\u001b[0;34m\u001b[0m\u001b[0m\n\u001b[0m\u001b[1;32m    180\u001b[0m             \u001b[0;32mif\u001b[0m \u001b[0mself\u001b[0m\u001b[0;34m.\u001b[0m\u001b[0mpin_memory\u001b[0m\u001b[0;34m:\u001b[0m\u001b[0;34m\u001b[0m\u001b[0m\n\u001b[1;32m    181\u001b[0m                 \u001b[0mbatch\u001b[0m \u001b[0;34m=\u001b[0m \u001b[0mpin_memory_batch\u001b[0m\u001b[0;34m(\u001b[0m\u001b[0mbatch\u001b[0m\u001b[0;34m)\u001b[0m\u001b[0;34m\u001b[0m\u001b[0m\n",
      "\u001b[0;32m~/DeepPhysics/physics_informed_heat_loss/datasets.py\u001b[0m in \u001b[0;36m__getitem__\u001b[0;34m(self, index)\u001b[0m\n\u001b[1;32m     11\u001b[0m \u001b[0;34m\u001b[0m\u001b[0m\n\u001b[1;32m     12\u001b[0m     \u001b[0;32mdef\u001b[0m \u001b[0m__getitem__\u001b[0m\u001b[0;34m(\u001b[0m\u001b[0mself\u001b[0m\u001b[0;34m,\u001b[0m \u001b[0mindex\u001b[0m\u001b[0;34m)\u001b[0m\u001b[0;34m:\u001b[0m\u001b[0;34m\u001b[0m\u001b[0m\n\u001b[0;32m---> 13\u001b[0;31m         \u001b[0;32mreturn\u001b[0m \u001b[0mtorch\u001b[0m\u001b[0;34m.\u001b[0m\u001b[0mTensor\u001b[0m\u001b[0;34m(\u001b[0m\u001b[0mself\u001b[0m\u001b[0;34m.\u001b[0m\u001b[0mimgs\u001b[0m\u001b[0;34m[\u001b[0m\u001b[0mindex\u001b[0m\u001b[0;34m]\u001b[0m\u001b[0;34m)\u001b[0m\u001b[0;34m.\u001b[0m\u001b[0munsqueeze\u001b[0m\u001b[0;34m(\u001b[0m\u001b[0;36m0\u001b[0m\u001b[0;34m)\u001b[0m\u001b[0;34m\u001b[0m\u001b[0m\n\u001b[0m\u001b[1;32m     14\u001b[0m \u001b[0;34m\u001b[0m\u001b[0m\n\u001b[1;32m     15\u001b[0m     \u001b[0;32mdef\u001b[0m \u001b[0m__len__\u001b[0m\u001b[0;34m(\u001b[0m\u001b[0mself\u001b[0m\u001b[0;34m)\u001b[0m\u001b[0;34m:\u001b[0m\u001b[0;34m\u001b[0m\u001b[0m\n",
      "\u001b[0;32m~/DeepPhysics/deepphys/lib/python3.5/site-packages/pandas/core/series.py\u001b[0m in \u001b[0;36m__getitem__\u001b[0;34m(self, key)\u001b[0m\n\u001b[1;32m    599\u001b[0m         \u001b[0mkey\u001b[0m \u001b[0;34m=\u001b[0m \u001b[0mcom\u001b[0m\u001b[0;34m.\u001b[0m\u001b[0m_apply_if_callable\u001b[0m\u001b[0;34m(\u001b[0m\u001b[0mkey\u001b[0m\u001b[0;34m,\u001b[0m \u001b[0mself\u001b[0m\u001b[0;34m)\u001b[0m\u001b[0;34m\u001b[0m\u001b[0m\n\u001b[1;32m    600\u001b[0m         \u001b[0;32mtry\u001b[0m\u001b[0;34m:\u001b[0m\u001b[0;34m\u001b[0m\u001b[0m\n\u001b[0;32m--> 601\u001b[0;31m             \u001b[0mresult\u001b[0m \u001b[0;34m=\u001b[0m \u001b[0mself\u001b[0m\u001b[0;34m.\u001b[0m\u001b[0mindex\u001b[0m\u001b[0;34m.\u001b[0m\u001b[0mget_value\u001b[0m\u001b[0;34m(\u001b[0m\u001b[0mself\u001b[0m\u001b[0;34m,\u001b[0m \u001b[0mkey\u001b[0m\u001b[0;34m)\u001b[0m\u001b[0;34m\u001b[0m\u001b[0m\n\u001b[0m\u001b[1;32m    602\u001b[0m \u001b[0;34m\u001b[0m\u001b[0m\n\u001b[1;32m    603\u001b[0m             \u001b[0;32mif\u001b[0m \u001b[0;32mnot\u001b[0m \u001b[0mis_scalar\u001b[0m\u001b[0;34m(\u001b[0m\u001b[0mresult\u001b[0m\u001b[0;34m)\u001b[0m\u001b[0;34m:\u001b[0m\u001b[0;34m\u001b[0m\u001b[0m\n",
      "\u001b[0;31mKeyboardInterrupt\u001b[0m: "
     ]
    }
   ],
   "source": [
    "# Outer training loop\n",
    "## Training loop\n",
    "for epoch in range(num_epochs):\n",
    "    for data in dataloader:\n",
    "        img = Variable(data).cuda()\n",
    "        output = net(img)\n",
    "        output = (output+1)*50\n",
    "        output = output*boundary_mask + img*center_mask\n",
    "        loss = criterion(output)\n",
    "        optimizer.zero_grad()\n",
    "        loss.backward()\n",
    "        optimizer.step()\n",
    "    print('epoch [{}/{}], loss:{:.4f}'\n",
    "          .format(epoch+1, num_epochs, loss.data[0]))\n",
    "#     if epoch % 10 == 0:\n",
    "#         train_pic = to_img(img.cpu().data)\n",
    "#         gen_pic = to_img(output.cpu().data)\n",
    "#         save_image(train_pic, './decoded_mnist/image_{}_train.png'.format(epoch))\n",
    "#         save_image(gen_pic, './decoded_mnist/image_{}_gen.png'.format(epoch))"
   ]
  },
  {
   "cell_type": "code",
   "execution_count": 49,
   "metadata": {
    "scrolled": true
   },
   "outputs": [
    {
     "name": "stdout",
     "output_type": "stream",
     "text": [
      "epoch [1/200], loss:35.4262\n",
      "epoch [2/200], loss:31.0651\n",
      "epoch [3/200], loss:26.3580\n",
      "epoch [4/200], loss:23.1645\n",
      "epoch [5/200], loss:22.0071\n",
      "epoch [6/200], loss:20.9081\n",
      "epoch [7/200], loss:18.3824\n",
      "epoch [8/200], loss:17.0166\n",
      "epoch [9/200], loss:16.4633\n",
      "epoch [10/200], loss:16.2147\n",
      "epoch [11/200], loss:16.1791\n",
      "epoch [12/200], loss:16.1377\n",
      "epoch [13/200], loss:16.0933\n",
      "epoch [14/200], loss:16.0873\n",
      "epoch [15/200], loss:16.0708\n",
      "epoch [16/200], loss:16.0399\n",
      "epoch [17/200], loss:16.0384\n",
      "epoch [18/200], loss:16.0390\n",
      "epoch [19/200], loss:16.0373\n",
      "epoch [20/200], loss:16.0286\n",
      "epoch [21/200], loss:16.0250\n",
      "epoch [22/200], loss:16.0258\n",
      "epoch [23/200], loss:16.0223\n",
      "epoch [24/200], loss:16.0219\n",
      "epoch [25/200], loss:16.0186\n",
      "epoch [26/200], loss:16.0162\n",
      "epoch [27/200], loss:16.0161\n",
      "epoch [28/200], loss:16.0139\n"
     ]
    },
    {
     "ename": "KeyboardInterrupt",
     "evalue": "",
     "output_type": "error",
     "traceback": [
      "\u001b[0;31m---------------------------------------------------------------------------\u001b[0m",
      "\u001b[0;31mKeyboardInterrupt\u001b[0m                         Traceback (most recent call last)",
      "\u001b[0;32m<ipython-input-49-af9b53ed4806>\u001b[0m in \u001b[0;36m<module>\u001b[0;34m()\u001b[0m\n\u001b[1;32m      2\u001b[0m \u001b[0moptimizer\u001b[0m \u001b[0;34m=\u001b[0m \u001b[0moptim\u001b[0m\u001b[0;34m.\u001b[0m\u001b[0mAdam\u001b[0m\u001b[0;34m(\u001b[0m\u001b[0mnet\u001b[0m\u001b[0;34m.\u001b[0m\u001b[0mparameters\u001b[0m\u001b[0;34m(\u001b[0m\u001b[0;34m)\u001b[0m\u001b[0;34m,\u001b[0m \u001b[0mlr\u001b[0m\u001b[0;34m=\u001b[0m\u001b[0mlearning_rate\u001b[0m\u001b[0;34m)\u001b[0m\u001b[0;34m\u001b[0m\u001b[0m\n\u001b[1;32m      3\u001b[0m \u001b[0;32mfor\u001b[0m \u001b[0mepoch\u001b[0m \u001b[0;32min\u001b[0m \u001b[0mrange\u001b[0m\u001b[0;34m(\u001b[0m\u001b[0mnum_epochs\u001b[0m\u001b[0;34m)\u001b[0m\u001b[0;34m:\u001b[0m\u001b[0;34m\u001b[0m\u001b[0m\n\u001b[0;32m----> 4\u001b[0;31m     \u001b[0;32mfor\u001b[0m \u001b[0mdata\u001b[0m \u001b[0;32min\u001b[0m \u001b[0mdataloader\u001b[0m\u001b[0;34m:\u001b[0m\u001b[0;34m\u001b[0m\u001b[0m\n\u001b[0m\u001b[1;32m      5\u001b[0m         \u001b[0mbc\u001b[0m \u001b[0;34m=\u001b[0m \u001b[0mVariable\u001b[0m\u001b[0;34m(\u001b[0m\u001b[0mdata\u001b[0m\u001b[0;34m[\u001b[0m\u001b[0;36m0\u001b[0m\u001b[0;34m]\u001b[0m\u001b[0;34m)\u001b[0m\u001b[0;34m.\u001b[0m\u001b[0mcuda\u001b[0m\u001b[0;34m(\u001b[0m\u001b[0;34m)\u001b[0m\u001b[0;34m\u001b[0m\u001b[0m\n\u001b[1;32m      6\u001b[0m         \u001b[0moutput\u001b[0m \u001b[0;34m=\u001b[0m \u001b[0mnet\u001b[0m\u001b[0;34m(\u001b[0m\u001b[0mbc\u001b[0m\u001b[0;34m)\u001b[0m\u001b[0;34m\u001b[0m\u001b[0m\n",
      "\u001b[0;32m~/DeepPhysics/deepphys/lib/python3.5/site-packages/torch/utils/data/dataloader.py\u001b[0m in \u001b[0;36m__next__\u001b[0;34m(self)\u001b[0m\n\u001b[1;32m    177\u001b[0m         \u001b[0;32mif\u001b[0m \u001b[0mself\u001b[0m\u001b[0;34m.\u001b[0m\u001b[0mnum_workers\u001b[0m \u001b[0;34m==\u001b[0m \u001b[0;36m0\u001b[0m\u001b[0;34m:\u001b[0m  \u001b[0;31m# same-process loading\u001b[0m\u001b[0;34m\u001b[0m\u001b[0m\n\u001b[1;32m    178\u001b[0m             \u001b[0mindices\u001b[0m \u001b[0;34m=\u001b[0m \u001b[0mnext\u001b[0m\u001b[0;34m(\u001b[0m\u001b[0mself\u001b[0m\u001b[0;34m.\u001b[0m\u001b[0msample_iter\u001b[0m\u001b[0;34m)\u001b[0m  \u001b[0;31m# may raise StopIteration\u001b[0m\u001b[0;34m\u001b[0m\u001b[0m\n\u001b[0;32m--> 179\u001b[0;31m             \u001b[0mbatch\u001b[0m \u001b[0;34m=\u001b[0m \u001b[0mself\u001b[0m\u001b[0;34m.\u001b[0m\u001b[0mcollate_fn\u001b[0m\u001b[0;34m(\u001b[0m\u001b[0;34m[\u001b[0m\u001b[0mself\u001b[0m\u001b[0;34m.\u001b[0m\u001b[0mdataset\u001b[0m\u001b[0;34m[\u001b[0m\u001b[0mi\u001b[0m\u001b[0;34m]\u001b[0m \u001b[0;32mfor\u001b[0m \u001b[0mi\u001b[0m \u001b[0;32min\u001b[0m \u001b[0mindices\u001b[0m\u001b[0;34m]\u001b[0m\u001b[0;34m)\u001b[0m\u001b[0;34m\u001b[0m\u001b[0m\n\u001b[0m\u001b[1;32m    180\u001b[0m             \u001b[0;32mif\u001b[0m \u001b[0mself\u001b[0m\u001b[0;34m.\u001b[0m\u001b[0mpin_memory\u001b[0m\u001b[0;34m:\u001b[0m\u001b[0;34m\u001b[0m\u001b[0m\n\u001b[1;32m    181\u001b[0m                 \u001b[0mbatch\u001b[0m \u001b[0;34m=\u001b[0m \u001b[0mpin_memory_batch\u001b[0m\u001b[0;34m(\u001b[0m\u001b[0mbatch\u001b[0m\u001b[0;34m)\u001b[0m\u001b[0;34m\u001b[0m\u001b[0m\n",
      "\u001b[0;32m~/DeepPhysics/deepphys/lib/python3.5/site-packages/torch/utils/data/dataloader.py\u001b[0m in \u001b[0;36m<listcomp>\u001b[0;34m(.0)\u001b[0m\n\u001b[1;32m    177\u001b[0m         \u001b[0;32mif\u001b[0m \u001b[0mself\u001b[0m\u001b[0;34m.\u001b[0m\u001b[0mnum_workers\u001b[0m \u001b[0;34m==\u001b[0m \u001b[0;36m0\u001b[0m\u001b[0;34m:\u001b[0m  \u001b[0;31m# same-process loading\u001b[0m\u001b[0;34m\u001b[0m\u001b[0m\n\u001b[1;32m    178\u001b[0m             \u001b[0mindices\u001b[0m \u001b[0;34m=\u001b[0m \u001b[0mnext\u001b[0m\u001b[0;34m(\u001b[0m\u001b[0mself\u001b[0m\u001b[0;34m.\u001b[0m\u001b[0msample_iter\u001b[0m\u001b[0;34m)\u001b[0m  \u001b[0;31m# may raise StopIteration\u001b[0m\u001b[0;34m\u001b[0m\u001b[0m\n\u001b[0;32m--> 179\u001b[0;31m             \u001b[0mbatch\u001b[0m \u001b[0;34m=\u001b[0m \u001b[0mself\u001b[0m\u001b[0;34m.\u001b[0m\u001b[0mcollate_fn\u001b[0m\u001b[0;34m(\u001b[0m\u001b[0;34m[\u001b[0m\u001b[0mself\u001b[0m\u001b[0;34m.\u001b[0m\u001b[0mdataset\u001b[0m\u001b[0;34m[\u001b[0m\u001b[0mi\u001b[0m\u001b[0;34m]\u001b[0m \u001b[0;32mfor\u001b[0m \u001b[0mi\u001b[0m \u001b[0;32min\u001b[0m \u001b[0mindices\u001b[0m\u001b[0;34m]\u001b[0m\u001b[0;34m)\u001b[0m\u001b[0;34m\u001b[0m\u001b[0m\n\u001b[0m\u001b[1;32m    180\u001b[0m             \u001b[0;32mif\u001b[0m \u001b[0mself\u001b[0m\u001b[0;34m.\u001b[0m\u001b[0mpin_memory\u001b[0m\u001b[0;34m:\u001b[0m\u001b[0;34m\u001b[0m\u001b[0m\n\u001b[1;32m    181\u001b[0m                 \u001b[0mbatch\u001b[0m \u001b[0;34m=\u001b[0m \u001b[0mpin_memory_batch\u001b[0m\u001b[0;34m(\u001b[0m\u001b[0mbatch\u001b[0m\u001b[0;34m)\u001b[0m\u001b[0;34m\u001b[0m\u001b[0m\n",
      "\u001b[0;32m~/DeepPhysics/physics_informed_heat_loss/datasets.py\u001b[0m in \u001b[0;36m__getitem__\u001b[0;34m(self, index)\u001b[0m\n\u001b[1;32m     21\u001b[0m \u001b[0;34m\u001b[0m\u001b[0m\n\u001b[1;32m     22\u001b[0m     \u001b[0;32mdef\u001b[0m \u001b[0m__getitem__\u001b[0m\u001b[0;34m(\u001b[0m\u001b[0mself\u001b[0m\u001b[0;34m,\u001b[0m \u001b[0mindex\u001b[0m\u001b[0;34m)\u001b[0m\u001b[0;34m:\u001b[0m\u001b[0;34m\u001b[0m\u001b[0m\n\u001b[0;32m---> 23\u001b[0;31m         \u001b[0;32mreturn\u001b[0m \u001b[0;34m(\u001b[0m\u001b[0mtorch\u001b[0m\u001b[0;34m.\u001b[0m\u001b[0mTensor\u001b[0m\u001b[0;34m(\u001b[0m\u001b[0mself\u001b[0m\u001b[0;34m.\u001b[0m\u001b[0mimgs\u001b[0m\u001b[0;34m[\u001b[0m\u001b[0mindex\u001b[0m\u001b[0;34m]\u001b[0m\u001b[0;34m[\u001b[0m\u001b[0;36m0\u001b[0m\u001b[0;34m]\u001b[0m\u001b[0;34m)\u001b[0m\u001b[0;34m.\u001b[0m\u001b[0munsqueeze\u001b[0m\u001b[0;34m(\u001b[0m\u001b[0;36m0\u001b[0m\u001b[0;34m)\u001b[0m\u001b[0;34m,\u001b[0m \u001b[0mtorch\u001b[0m\u001b[0;34m.\u001b[0m\u001b[0mTensor\u001b[0m\u001b[0;34m(\u001b[0m\u001b[0mself\u001b[0m\u001b[0;34m.\u001b[0m\u001b[0mimgs\u001b[0m\u001b[0;34m[\u001b[0m\u001b[0mindex\u001b[0m\u001b[0;34m]\u001b[0m\u001b[0;34m[\u001b[0m\u001b[0;36m1\u001b[0m\u001b[0;34m]\u001b[0m\u001b[0;34m)\u001b[0m\u001b[0;34m.\u001b[0m\u001b[0munsqueeze\u001b[0m\u001b[0;34m(\u001b[0m\u001b[0;36m0\u001b[0m\u001b[0;34m)\u001b[0m\u001b[0;34m)\u001b[0m\u001b[0;34m\u001b[0m\u001b[0m\n\u001b[0m\u001b[1;32m     24\u001b[0m \u001b[0;34m\u001b[0m\u001b[0m\n\u001b[1;32m     25\u001b[0m     \u001b[0;32mdef\u001b[0m \u001b[0m__len__\u001b[0m\u001b[0;34m(\u001b[0m\u001b[0mself\u001b[0m\u001b[0;34m)\u001b[0m\u001b[0;34m:\u001b[0m\u001b[0;34m\u001b[0m\u001b[0m\n",
      "\u001b[0;32m~/DeepPhysics/deepphys/lib/python3.5/site-packages/pandas/core/series.py\u001b[0m in \u001b[0;36m__getitem__\u001b[0;34m(self, key)\u001b[0m\n\u001b[1;32m    599\u001b[0m         \u001b[0mkey\u001b[0m \u001b[0;34m=\u001b[0m \u001b[0mcom\u001b[0m\u001b[0;34m.\u001b[0m\u001b[0m_apply_if_callable\u001b[0m\u001b[0;34m(\u001b[0m\u001b[0mkey\u001b[0m\u001b[0;34m,\u001b[0m \u001b[0mself\u001b[0m\u001b[0;34m)\u001b[0m\u001b[0;34m\u001b[0m\u001b[0m\n\u001b[1;32m    600\u001b[0m         \u001b[0;32mtry\u001b[0m\u001b[0;34m:\u001b[0m\u001b[0;34m\u001b[0m\u001b[0m\n\u001b[0;32m--> 601\u001b[0;31m             \u001b[0mresult\u001b[0m \u001b[0;34m=\u001b[0m \u001b[0mself\u001b[0m\u001b[0;34m.\u001b[0m\u001b[0mindex\u001b[0m\u001b[0;34m.\u001b[0m\u001b[0mget_value\u001b[0m\u001b[0;34m(\u001b[0m\u001b[0mself\u001b[0m\u001b[0;34m,\u001b[0m \u001b[0mkey\u001b[0m\u001b[0;34m)\u001b[0m\u001b[0;34m\u001b[0m\u001b[0m\n\u001b[0m\u001b[1;32m    602\u001b[0m \u001b[0;34m\u001b[0m\u001b[0m\n\u001b[1;32m    603\u001b[0m             \u001b[0;32mif\u001b[0m \u001b[0;32mnot\u001b[0m \u001b[0mis_scalar\u001b[0m\u001b[0;34m(\u001b[0m\u001b[0mresult\u001b[0m\u001b[0;34m)\u001b[0m\u001b[0;34m:\u001b[0m\u001b[0;34m\u001b[0m\u001b[0m\n",
      "\u001b[0;32m~/DeepPhysics/deepphys/lib/python3.5/site-packages/pandas/core/indexes/base.py\u001b[0m in \u001b[0;36mget_value\u001b[0;34m(self, series, key)\u001b[0m\n\u001b[1;32m   2472\u001b[0m         \u001b[0mk\u001b[0m \u001b[0;34m=\u001b[0m \u001b[0m_values_from_object\u001b[0m\u001b[0;34m(\u001b[0m\u001b[0mkey\u001b[0m\u001b[0;34m)\u001b[0m\u001b[0;34m\u001b[0m\u001b[0m\n\u001b[1;32m   2473\u001b[0m \u001b[0;34m\u001b[0m\u001b[0m\n\u001b[0;32m-> 2474\u001b[0;31m         \u001b[0mk\u001b[0m \u001b[0;34m=\u001b[0m \u001b[0mself\u001b[0m\u001b[0;34m.\u001b[0m\u001b[0m_convert_scalar_indexer\u001b[0m\u001b[0;34m(\u001b[0m\u001b[0mk\u001b[0m\u001b[0;34m,\u001b[0m \u001b[0mkind\u001b[0m\u001b[0;34m=\u001b[0m\u001b[0;34m'getitem'\u001b[0m\u001b[0;34m)\u001b[0m\u001b[0;34m\u001b[0m\u001b[0m\n\u001b[0m\u001b[1;32m   2475\u001b[0m         \u001b[0;32mtry\u001b[0m\u001b[0;34m:\u001b[0m\u001b[0;34m\u001b[0m\u001b[0m\n\u001b[1;32m   2476\u001b[0m             return self._engine.get_value(s, k,\n",
      "\u001b[0;32m~/DeepPhysics/deepphys/lib/python3.5/site-packages/pandas/core/indexes/numeric.py\u001b[0m in \u001b[0;36m_convert_scalar_indexer\u001b[0;34m(self, key, kind)\u001b[0m\n\u001b[1;32m    140\u001b[0m             \u001b[0mkey\u001b[0m \u001b[0;34m=\u001b[0m \u001b[0mself\u001b[0m\u001b[0;34m.\u001b[0m\u001b[0m_maybe_cast_indexer\u001b[0m\u001b[0;34m(\u001b[0m\u001b[0mkey\u001b[0m\u001b[0;34m)\u001b[0m\u001b[0;34m\u001b[0m\u001b[0m\n\u001b[1;32m    141\u001b[0m         return (super(Int64Index, self)\n\u001b[0;32m--> 142\u001b[0;31m                 ._convert_scalar_indexer(key, kind=kind))\n\u001b[0m\u001b[1;32m    143\u001b[0m \u001b[0;34m\u001b[0m\u001b[0m\n\u001b[1;32m    144\u001b[0m     \u001b[0;32mdef\u001b[0m \u001b[0m_wrap_joined_index\u001b[0m\u001b[0;34m(\u001b[0m\u001b[0mself\u001b[0m\u001b[0;34m,\u001b[0m \u001b[0mjoined\u001b[0m\u001b[0;34m,\u001b[0m \u001b[0mother\u001b[0m\u001b[0;34m)\u001b[0m\u001b[0;34m:\u001b[0m\u001b[0;34m\u001b[0m\u001b[0m\n",
      "\u001b[0;32m~/DeepPhysics/deepphys/lib/python3.5/site-packages/pandas/core/indexes/base.py\u001b[0m in \u001b[0;36m_convert_scalar_indexer\u001b[0;34m(self, key, kind)\u001b[0m\n\u001b[1;32m   1303\u001b[0m     \u001b[0;34m@\u001b[0m\u001b[0mAppender\u001b[0m\u001b[0;34m(\u001b[0m\u001b[0m_index_shared_docs\u001b[0m\u001b[0;34m[\u001b[0m\u001b[0;34m'_convert_scalar_indexer'\u001b[0m\u001b[0;34m]\u001b[0m\u001b[0;34m)\u001b[0m\u001b[0;34m\u001b[0m\u001b[0m\n\u001b[1;32m   1304\u001b[0m     \u001b[0;32mdef\u001b[0m \u001b[0m_convert_scalar_indexer\u001b[0m\u001b[0;34m(\u001b[0m\u001b[0mself\u001b[0m\u001b[0;34m,\u001b[0m \u001b[0mkey\u001b[0m\u001b[0;34m,\u001b[0m \u001b[0mkind\u001b[0m\u001b[0;34m=\u001b[0m\u001b[0;32mNone\u001b[0m\u001b[0;34m)\u001b[0m\u001b[0;34m:\u001b[0m\u001b[0;34m\u001b[0m\u001b[0m\n\u001b[0;32m-> 1305\u001b[0;31m         \u001b[0;32massert\u001b[0m \u001b[0mkind\u001b[0m \u001b[0;32min\u001b[0m \u001b[0;34m[\u001b[0m\u001b[0;34m'ix'\u001b[0m\u001b[0;34m,\u001b[0m \u001b[0;34m'loc'\u001b[0m\u001b[0;34m,\u001b[0m \u001b[0;34m'getitem'\u001b[0m\u001b[0;34m,\u001b[0m \u001b[0;34m'iloc'\u001b[0m\u001b[0;34m,\u001b[0m \u001b[0;32mNone\u001b[0m\u001b[0;34m]\u001b[0m\u001b[0;34m\u001b[0m\u001b[0m\n\u001b[0m\u001b[1;32m   1306\u001b[0m \u001b[0;34m\u001b[0m\u001b[0m\n\u001b[1;32m   1307\u001b[0m         \u001b[0;32mif\u001b[0m \u001b[0mkind\u001b[0m \u001b[0;34m==\u001b[0m \u001b[0;34m'iloc'\u001b[0m\u001b[0;34m:\u001b[0m\u001b[0;34m\u001b[0m\u001b[0m\n",
      "\u001b[0;31mKeyboardInterrupt\u001b[0m: "
     ]
    }
   ],
   "source": [
    "criterion = F.mse_loss\n",
    "optimizer = optim.Adam(net.parameters(), lr=learning_rate)\n",
    "for epoch in range(num_epochs):\n",
    "    for data in dataloader:\n",
    "        bc = Variable(data[0]).cuda()\n",
    "        output = net(bc)\n",
    "#         output = output*boundary_mask + img*center_mask\n",
    "#         ground_truth = Variable(data[0]).cuda()\n",
    "        ground_truth = Variable(torch.ones(bc.size())).cuda()*-5\n",
    "        loss = criterion(output, ground_truth)\n",
    "        optimizer.zero_grad()\n",
    "        loss.backward()\n",
    "        optimizer.step()\n",
    "    print('epoch [{}/{}], loss:{:.4f}'\n",
    "          .format(epoch+1, num_epochs, loss.data[0]))\n"
   ]
  },
  {
   "cell_type": "code",
   "execution_count": 50,
   "metadata": {},
   "outputs": [
    {
     "name": "stdout",
     "output_type": "stream",
     "text": [
      "Variable containing:\n",
      " 2.2447\n",
      "[torch.cuda.FloatTensor of size 1 (GPU 0)]\n",
      "\n"
     ]
    },
    {
     "data": {
      "text/plain": [
       "Variable containing:\n",
       "(0 ,0 ,.,.) = \n",
       " -1.0000 -1.0000 -1.0000  ...  -0.9983 -0.9999 -0.9981\n",
       " -1.0000 -1.0000 -1.0000  ...  -1.0000 -1.0000 -1.0000\n",
       " -1.0000 -1.0000 -1.0000  ...  -1.0000 -1.0000 -1.0000\n",
       "           ...             ⋱             ...          \n",
       " -1.0000 -1.0000 -1.0000  ...  -1.0000 -1.0000 -1.0000\n",
       " -1.0000 -1.0000 -1.0000  ...  -1.0000 -1.0000 -1.0000\n",
       " -1.0000 -1.0000 -1.0000  ...  -1.0000 -1.0000 -1.0000\n",
       "     ⋮ \n",
       "\n",
       "(1 ,0 ,.,.) = \n",
       " -0.9999 -1.0000 -1.0000  ...  -1.0000 -1.0000 -1.0000\n",
       " -1.0000 -1.0000 -1.0000  ...  -1.0000 -1.0000 -1.0000\n",
       " -1.0000 -1.0000 -1.0000  ...  -1.0000 -1.0000 -1.0000\n",
       "           ...             ⋱             ...          \n",
       " -1.0000 -1.0000 -1.0000  ...  -1.0000 -1.0000 -1.0000\n",
       " -1.0000 -1.0000 -1.0000  ...  -1.0000 -1.0000 -1.0000\n",
       " -1.0000 -1.0000 -1.0000  ...  -1.0000 -1.0000 -1.0000\n",
       "     ⋮ \n",
       "\n",
       "(2 ,0 ,.,.) = \n",
       " -0.9989 -1.0000 -1.0000  ...  -0.9998 -0.9999 -0.9750\n",
       " -1.0000 -1.0000 -1.0000  ...  -1.0000 -1.0000 -0.9964\n",
       " -1.0000 -1.0000 -1.0000  ...  -1.0000 -1.0000 -0.9934\n",
       "           ...             ⋱             ...          \n",
       " -1.0000 -1.0000 -1.0000  ...  -1.0000 -1.0000 -1.0000\n",
       " -1.0000 -1.0000 -1.0000  ...  -1.0000 -1.0000 -1.0000\n",
       " -1.0000 -1.0000 -1.0000  ...  -1.0000 -1.0000 -1.0000\n",
       "...   \n",
       "     ⋮ \n",
       "\n",
       "(61,0 ,.,.) = \n",
       " -1.0000 -1.0000 -1.0000  ...  -1.0000 -1.0000 -1.0000\n",
       " -1.0000 -1.0000 -1.0000  ...  -1.0000 -1.0000 -1.0000\n",
       " -1.0000 -1.0000 -1.0000  ...  -1.0000 -1.0000 -1.0000\n",
       "           ...             ⋱             ...          \n",
       " -1.0000 -1.0000 -1.0000  ...  -1.0000 -1.0000 -1.0000\n",
       " -1.0000 -1.0000 -1.0000  ...  -1.0000 -1.0000 -1.0000\n",
       " -1.0000 -1.0000 -1.0000  ...  -1.0000 -1.0000 -1.0000\n",
       "     ⋮ \n",
       "\n",
       "(62,0 ,.,.) = \n",
       " -1.0000 -1.0000 -1.0000  ...  -1.0000 -1.0000 -1.0000\n",
       " -1.0000 -1.0000 -1.0000  ...  -1.0000 -1.0000 -1.0000\n",
       " -1.0000 -1.0000 -1.0000  ...  -1.0000 -1.0000 -1.0000\n",
       "           ...             ⋱             ...          \n",
       " -1.0000 -1.0000 -1.0000  ...  -1.0000 -1.0000 -1.0000\n",
       " -1.0000 -1.0000 -1.0000  ...  -1.0000 -1.0000 -1.0000\n",
       " -1.0000 -1.0000 -1.0000  ...  -1.0000 -1.0000 -0.9999\n",
       "     ⋮ \n",
       "\n",
       "(63,0 ,.,.) = \n",
       " -1.0000 -1.0000 -1.0000  ...  -1.0000 -1.0000 -1.0000\n",
       " -1.0000 -1.0000 -1.0000  ...  -1.0000 -1.0000 -1.0000\n",
       " -1.0000 -1.0000 -1.0000  ...  -1.0000 -1.0000 -1.0000\n",
       "           ...             ⋱             ...          \n",
       " -1.0000 -1.0000 -1.0000  ...  -1.0000 -1.0000 -1.0000\n",
       " -1.0000 -1.0000 -1.0000  ...  -1.0000 -1.0000 -1.0000\n",
       " -1.0000 -1.0000 -1.0000  ...  -1.0000 -1.0000 -1.0000\n",
       "[torch.cuda.FloatTensor of size 64x1x32x32 (GPU 0)]"
      ]
     },
     "execution_count": 50,
     "metadata": {},
     "output_type": "execute_result"
    }
   ],
   "source": [
    "print(criterion(net(bc), Variable(torch.ones(bc.size())).cuda()*.5))\n",
    "net(bc)"
   ]
  },
  {
   "cell_type": "code",
   "execution_count": null,
   "metadata": {},
   "outputs": [],
   "source": [
    "## Save model"
   ]
  },
  {
   "cell_type": "code",
   "execution_count": null,
   "metadata": {},
   "outputs": [],
   "source": [
    "# Output image handling"
   ]
  },
  {
   "cell_type": "code",
   "execution_count": 17,
   "metadata": {},
   "outputs": [],
   "source": [
    "# heat = Variable(torch.Tensor(np.loadtxt('datasets/small_data/BC/0-10-20-90.csv', delimiter=','))).cuda()\n",
    "heat = Variable(torch.Tensor(np.loadtxt('datasets/%d_small/BC/0-100-20-40.csv' % data_size, delimiter=','))).cuda()\n",
    "truth = Variable(torch.Tensor(np.loadtxt('datasets/%d_small/field/0-100-20-40.csv' % data_size, delimiter=','))).cuda()"
   ]
  },
  {
   "cell_type": "code",
   "execution_count": 13,
   "metadata": {},
   "outputs": [],
   "source": [
    "output = net(heat.unsqueeze(0).unsqueeze(0))"
   ]
  },
  {
   "cell_type": "code",
   "execution_count": 14,
   "metadata": {},
   "outputs": [
    {
     "data": {
      "text/plain": [
       "Variable containing:\n",
       "(0 ,0 ,.,.) = \n",
       " -0.9434 -0.9779  0.9826  ...  -0.9472 -1.0000 -0.8765\n",
       " -0.9815 -0.9994  0.4559  ...   0.4792 -0.0563  1.0000\n",
       " -0.4343 -0.9999 -0.9990  ...  -0.1499 -0.4565  0.9999\n",
       "           ...             ⋱             ...          \n",
       " -0.9632 -0.9999 -0.9999  ...  -0.8612 -0.5222  0.9730\n",
       " -0.8867 -0.9999 -0.9997  ...  -0.8871 -0.6834 -0.1470\n",
       " -0.4063 -0.9645 -0.9542  ...  -0.3826 -0.3825  0.3361\n",
       "[torch.cuda.FloatTensor of size 1x1x32x32 (GPU 0)]"
      ]
     },
     "execution_count": 14,
     "metadata": {},
     "output_type": "execute_result"
    }
   ],
   "source": [
    "output"
   ]
  },
  {
   "cell_type": "code",
   "execution_count": 18,
   "metadata": {},
   "outputs": [
    {
     "data": {
      "image/png": "[encoded data removed]",
      "text/plain": [
       "<matplotlib.figure.Figure at 0x7fd5f1c320b8>"
      ]
     },
     "metadata": {},
     "output_type": "display_data"
    },
    {
     "data": {
      "image/png": "[encoded data removed]",
      "text/plain": [
       "<matplotlib.figure.Figure at 0x7fd5f185fcf8>"
      ]
     },
     "metadata": {},
     "output_type": "display_data"
    }
   ],
   "source": [
    "plt.figure(figsize=(10,10))\n",
    "XX, YY = np.meshgrid(np.arange(0, data_size), np.arange(0, data_size))\n",
    "plt.contourf(XX, YY, output.cpu().data.numpy()[0,0,:,:], colorinterpolation=50, cmap=plt.cm.jet)\n",
    "# plt.imshow(output.cpu().data.numpy()[0,0,:,:])\n",
    "# plt.colorbar()\n",
    "plt.show()\n",
    "\n",
    "plt.figure(figsize=(10,10))\n",
    "XX, YY = np.meshgrid(np.arange(0, data_size), np.arange(0, data_size))\n",
    "plt.contourf(XX, YY, truth.cpu().data.numpy(), colorinterpolation=50, cmap=plt.cm.jet)\n",
    "# plt.imshow(heat.cpu().data.numpy())\n",
    "# plt.colorbar()\n",
    "plt.show()"
   ]
  },
  {
   "cell_type": "markdown",
   "metadata": {},
   "source": [
    "---\n",
    "\n",
    "---\n",
    "\n",
    "---\n",
    "\n",
    "---\n",
    "\n",
    "---\n",
    "\n",
    "---\n",
    "# Miscellaneous Tests"
   ]
  },
  {
   "cell_type": "code",
   "execution_count": 2,
   "metadata": {},
   "outputs": [],
   "source": [
    "kernel_ = np.array([[0, 1/4, 0], [1/4, -1, 1/4], [0, 1/4, 0]])\n",
    "kernel = Variable(torch.Tensor(kernel_))\n",
    "img = Variable(torch.rand(10,10))\n",
    "\n",
    "def physical_loss(img):\n",
    "#     return F.conv2d((img.unsqueeze(0)).unsqueeze(0), kernel.unsqueeze(0).unsqueeze(0)).norm()\n",
    "    return F.conv2d((img.unsqueeze(0)).unsqueeze(0), kernel.unsqueeze(0).unsqueeze(0))"
   ]
  },
  {
   "cell_type": "code",
   "execution_count": 4,
   "metadata": {},
   "outputs": [
    {
     "data": {
      "text/plain": [
       "Variable containing:\n",
       "(0 ,0 ,.,.) = \n",
       "  0.0292  0.3121 -0.2342 -0.1250 -0.2445 -0.3733 -0.2806 -0.1527\n",
       " -0.1400  0.0060  0.4090 -0.1374  0.3424  0.0427  0.4813 -0.0692\n",
       " -0.4020  0.5477 -0.7780  0.2630  0.0718  0.2802  0.2284 -0.6202\n",
       "  0.1652 -0.6265  0.2452  0.3149 -0.2875 -0.3081 -0.1356  0.6590\n",
       " -0.3522  0.6148 -0.2975  0.1686 -0.2690 -0.1233  0.1784 -0.2472\n",
       " -0.0768 -0.2584  0.2547  0.2669 -0.1479  0.3965  0.1607  0.1083\n",
       " -0.4120  0.3863  0.2018 -0.5286  0.2726 -0.0041 -0.4462  0.2418\n",
       "  0.5019  0.2671 -0.2837 -0.2454 -0.3699 -0.2484  0.1922  0.3512\n",
       "[torch.FloatTensor of size 1x1x8x8]"
      ]
     },
     "execution_count": 4,
     "metadata": {},
     "output_type": "execute_result"
    }
   ],
   "source": [
    "physical_loss(img)"
   ]
  },
  {
   "cell_type": "code",
   "execution_count": 5,
   "metadata": {},
   "outputs": [
    {
     "data": {
      "text/plain": [
       "Variable containing:\n",
       " 20.0000  10.0000  10.0000  ...   10.0000  10.0000  90.0000\n",
       " 20.0000  15.0134  13.0503  ...   34.1378  49.9750  90.0000\n",
       " 20.0000  17.0032  15.0536  ...   49.8999  65.7621  90.0000\n",
       "           ...               ⋱              ...            \n",
       " 20.0000  13.9912  10.0765  ...   44.9228  62.7501  90.0000\n",
       " 20.0000  10.0191   6.0853  ...   27.1727  44.9807  90.0000\n",
       " 20.0000   0.0000   0.0000  ...    0.0000   0.0000  90.0000\n",
       "[torch.FloatTensor of size 64x64]"
      ]
     },
     "execution_count": 5,
     "metadata": {},
     "output_type": "execute_result"
    }
   ],
   "source": [
    "# Heat is true ground truth solution\n",
    "heat_ = np.loadtxt('datasets/32_small/field/0-10-20-90.csv', delimiter=',')\n",
    "heat = Variable(torch.Tensor(heat_))\n",
    "heat"
   ]
  },
  {
   "cell_type": "code",
   "execution_count": 6,
   "metadata": {},
   "outputs": [
    {
     "data": {
      "image/png": "[encoded data removed]",
      "text/plain": [
       "<matplotlib.figure.Figure at 0x7f5a86febba8>"
      ]
     },
     "metadata": {},
     "output_type": "display_data"
    }
   ],
   "source": [
    "XX, YY = np.meshgrid(np.arange(0, 64), np.arange(0, 64))\n",
    "plt.contourf(XX, YY, heat.data.numpy(), colorinterpolation=50, cmap=plt.cm.jet, vmin=0, vmax=100)\n",
    "plt.show()"
   ]
  },
  {
   "cell_type": "code",
   "execution_count": 7,
   "metadata": {},
   "outputs": [
    {
     "data": {
      "text/plain": [
       "Variable containing:\n",
       "(0 ,0 ,.,.) = \n",
       "1.00000e-03 *\n",
       "  0.0072  0.0136  0.0191  ...   0.0143  0.0095  0.0038\n",
       "  0.0143  0.0234  0.0329  ...   0.0257  0.0124  0.0038\n",
       "  0.0191  0.0334  0.0458  ...   0.0334  0.0191  0.0076\n",
       "           ...             ⋱             ...          \n",
       "  0.0148  0.0229  0.0327  ...   0.0210  0.0095  0.0057\n",
       "  0.0088  0.0143  0.0199  ...   0.0114  0.0081 -0.0010\n",
       "  0.0038  0.0052  0.0072  ...   0.0043  0.0010 -0.0019\n",
       "[torch.FloatTensor of size 1x1x62x62]"
      ]
     },
     "execution_count": 7,
     "metadata": {},
     "output_type": "execute_result"
    }
   ],
   "source": [
    "physical_loss(heat)"
   ]
  },
  {
   "cell_type": "code",
   "execution_count": 8,
   "metadata": {},
   "outputs": [
    {
     "data": {
      "image/png": "[encoded data removed]",
      "text/plain": [
       "<matplotlib.figure.Figure at 0x7f5a84f2fcc0>"
      ]
     },
     "metadata": {},
     "output_type": "display_data"
    }
   ],
   "source": [
    "# Ground truth satisfies small value when kernel is applied\n",
    "plt.imshow(physical_loss(heat).data.numpy()[0,0,:,:])\n",
    "plt.colorbar()\n",
    "plt.show()"
   ]
  },
  {
   "cell_type": "code",
   "execution_count": null,
   "metadata": {},
   "outputs": [],
   "source": []
  }
 ],
 "metadata": {
  "kernelspec": {
   "display_name": "Python 3",
   "language": "python",
   "name": "python3"
  },
  "language_info": {
   "codemirror_mode": {
    "name": "ipython",
    "version": 3
   },
   "file_extension": ".py",
   "mimetype": "text/x-python",
   "name": "python",
   "nbconvert_exporter": "python",
   "pygments_lexer": "ipython3",
   "version": "3.5.2"
  }
 },
 "nbformat": 4,
 "nbformat_minor": 2
}
